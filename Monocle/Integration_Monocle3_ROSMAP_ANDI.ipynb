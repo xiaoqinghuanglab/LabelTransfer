{
 "cells": [
  {
   "cell_type": "code",
   "execution_count": 1,
   "id": "2970260c-700d-4950-aa1e-756aae0f4e03",
   "metadata": {
    "tags": []
   },
   "outputs": [
    {
     "name": "stderr",
     "output_type": "stream",
     "text": [
      "/Users/yijwang-admin/anaconda3/lib/python3.10/site-packages/tqdm/auto.py:22: TqdmWarning: IProgress not found. Please update jupyter and ipywidgets. See https://ipywidgets.readthedocs.io/en/stable/user_install.html\n",
      "  from .autonotebook import tqdm as notebook_tqdm\n"
     ]
    }
   ],
   "source": [
    "import scanpy as sc\n",
    "import pandas as pd\n",
    "import seaborn as sns\n",
    "import anndata as ad\n",
    "import numpy as np"
   ]
  },
  {
   "cell_type": "code",
   "execution_count": 2,
   "id": "940b7250-7ce1-4e18-a4da-e91c3d80e98d",
   "metadata": {
    "tags": []
   },
   "outputs": [],
   "source": [
    "# read in data\n",
    "with open(\"../../../Data/ROSMAP_blood_gene_expression_monocyte_ACTL_04172023.csv\") as your_data:\n",
    "    adata_rosmap = ad.read_csv(your_data, delimiter=',')\n",
    "adata_rosmap = adata_rosmap.T\n",
    "    \n",
    "with open(\"../../../Data/ADNI_blood_gene_expression_gene_aligned_04172023.csv\") as your_data:\n",
    "    adata_adni = ad.read_csv(your_data, delimiter=',')\n",
    "adata_adni = adata_adni.T\n",
    "    \n",
    "# read in label\n",
    "Blood_Info = pd.read_csv(\"../../../Data/ROSMAP_blood_clinical_monocyte_ACTL_04172023.csv\",header=0, index_col=0)\n",
    "\n",
    "# read in label\n",
    "Blood_Adni_Info = pd.read_csv(\"../../../Data/ADNI_blood_clinical_04172023.csv\",header=0, index_col=0)\n",
    "\n",
    "# read in projection from Monocle3\n",
    "ADNI_Transferred_Label = pd.read_csv(\"../../../Data/Monocle_LabelTransfer_ROSMAP_ADNI.csv\")"
   ]
  },
  {
   "cell_type": "code",
   "execution_count": 3,
   "id": "82df1cbf-f077-44df-a77f-89ca68f8cab5",
   "metadata": {
    "tags": []
   },
   "outputs": [],
   "source": [
    "SID = list(ADNI_Transferred_Label['X'])\n",
    "PreLabel = list(ADNI_Transferred_Label['cell_type_fix'])\n",
    "Mapping_ADNIID_PreLabel = dict(zip(SID, PreLabel))"
   ]
  },
  {
   "cell_type": "code",
   "execution_count": 4,
   "id": "56af73c5-d5f2-43a8-bc24-f12923c88c2c",
   "metadata": {
    "tags": []
   },
   "outputs": [],
   "source": [
    "#Mapping_ADNIID_PreLabel"
   ]
  },
  {
   "cell_type": "code",
   "execution_count": 5,
   "id": "6d0a0336-7e7f-4cec-abc1-a735df051caa",
   "metadata": {
    "tags": []
   },
   "outputs": [
    {
     "data": {
      "text/html": [
       "<div>\n",
       "<style scoped>\n",
       "    .dataframe tbody tr th:only-of-type {\n",
       "        vertical-align: middle;\n",
       "    }\n",
       "\n",
       "    .dataframe tbody tr th {\n",
       "        vertical-align: top;\n",
       "    }\n",
       "\n",
       "    .dataframe thead th {\n",
       "        text-align: right;\n",
       "    }\n",
       "</style>\n",
       "<table border=\"1\" class=\"dataframe\">\n",
       "  <thead>\n",
       "    <tr style=\"text-align: right;\">\n",
       "      <th></th>\n",
       "      <th>Unnamed: 0</th>\n",
       "      <th>X</th>\n",
       "      <th>Label</th>\n",
       "      <th>Gender</th>\n",
       "      <th>Age</th>\n",
       "      <th>Size_Factor</th>\n",
       "      <th>data_set</th>\n",
       "      <th>cell_type_xfr</th>\n",
       "      <th>cell_type_fix</th>\n",
       "    </tr>\n",
       "  </thead>\n",
       "  <tbody>\n",
       "    <tr>\n",
       "      <th>0</th>\n",
       "      <td>1</td>\n",
       "      <td>116_S_1249</td>\n",
       "      <td>Asym AD</td>\n",
       "      <td>0</td>\n",
       "      <td>75</td>\n",
       "      <td>1.008569</td>\n",
       "      <td>query</td>\n",
       "      <td>Typical AD</td>\n",
       "      <td>Typical AD</td>\n",
       "    </tr>\n",
       "    <tr>\n",
       "      <th>1</th>\n",
       "      <td>2</td>\n",
       "      <td>037_S_4410</td>\n",
       "      <td>Asym AD</td>\n",
       "      <td>0</td>\n",
       "      <td>69</td>\n",
       "      <td>1.013750</td>\n",
       "      <td>query</td>\n",
       "      <td>Typical AD</td>\n",
       "      <td>Typical AD</td>\n",
       "    </tr>\n",
       "    <tr>\n",
       "      <th>2</th>\n",
       "      <td>3</td>\n",
       "      <td>006_S_4153</td>\n",
       "      <td>Asym AD</td>\n",
       "      <td>1</td>\n",
       "      <td>79</td>\n",
       "      <td>0.999273</td>\n",
       "      <td>query</td>\n",
       "      <td>Typical AD</td>\n",
       "      <td>Typical AD</td>\n",
       "    </tr>\n",
       "    <tr>\n",
       "      <th>3</th>\n",
       "      <td>4</td>\n",
       "      <td>116_S_1232</td>\n",
       "      <td>Typical AD</td>\n",
       "      <td>0</td>\n",
       "      <td>76</td>\n",
       "      <td>0.994592</td>\n",
       "      <td>query</td>\n",
       "      <td>Typical AD</td>\n",
       "      <td>Typical AD</td>\n",
       "    </tr>\n",
       "    <tr>\n",
       "      <th>4</th>\n",
       "      <td>5</td>\n",
       "      <td>099_S_4205</td>\n",
       "      <td>Asym AD</td>\n",
       "      <td>0</td>\n",
       "      <td>81</td>\n",
       "      <td>1.006435</td>\n",
       "      <td>query</td>\n",
       "      <td>NaN</td>\n",
       "      <td>Typical AD</td>\n",
       "    </tr>\n",
       "    <tr>\n",
       "      <th>...</th>\n",
       "      <td>...</td>\n",
       "      <td>...</td>\n",
       "      <td>...</td>\n",
       "      <td>...</td>\n",
       "      <td>...</td>\n",
       "      <td>...</td>\n",
       "      <td>...</td>\n",
       "      <td>...</td>\n",
       "      <td>...</td>\n",
       "    </tr>\n",
       "    <tr>\n",
       "      <th>739</th>\n",
       "      <td>740</td>\n",
       "      <td>009_S_2381</td>\n",
       "      <td>Typical AD</td>\n",
       "      <td>1</td>\n",
       "      <td>69</td>\n",
       "      <td>0.990172</td>\n",
       "      <td>query</td>\n",
       "      <td>NaN</td>\n",
       "      <td>Typical AD</td>\n",
       "    </tr>\n",
       "    <tr>\n",
       "      <th>740</th>\n",
       "      <td>741</td>\n",
       "      <td>053_S_4557</td>\n",
       "      <td>Typical AD</td>\n",
       "      <td>0</td>\n",
       "      <td>83</td>\n",
       "      <td>1.002712</td>\n",
       "      <td>query</td>\n",
       "      <td>Typical AD</td>\n",
       "      <td>Typical AD</td>\n",
       "    </tr>\n",
       "    <tr>\n",
       "      <th>741</th>\n",
       "      <td>742</td>\n",
       "      <td>073_S_4300</td>\n",
       "      <td>Asym AD</td>\n",
       "      <td>0</td>\n",
       "      <td>81</td>\n",
       "      <td>1.003670</td>\n",
       "      <td>query</td>\n",
       "      <td>Typical AD</td>\n",
       "      <td>Typical AD</td>\n",
       "    </tr>\n",
       "    <tr>\n",
       "      <th>742</th>\n",
       "      <td>743</td>\n",
       "      <td>041_S_4014</td>\n",
       "      <td>Asym AD</td>\n",
       "      <td>1</td>\n",
       "      <td>81</td>\n",
       "      <td>0.993808</td>\n",
       "      <td>query</td>\n",
       "      <td>Typical AD</td>\n",
       "      <td>Typical AD</td>\n",
       "    </tr>\n",
       "    <tr>\n",
       "      <th>743</th>\n",
       "      <td>744</td>\n",
       "      <td>007_S_0101</td>\n",
       "      <td>Control</td>\n",
       "      <td>1</td>\n",
       "      <td>80</td>\n",
       "      <td>0.998619</td>\n",
       "      <td>query</td>\n",
       "      <td>Typical AD</td>\n",
       "      <td>Typical AD</td>\n",
       "    </tr>\n",
       "  </tbody>\n",
       "</table>\n",
       "<p>744 rows × 9 columns</p>\n",
       "</div>"
      ],
      "text/plain": [
       "     Unnamed: 0           X       Label  Gender  Age  Size_Factor data_set  \\\n",
       "0             1  116_S_1249     Asym AD       0   75     1.008569    query   \n",
       "1             2  037_S_4410     Asym AD       0   69     1.013750    query   \n",
       "2             3  006_S_4153     Asym AD       1   79     0.999273    query   \n",
       "3             4  116_S_1232  Typical AD       0   76     0.994592    query   \n",
       "4             5  099_S_4205     Asym AD       0   81     1.006435    query   \n",
       "..          ...         ...         ...     ...  ...          ...      ...   \n",
       "739         740  009_S_2381  Typical AD       1   69     0.990172    query   \n",
       "740         741  053_S_4557  Typical AD       0   83     1.002712    query   \n",
       "741         742  073_S_4300     Asym AD       0   81     1.003670    query   \n",
       "742         743  041_S_4014     Asym AD       1   81     0.993808    query   \n",
       "743         744  007_S_0101     Control       1   80     0.998619    query   \n",
       "\n",
       "    cell_type_xfr cell_type_fix  \n",
       "0      Typical AD    Typical AD  \n",
       "1      Typical AD    Typical AD  \n",
       "2      Typical AD    Typical AD  \n",
       "3      Typical AD    Typical AD  \n",
       "4             NaN    Typical AD  \n",
       "..            ...           ...  \n",
       "739           NaN    Typical AD  \n",
       "740    Typical AD    Typical AD  \n",
       "741    Typical AD    Typical AD  \n",
       "742    Typical AD    Typical AD  \n",
       "743    Typical AD    Typical AD  \n",
       "\n",
       "[744 rows x 9 columns]"
      ]
     },
     "execution_count": 5,
     "metadata": {},
     "output_type": "execute_result"
    }
   ],
   "source": [
    "ADNI_Transferred_Label"
   ]
  },
  {
   "cell_type": "code",
   "execution_count": 6,
   "id": "b82fd6ba-b0e2-48d8-907c-4ee7c1dc8270",
   "metadata": {
    "tags": []
   },
   "outputs": [
    {
     "name": "stdout",
     "output_type": "stream",
     "text": [
      "{'Typical AD': 46, 'Asym AD': 88, 'Control': 18, 'Low-NFT AD': 5}\n",
      "[1, 2, 2, 0, 1, 2, 1, 0, 2, 1, 2, 1, 2, 2, 2, 2, 2, 2, 2, 1, 2, 2, 2, 2, 0, 1, 2, 2, 2, 1, 1, 2, 1, 1, 1, 1, 2, 0, 1, 1, 2, 1, 2, 2, 2, 1, 2, 2, 1, 1, 2, 1, 0, 2, 2, 2, 1, 2, 2, 2, 2, 2, 2, 2, 1, 2, 2, 1, 1, 2, 2, 2, 2, 2, 2, 1, 2, 0, 2, 2, 1, 2, 2, 2, 1, 0, 0, 2, 2, 2, 1, 1, 2, 2, 0, 2, 3, 2, 1, 0, 2, 2, 3, 1, 0, 0, 2, 2, 2, 2, 3, 0, 0, 2, 2, 0, 1, 1, 1, 1, 1, 2, 2, 2, 2, 1, 1, 2, 2, 1, 2, 0, 1, 1, 2, 2, 1, 1, 2, 1, 2, 2, 0, 0, 1, 2, 2, 2, 2, 3, 1, 2, 2, 2, 3, 2, 2]\n",
      "157\n"
     ]
    }
   ],
   "source": [
    "import collections\n",
    "# For rosmap blood\n",
    "Blood_ROSMAP_Info = Blood_Info\n",
    "BloodSampleID_Rosmap = list(adata_rosmap.obs.index)\n",
    "\n",
    "SID = list(Blood_ROSMAP_Info.specimenID)\n",
    "ADType = list(Blood_ROSMAP_Info.Group1)\n",
    "Mapping = {'Control': 0, 'Typical AD': 1, 'Asym AD': 2, 'Low-NFT AD': 3}\n",
    "frequency_rosmap = collections.Counter(ADType)\n",
    "print(dict(frequency_rosmap))\n",
    "\n",
    "Rosmap_Sample_CN = list()\n",
    "Rosmap_Sample_TAD = list()\n",
    "Rosmap_Sample_AAD = list()\n",
    "for i in range(len(SID)):\n",
    "    if ADType[i] == 'Control':\n",
    "        Rosmap_Sample_CN.append(SID[i])\n",
    "    if ADType[i] == 'Typical AD' or ADType[i] == 'Low-NFT AD':\n",
    "        Rosmap_Sample_TAD.append(SID[i])\n",
    "    if ADType[i] == 'Asym AD':\n",
    "        Rosmap_Sample_AAD.append(SID[i])\n",
    "#print(Rosmap_Sample_CN)\n",
    "#print(Rosmap_Sample_TAD)\n",
    "#print(Rosmap_Sample_AAD)\n",
    "\n",
    "SType_Blood_Rosmap = list()\n",
    "for i in range(len(BloodSampleID_Rosmap)):\n",
    "    if BloodSampleID_Rosmap[i] in SID:\n",
    "        indt = SID.index(BloodSampleID_Rosmap[i])\n",
    "        tmp = Mapping[ADType[indt]]\n",
    "        SType_Blood_Rosmap.append(tmp)\n",
    "print(SType_Blood_Rosmap)\n",
    "print(len(SType_Blood_Rosmap))"
   ]
  },
  {
   "cell_type": "code",
   "execution_count": 7,
   "id": "7b348c7b-3d6d-4f85-b939-d5d38e61dc6e",
   "metadata": {
    "tags": []
   },
   "outputs": [
    {
     "name": "stdout",
     "output_type": "stream",
     "text": [
      "['CN', 'CN', 'Dementia', 'CN', 'MCI', 'MCI', 'CN', 'MCI', 'CN', 'MCI', 'MCI', 'MCI', 'MCI', 'MCI', 'MCI', 'CN', 'CN', 'MCI', 'MCI', 'CN', 'CN', 'MCI', 'MCI', 'MCI', 'MCI', 'MCI', 'Dementia', 'Dementia', 'MCI', 'MCI', 'MCI', 'Dementia', 'MCI', 'MCI', 'Dementia', 'MCI', 'MCI', 'Dementia', 'MCI', 'MCI', 'CN', 'CN', 'CN', 'MCI', 'CN', 'CN', 'MCI', 'CN', 'Dementia', 'CN', 'MCI', 'MCI', 'MCI', 'MCI', 'MCI', 'MCI', 'CN', 'CN', 'CN', 'MCI', 'CN', 'CN', 'MCI', 'MCI', 'CN', 'MCI', 'MCI', 'CN', 'Dementia', 'CN', 'CN', 'MCI', 'MCI', 'CN', 'CN', 'CN', 'MCI', 'MCI', 'Dementia', 'CN', 'MCI', 'Dementia', 'CN', 'CN', 'CN', 'MCI', 'MCI', 'MCI', 'CN', 'CN', 'MCI', 'CN', 'MCI', 'CN', 'Dementia', 'MCI', 'MCI', 'MCI', 'MCI', 'CN', 'Dementia', 'MCI', 'MCI', 'MCI', 'MCI', 'Dementia', 'Dementia', 'MCI', 'CN', 'Dementia', 'MCI', 'MCI', 'CN', 'CN', 'CN', 'MCI', 'MCI', 'MCI', 'CN', 'MCI', 'MCI', 'MCI', 'Dementia', 'MCI', 'CN', 'MCI', 'MCI', 'MCI', 'CN', 'CN', 'CN', 'MCI', 'Dementia', 'CN', 'MCI', 'MCI', 'CN', 'MCI', 'MCI', 'MCI', 'Dementia', 'CN', 'MCI', 'MCI', 'CN', 'Dementia', 'CN', 'MCI', 'MCI', 'Dementia', 'MCI', 'MCI', 'CN', 'CN', 'MCI', 'Dementia', 'CN', 'MCI', 'Dementia', 'MCI', 'CN', 'MCI', 'MCI', 'MCI', 'Dementia', 'MCI', 'CN', 'Dementia', 'MCI', 'MCI', 'MCI', 'Dementia', 'CN', 'CN', 'Dementia', 'CN', 'MCI', 'MCI', 'MCI', 'CN', 'MCI', 'CN', 'MCI', 'MCI', 'MCI', 'MCI', 'CN', 'MCI', 'MCI', 'CN', 'CN', 'MCI', 'MCI', 'CN', 'CN', 'MCI', 'MCI', 'CN', 'MCI', 'CN', 'Dementia', 'CN', 'MCI', 'MCI', 'CN', 'CN', 'CN', 'CN', 'MCI', 'CN', 'CN', 'Dementia', 'Dementia', 'MCI', 'MCI', 'Dementia', 'MCI', 'CN', 'CN', 'MCI', 'CN', 'CN', 'CN', 'MCI', 'Dementia', 'MCI', 'Dementia', 'CN', 'Dementia', 'CN', 'CN', 'MCI', 'CN', 'MCI', 'MCI', 'MCI', 'CN', 'MCI', 'Dementia', 'MCI', 'Dementia', 'CN', 'CN', 'MCI', 'CN', 'CN', 'MCI', 'MCI', 'CN', 'MCI', 'MCI', 'MCI', 'CN', 'MCI', 'MCI', 'CN', 'CN', 'CN', 'MCI', 'MCI', 'CN', 'MCI', 'MCI', 'CN', 'MCI', 'MCI', 'MCI', 'MCI', 'CN', 'Dementia', 'CN', 'MCI', 'CN', 'MCI', 'CN', 'CN', 'MCI', 'MCI', 'MCI', 'CN', 'CN', 'MCI', 'CN', 'CN', 'MCI', 'MCI', 'CN', 'Dementia', 'CN', 'MCI', 'CN', 'CN', 'MCI', 'MCI', 'CN', 'MCI', 'MCI', 'MCI', 'MCI', 'Dementia', 'MCI', 'CN', 'CN', 'MCI', 'CN', 'CN', 'MCI', 'CN', 'MCI', 'CN', 'CN', 'MCI', 'MCI', 'MCI', 'CN', 'MCI', 'CN', 'CN', 'MCI', 'MCI', 'Dementia', 'MCI', 'MCI', 'Dementia', 'MCI', 'Dementia', 'MCI', 'Dementia', 'MCI', 'MCI', 'MCI', 'MCI', 'CN', 'MCI', 'CN', 'MCI', 'CN', 'MCI', 'MCI', 'Dementia', 'MCI', 'CN', 'Dementia', 'CN', 'MCI', 'MCI', 'CN', 'MCI', 'MCI', 'MCI', 'MCI', 'CN', 'MCI', 'CN', 'MCI', 'Dementia', 'MCI', 'MCI', 'Dementia', 'MCI', 'MCI', 'Dementia', 'MCI', 'MCI', 'CN', 'MCI', 'CN', 'CN', 'Dementia', 'MCI', 'Dementia', 'CN', 'MCI', 'Dementia', 'Dementia', 'MCI', 'CN', 'MCI', 'Dementia', 'MCI', 'MCI', 'CN', 'MCI', 'MCI', 'CN', 'CN', 'MCI', 'CN', 'MCI', 'CN', 'MCI', 'MCI', 'CN', 'CN', 'MCI', 'CN', 'Dementia', 'MCI', 'CN', 'CN', 'MCI', 'MCI', 'MCI', 'MCI', 'MCI', 'MCI', 'MCI', 'MCI', 'MCI', 'MCI', 'CN', 'CN', 'MCI', 'CN', 'CN', 'MCI', 'Dementia', 'MCI', 'CN', 'MCI', 'MCI', 'MCI', 'Dementia', 'MCI', 'Dementia', 'CN', 'MCI', 'MCI', 'MCI', 'MCI', 'MCI', 'Dementia', 'CN', 'Dementia', 'Dementia', 'CN', 'MCI', 'CN', 'MCI', 'MCI', 'CN', 'Dementia', 'MCI', 'Dementia', 'CN', 'MCI', 'CN', 'MCI', 'MCI', 'MCI', 'CN', 'Dementia', 'MCI', 'MCI', 'Dementia', 'MCI', 'MCI', 'MCI', 'MCI', 'CN', 'MCI', 'Dementia', 'MCI', 'CN', 'MCI', 'Dementia', 'MCI', 'MCI', 'Dementia', 'CN', 'CN', 'MCI', 'MCI', 'CN', 'Dementia', 'Dementia', 'CN', 'Dementia', 'MCI', 'Dementia', 'MCI', 'MCI', 'MCI', 'CN', 'Dementia', 'Dementia', 'Dementia', 'MCI', 'CN', 'CN', 'MCI', 'CN', 'CN', 'CN', 'MCI', 'MCI', 'MCI', 'MCI', 'MCI', 'MCI', 'MCI', 'CN', 'CN', 'CN', 'CN', 'CN', 'MCI', 'MCI', 'MCI', 'MCI', 'MCI', 'Dementia', 'Dementia', 'MCI', 'MCI', 'MCI', 'MCI', 'MCI', 'MCI', 'MCI', 'Dementia', 'MCI', 'MCI', 'MCI', 'Dementia', 'CN', 'CN', 'Dementia', 'Dementia', 'CN', 'CN', 'CN', 'CN', 'CN', 'MCI', 'MCI', 'CN', 'MCI', 'CN', 'Dementia', 'Dementia', 'Dementia', 'MCI', 'MCI', 'MCI', 'Dementia', 'CN', 'Dementia', 'MCI', 'MCI', 'CN', 'MCI', 'MCI', 'Dementia', 'MCI', 'Dementia', 'MCI', 'MCI', 'CN', 'MCI', 'MCI', 'MCI', 'CN', 'Dementia', 'MCI', 'MCI', 'MCI', 'MCI', 'MCI', 'MCI', 'MCI', 'CN', 'CN', 'CN', 'CN', 'MCI', 'MCI', 'CN', 'MCI', 'Dementia', 'MCI', 'Dementia', 'MCI', 'CN', 'MCI', 'CN', 'MCI', 'CN', 'MCI', 'CN', 'MCI', 'Dementia', 'MCI', 'Dementia', 'Dementia', 'CN', 'MCI', 'MCI', 'CN', 'Dementia', 'CN', 'CN', 'MCI', 'CN', 'MCI', 'MCI', 'Dementia', 'CN', 'MCI', 'CN', 'Dementia', 'Dementia', 'MCI', 'MCI', 'CN', 'MCI', 'CN', 'MCI', 'CN', 'MCI', 'MCI', 'MCI', 'CN', 'MCI', 'MCI', 'CN', 'MCI', 'MCI', 'MCI', 'MCI', 'CN', 'CN', 'MCI', 'CN', 'MCI', 'Dementia', 'MCI', 'MCI', 'Dementia', 'MCI', 'MCI', 'CN', 'CN', 'CN', 'Dementia', 'MCI', 'CN', 'MCI', 'MCI', 'CN', 'Dementia', 'MCI', 'Dementia', 'MCI', 'MCI', 'MCI', 'Dementia', 'CN', 'MCI', 'Dementia', 'CN', 'MCI', 'Dementia', 'MCI', 'Dementia', 'CN', 'MCI', 'Dementia', 'MCI', 'MCI', 'CN', 'CN', 'CN', 'MCI', 'MCI', 'MCI', 'MCI', 'Dementia', 'MCI', 'MCI', 'MCI', 'CN', 'CN', 'Dementia', 'MCI', 'MCI', 'Dementia', 'MCI', 'CN', 'MCI', 'MCI', 'MCI', 'MCI', 'MCI', 'Dementia', 'MCI', 'MCI', 'MCI', 'MCI', 'Dementia', 'CN', 'MCI', 'CN', 'Dementia', 'CN', 'CN', 'CN', 'MCI', 'CN', 'MCI', 'CN', 'CN', 'CN', 'CN', 'CN', 'CN', 'MCI', 'CN', 'CN', 'MCI', 'MCI', 'CN', 'CN', 'MCI', 'Dementia', 'CN', 'MCI', 'CN', 'CN', 'MCI', 'MCI', 'Dementia', 'CN', 'MCI', 'CN', 'MCI', 'MCI', 'Dementia', 'MCI', 'MCI', 'MCI', 'MCI', 'CN', 'Dementia']\n"
     ]
    }
   ],
   "source": [
    "Adni_SID = list(Blood_Adni_Info.PTID)\n",
    "Adni_Type = list(Blood_Adni_Info.DX)\n",
    "\n",
    "SID_data = list(adata_adni.obs.index)\n",
    "\n",
    "Adni_Type_Data = list()\n",
    "for i in range(len(SID_data)):\n",
    "    if SID_data[i] in Adni_SID:\n",
    "        indt = Adni_SID.index(SID_data[i])\n",
    "        tmp = Adni_Type[indt]\n",
    "        Adni_Type_Data.append(tmp)\n",
    "print(Adni_Type_Data)"
   ]
  },
  {
   "cell_type": "code",
   "execution_count": null,
   "id": "0bc0c4e9-2955-4989-a172-c94809b06148",
   "metadata": {},
   "outputs": [],
   "source": [
    "\n"
   ]
  },
  {
   "cell_type": "code",
   "execution_count": null,
   "id": "2c7293eb-0d8f-4f7f-88e1-2cad556cb646",
   "metadata": {},
   "outputs": [],
   "source": []
  },
  {
   "cell_type": "code",
   "execution_count": 8,
   "id": "68026a42-195e-4991-8b1c-8152fd4a6661",
   "metadata": {
    "tags": []
   },
   "outputs": [],
   "source": [
    "# convert predited label\n",
    "Mapping = {'Control': 0, 'Typical AD': 1, 'Asym AD': 2, 'Low-NFT AD': 3}\n",
    "y_pred = np.zeros(len(SID_data))\n",
    "for i in range(len(SID_data)):\n",
    "    y_pred[i] = Mapping[Mapping_ADNIID_PreLabel[SID_data[i]]]\n",
    "    "
   ]
  },
  {
   "cell_type": "code",
   "execution_count": 9,
   "id": "085e00e8-7651-4d55-8378-50129483608a",
   "metadata": {
    "tags": []
   },
   "outputs": [],
   "source": [
    "Mapping = {'CN': 0, 'Dementia': 1, 'MCI': 2}\n",
    "y_true_lb = Adni_Type_Data\n",
    "y_true = np.zeros(len(y_true_lb))\n",
    "for i in range(len(y_true_lb)):\n",
    "    y_true[i] = Mapping[y_true_lb[i]]"
   ]
  },
  {
   "cell_type": "code",
   "execution_count": 10,
   "id": "a0743ebd-adbb-4f35-86ee-fb340ad13169",
   "metadata": {
    "tags": []
   },
   "outputs": [
    {
     "name": "stdout",
     "output_type": "stream",
     "text": [
      "precision of CN is 0\n",
      "precision of TAD is  0.15660919540229884\n",
      "precision of AAD is  0.5208333333333334\n"
     ]
    }
   ],
   "source": [
    "pred_ind_cn = np.where(y_pred==0)[0]\n",
    "true_ind_cn = np.where(y_true==0)[0]\n",
    "overlap = list(set(pred_ind_cn) & set(true_ind_cn))\n",
    "if len(pred_ind_cn) == 0:\n",
    "    print(\"precision of CN is 0\")\n",
    "else:\n",
    "    print(\"precision of CN is \", len(overlap)/len(pred_ind_cn))\n",
    "\n",
    "pred_ind_tad = np.where(y_pred==1)[0]\n",
    "true_ind_tad = np.where(y_true==1)[0]\n",
    "overlap = list(set(pred_ind_tad) & set(true_ind_tad))\n",
    "print(\"precision of TAD is \", len(overlap)/len(pred_ind_tad))\n",
    "\n",
    "pred_ind_aad = np.where(y_pred==2)[0]\n",
    "true_ind_aad = np.where(y_true==2)[0]\n",
    "overlap = list(set(pred_ind_aad) & set(true_ind_aad))\n",
    "print(\"precision of AAD is \", len(overlap)/len(pred_ind_aad))"
   ]
  },
  {
   "cell_type": "code",
   "execution_count": 11,
   "id": "cd5b508f-55ca-4d84-bf30-f28ea291777b",
   "metadata": {
    "tags": []
   },
   "outputs": [
    {
     "name": "stdout",
     "output_type": "stream",
     "text": [
      "precision of TAD is  0.6695402298850575\n",
      "precision of AAD  is  0.8541666666666666\n",
      "precision of CN  is 0\n",
      "precision of LowTau is 0\n"
     ]
    }
   ],
   "source": [
    "pred_ind_cn = np.where(y_pred==0)[0]\n",
    "true_ind_cn = np.where(y_true==0)[0]\n",
    "overlap = list(set(pred_ind_cn) & set(true_ind_cn))\n",
    "#if len(pred_ind_cn) == 0:\n",
    "#    print(\"precision of CN is 0\")\n",
    "#else:\n",
    "#    print(\"precision of CN is \", len(overlap)/len(pred_ind_cn))\n",
    "\n",
    "\n",
    "pred_ind_aad = np.where(y_pred==2)[0]\n",
    "true_ind_aad = np.where(y_true==2)[0]\n",
    "overlap = list(set(pred_ind_aad) & set(true_ind_aad))\n",
    "#print(\"precision of AAD is \", len(overlap)/len(pred_ind_aad))\n",
    "\n",
    "pred_ind_tad = np.where(y_pred==1)[0]\n",
    "true_ind_tad = np.where(y_true==1)[0]\n",
    "true_ind_tad_aad = list(true_ind_aad) + list(true_ind_tad)\n",
    "overlap = list(set(pred_ind_tad) & set(true_ind_tad_aad))\n",
    "print(\"precision of TAD is \", len(overlap)/len(pred_ind_tad))\n",
    "\n",
    "pred_ind_aad_cn = list(pred_ind_aad) #+ list(pred_ind_cn)\n",
    "true_ind_aad_cn = list(true_ind_cn) + list(true_ind_aad)\n",
    "overlap = list(set(pred_ind_aad_cn) & set(true_ind_aad_cn))\n",
    "print(\"precision of AAD  is \", len(overlap)/len(pred_ind_aad_cn))\n",
    "\n",
    "pred_ind_aad_cn = list(pred_ind_cn) #list(pred_ind_aad) + \n",
    "true_ind_aad_cn = list(true_ind_cn) + list(true_ind_aad)\n",
    "overlap = list(set(pred_ind_aad_cn) & set(true_ind_aad_cn))\n",
    "if len(pred_ind_aad_cn) == 0:\n",
    "    print(\"precision of CN  is 0\")\n",
    "else:\n",
    "    print(\"precision of CN  is \", len(overlap)/len(pred_ind_aad_cn))\n",
    "\n",
    "pred_ind_lt = np.where(y_pred==3)[0]\n",
    "true_ind_lt = np.where(y_true==1)[0]\n",
    "true_ind_lt_aad = list(true_ind_aad) + list(true_ind_lt)\n",
    "overlap = list(set(pred_ind_lt) & set(true_ind_lt_aad))\n",
    "if len(pred_ind_lt) == 0:\n",
    "    print(\"precision of LowTau is 0\")\n",
    "else:\n",
    "    print(\"precision of LowTau is \", len(overlap)/len(pred_ind_lt))"
   ]
  },
  {
   "cell_type": "code",
   "execution_count": null,
   "id": "347024f6-c43b-4bb2-9128-8292308c1cac",
   "metadata": {},
   "outputs": [],
   "source": []
  }
 ],
 "metadata": {
  "kernelspec": {
   "display_name": "Python 3 (ipykernel)",
   "language": "python",
   "name": "python3"
  },
  "language_info": {
   "codemirror_mode": {
    "name": "ipython",
    "version": 3
   },
   "file_extension": ".py",
   "mimetype": "text/x-python",
   "name": "python",
   "nbconvert_exporter": "python",
   "pygments_lexer": "ipython3",
   "version": "3.10.8"
  }
 },
 "nbformat": 4,
 "nbformat_minor": 5
}
