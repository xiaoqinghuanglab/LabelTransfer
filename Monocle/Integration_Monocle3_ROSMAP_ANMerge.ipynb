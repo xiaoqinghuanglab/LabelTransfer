{
 "cells": [
  {
   "cell_type": "code",
   "execution_count": 1,
   "id": "d311c624-1648-4f71-8007-6c88d125b758",
   "metadata": {
    "tags": []
   },
   "outputs": [
    {
     "name": "stderr",
     "output_type": "stream",
     "text": [
      "/Users/yijwang-admin/anaconda3/lib/python3.10/site-packages/tqdm/auto.py:22: TqdmWarning: IProgress not found. Please update jupyter and ipywidgets. See https://ipywidgets.readthedocs.io/en/stable/user_install.html\n",
      "  from .autonotebook import tqdm as notebook_tqdm\n"
     ]
    }
   ],
   "source": [
    "import scanpy as sc\n",
    "import pandas as pd\n",
    "import seaborn as sns\n",
    "import anndata as ad\n",
    "import numpy as np"
   ]
  },
  {
   "cell_type": "code",
   "execution_count": 2,
   "id": "ae1ab153-f0e2-46bb-945b-d16805222e98",
   "metadata": {
    "tags": []
   },
   "outputs": [],
   "source": [
    "# read in data\n",
    "with open(\"../../../Data/ROSMAP_blood_gene_expression_monocyte_ACTL_04172023.csv\") as your_data:\n",
    "    adata_rosmap = ad.read_csv(your_data, delimiter=',')\n",
    "adata_rosmap = adata_rosmap.T\n",
    "    \n",
    "with open(\"../../../Data/ANMerge_blood_rna_gene_expr_processed_XH_10112023.csv\") as your_data:\n",
    "    adata_adni = ad.read_csv(your_data, delimiter=',')\n",
    "adata_adni = adata_adni.T\n",
    "    \n",
    "# read in label\n",
    "Blood_Info = pd.read_csv(\"../../../Data/ROSMAP_blood_clinical_monocyte_ACTL_04172023.csv\",header=0, index_col=0)\n",
    "\n",
    "# read in label\n",
    "Blood_Adni_Info = pd.read_csv(\"../../../Data/ANMerge_blood_rna_clinical_processed_XH_10112023.csv\",header=0, index_col=0)\n",
    "\n",
    "# read in projection from Monocle3\n",
    "ADNI_Transferred_Label = pd.read_csv(\"../../../Data/Monocle_LabelTransfer_ROSMAP_ANMerge.csv\")"
   ]
  },
  {
   "cell_type": "code",
   "execution_count": 3,
   "id": "b6295b9a-7bf0-4215-b7d1-f80286f2e882",
   "metadata": {
    "tags": []
   },
   "outputs": [],
   "source": [
    "SID = list(ADNI_Transferred_Label['X'])\n",
    "PreLabel = list(ADNI_Transferred_Label['cell_type_fix'])\n",
    "Mapping_ADNIID_PreLabel = dict(zip(SID, PreLabel))"
   ]
  },
  {
   "cell_type": "code",
   "execution_count": 4,
   "id": "03a9dcc7-f26a-4c2c-9fa1-6a80e1b3088f",
   "metadata": {
    "tags": []
   },
   "outputs": [],
   "source": [
    "#Mapping_ADNIID_PreLabel"
   ]
  },
  {
   "cell_type": "code",
   "execution_count": 5,
   "id": "e960874e-4fa2-40a3-be44-388d8b25d84a",
   "metadata": {
    "tags": []
   },
   "outputs": [
    {
     "data": {
      "text/html": [
       "<div>\n",
       "<style scoped>\n",
       "    .dataframe tbody tr th:only-of-type {\n",
       "        vertical-align: middle;\n",
       "    }\n",
       "\n",
       "    .dataframe tbody tr th {\n",
       "        vertical-align: top;\n",
       "    }\n",
       "\n",
       "    .dataframe thead th {\n",
       "        text-align: right;\n",
       "    }\n",
       "</style>\n",
       "<table border=\"1\" class=\"dataframe\">\n",
       "  <thead>\n",
       "    <tr style=\"text-align: right;\">\n",
       "      <th></th>\n",
       "      <th>Unnamed: 0</th>\n",
       "      <th>X</th>\n",
       "      <th>Label</th>\n",
       "      <th>Gender</th>\n",
       "      <th>Age</th>\n",
       "      <th>Size_Factor</th>\n",
       "      <th>data_set</th>\n",
       "      <th>cell_type_xfr</th>\n",
       "      <th>cell_type_fix</th>\n",
       "    </tr>\n",
       "  </thead>\n",
       "  <tbody>\n",
       "    <tr>\n",
       "      <th>0</th>\n",
       "      <td>1</td>\n",
       "      <td>DCR00001_1</td>\n",
       "      <td>Asym AD</td>\n",
       "      <td>0</td>\n",
       "      <td>80</td>\n",
       "      <td>0.920870</td>\n",
       "      <td>query</td>\n",
       "      <td>NaN</td>\n",
       "      <td>Asym AD</td>\n",
       "    </tr>\n",
       "    <tr>\n",
       "      <th>1</th>\n",
       "      <td>2</td>\n",
       "      <td>DCR00004_1</td>\n",
       "      <td>Asym AD</td>\n",
       "      <td>1</td>\n",
       "      <td>78</td>\n",
       "      <td>0.923292</td>\n",
       "      <td>query</td>\n",
       "      <td>NaN</td>\n",
       "      <td>Asym AD</td>\n",
       "    </tr>\n",
       "    <tr>\n",
       "      <th>2</th>\n",
       "      <td>3</td>\n",
       "      <td>DCR00009_1</td>\n",
       "      <td>Asym AD</td>\n",
       "      <td>0</td>\n",
       "      <td>69</td>\n",
       "      <td>0.927422</td>\n",
       "      <td>query</td>\n",
       "      <td>Typical AD</td>\n",
       "      <td>Typical AD</td>\n",
       "    </tr>\n",
       "    <tr>\n",
       "      <th>3</th>\n",
       "      <td>4</td>\n",
       "      <td>DCR00013_1</td>\n",
       "      <td>Asym AD</td>\n",
       "      <td>1</td>\n",
       "      <td>82</td>\n",
       "      <td>0.927517</td>\n",
       "      <td>query</td>\n",
       "      <td>NaN</td>\n",
       "      <td>Typical AD</td>\n",
       "    </tr>\n",
       "    <tr>\n",
       "      <th>4</th>\n",
       "      <td>5</td>\n",
       "      <td>DCR00014_1</td>\n",
       "      <td>Typical AD</td>\n",
       "      <td>0</td>\n",
       "      <td>75</td>\n",
       "      <td>0.921701</td>\n",
       "      <td>query</td>\n",
       "      <td>NaN</td>\n",
       "      <td>Asym AD</td>\n",
       "    </tr>\n",
       "    <tr>\n",
       "      <th>...</th>\n",
       "      <td>...</td>\n",
       "      <td>...</td>\n",
       "      <td>...</td>\n",
       "      <td>...</td>\n",
       "      <td>...</td>\n",
       "      <td>...</td>\n",
       "      <td>...</td>\n",
       "      <td>...</td>\n",
       "      <td>...</td>\n",
       "    </tr>\n",
       "    <tr>\n",
       "      <th>686</th>\n",
       "      <td>687</td>\n",
       "      <td>TLSMCI607_1</td>\n",
       "      <td>Typical AD</td>\n",
       "      <td>0</td>\n",
       "      <td>72</td>\n",
       "      <td>1.081312</td>\n",
       "      <td>query</td>\n",
       "      <td>NaN</td>\n",
       "      <td>Asym AD</td>\n",
       "    </tr>\n",
       "    <tr>\n",
       "      <th>687</th>\n",
       "      <td>688</td>\n",
       "      <td>TLSMCI608_1</td>\n",
       "      <td>Asym AD</td>\n",
       "      <td>1</td>\n",
       "      <td>73</td>\n",
       "      <td>1.077134</td>\n",
       "      <td>query</td>\n",
       "      <td>NaN</td>\n",
       "      <td>Asym AD</td>\n",
       "    </tr>\n",
       "    <tr>\n",
       "      <th>688</th>\n",
       "      <td>689</td>\n",
       "      <td>TLSMCI609_1</td>\n",
       "      <td>Typical AD</td>\n",
       "      <td>0</td>\n",
       "      <td>63</td>\n",
       "      <td>0.929060</td>\n",
       "      <td>query</td>\n",
       "      <td>NaN</td>\n",
       "      <td>Typical AD</td>\n",
       "    </tr>\n",
       "    <tr>\n",
       "      <th>689</th>\n",
       "      <td>690</td>\n",
       "      <td>TLSMCI611_1</td>\n",
       "      <td>Asym AD</td>\n",
       "      <td>0</td>\n",
       "      <td>78</td>\n",
       "      <td>0.928300</td>\n",
       "      <td>query</td>\n",
       "      <td>NaN</td>\n",
       "      <td>Asym AD</td>\n",
       "    </tr>\n",
       "    <tr>\n",
       "      <th>690</th>\n",
       "      <td>691</td>\n",
       "      <td>TLSMCI612_1</td>\n",
       "      <td>Asym AD</td>\n",
       "      <td>0</td>\n",
       "      <td>79</td>\n",
       "      <td>1.079935</td>\n",
       "      <td>query</td>\n",
       "      <td>NaN</td>\n",
       "      <td>Typical AD</td>\n",
       "    </tr>\n",
       "  </tbody>\n",
       "</table>\n",
       "<p>691 rows × 9 columns</p>\n",
       "</div>"
      ],
      "text/plain": [
       "     Unnamed: 0            X       Label  Gender  Age  Size_Factor data_set  \\\n",
       "0             1   DCR00001_1     Asym AD       0   80     0.920870    query   \n",
       "1             2   DCR00004_1     Asym AD       1   78     0.923292    query   \n",
       "2             3   DCR00009_1     Asym AD       0   69     0.927422    query   \n",
       "3             4   DCR00013_1     Asym AD       1   82     0.927517    query   \n",
       "4             5   DCR00014_1  Typical AD       0   75     0.921701    query   \n",
       "..          ...          ...         ...     ...  ...          ...      ...   \n",
       "686         687  TLSMCI607_1  Typical AD       0   72     1.081312    query   \n",
       "687         688  TLSMCI608_1     Asym AD       1   73     1.077134    query   \n",
       "688         689  TLSMCI609_1  Typical AD       0   63     0.929060    query   \n",
       "689         690  TLSMCI611_1     Asym AD       0   78     0.928300    query   \n",
       "690         691  TLSMCI612_1     Asym AD       0   79     1.079935    query   \n",
       "\n",
       "    cell_type_xfr cell_type_fix  \n",
       "0             NaN       Asym AD  \n",
       "1             NaN       Asym AD  \n",
       "2      Typical AD    Typical AD  \n",
       "3             NaN    Typical AD  \n",
       "4             NaN       Asym AD  \n",
       "..            ...           ...  \n",
       "686           NaN       Asym AD  \n",
       "687           NaN       Asym AD  \n",
       "688           NaN    Typical AD  \n",
       "689           NaN       Asym AD  \n",
       "690           NaN    Typical AD  \n",
       "\n",
       "[691 rows x 9 columns]"
      ]
     },
     "execution_count": 5,
     "metadata": {},
     "output_type": "execute_result"
    }
   ],
   "source": [
    "ADNI_Transferred_Label"
   ]
  },
  {
   "cell_type": "code",
   "execution_count": 6,
   "id": "7e66504f-9d90-4df2-bcfe-a60575c2a273",
   "metadata": {
    "tags": []
   },
   "outputs": [
    {
     "name": "stdout",
     "output_type": "stream",
     "text": [
      "{'Typical AD': 46, 'Asym AD': 88, 'Control': 18, 'Low-NFT AD': 5}\n",
      "[1, 2, 2, 0, 1, 2, 1, 0, 2, 1, 2, 1, 2, 2, 2, 2, 2, 2, 2, 1, 2, 2, 2, 2, 0, 1, 2, 2, 2, 1, 1, 2, 1, 1, 1, 1, 2, 0, 1, 1, 2, 1, 2, 2, 2, 1, 2, 2, 1, 1, 2, 1, 0, 2, 2, 2, 1, 2, 2, 2, 2, 2, 2, 2, 1, 2, 2, 1, 1, 2, 2, 2, 2, 2, 2, 1, 2, 0, 2, 2, 1, 2, 2, 2, 1, 0, 0, 2, 2, 2, 1, 1, 2, 2, 0, 2, 3, 2, 1, 0, 2, 2, 3, 1, 0, 0, 2, 2, 2, 2, 3, 0, 0, 2, 2, 0, 1, 1, 1, 1, 1, 2, 2, 2, 2, 1, 1, 2, 2, 1, 2, 0, 1, 1, 2, 2, 1, 1, 2, 1, 2, 2, 0, 0, 1, 2, 2, 2, 2, 3, 1, 2, 2, 2, 3, 2, 2]\n",
      "157\n"
     ]
    }
   ],
   "source": [
    "import collections\n",
    "# For rosmap blood\n",
    "Blood_ROSMAP_Info = Blood_Info\n",
    "BloodSampleID_Rosmap = list(adata_rosmap.obs.index)\n",
    "\n",
    "SID = list(Blood_ROSMAP_Info.specimenID)\n",
    "ADType = list(Blood_ROSMAP_Info.Group1)\n",
    "Mapping = {'Control': 0, 'Typical AD': 1, 'Asym AD': 2, 'Low-NFT AD': 3}\n",
    "frequency_rosmap = collections.Counter(ADType)\n",
    "print(dict(frequency_rosmap))\n",
    "\n",
    "Rosmap_Sample_CN = list()\n",
    "Rosmap_Sample_TAD = list()\n",
    "Rosmap_Sample_AAD = list()\n",
    "for i in range(len(SID)):\n",
    "    if ADType[i] == 'Control':\n",
    "        Rosmap_Sample_CN.append(SID[i])\n",
    "    if ADType[i] == 'Typical AD' or ADType[i] == 'Low-NFT AD':\n",
    "        Rosmap_Sample_TAD.append(SID[i])\n",
    "    if ADType[i] == 'Asym AD':\n",
    "        Rosmap_Sample_AAD.append(SID[i])\n",
    "#print(Rosmap_Sample_CN)\n",
    "#print(Rosmap_Sample_TAD)\n",
    "#print(Rosmap_Sample_AAD)\n",
    "\n",
    "SType_Blood_Rosmap = list()\n",
    "for i in range(len(BloodSampleID_Rosmap)):\n",
    "    if BloodSampleID_Rosmap[i] in SID:\n",
    "        indt = SID.index(BloodSampleID_Rosmap[i])\n",
    "        tmp = Mapping[ADType[indt]]\n",
    "        SType_Blood_Rosmap.append(tmp)\n",
    "print(SType_Blood_Rosmap)\n",
    "print(len(SType_Blood_Rosmap))"
   ]
  },
  {
   "cell_type": "code",
   "execution_count": 7,
   "id": "bc8e4ab8-010e-4703-9b22-2486cbf98696",
   "metadata": {
    "tags": []
   },
   "outputs": [
    {
     "name": "stdout",
     "output_type": "stream",
     "text": [
      "['AD', 'MCI', 'CTL', 'CTL', 'CTL', 'CTL', 'CTL', 'AD', 'AD', 'AD', 'AD', 'AD', 'AD', 'AD', 'MCI', 'CTL', 'AD', 'CTL', 'CTL', 'CTL', 'AD', 'CTL', 'CTL', 'CTL', 'AD', 'CTL', 'CTL', 'CTL', 'AD', 'CTL', 'AD', 'CTL', 'CTL', 'MCI', 'CTL', 'CTL', 'CTL', 'AD', 'CTL', 'CTL', 'CTL', 'AD', 'MCI', 'AD', 'CTL', 'CTL', 'CTL', 'AD', 'AD', 'MCI', 'AD', 'CTL', 'CTL', 'CTL', 'CTL', 'AD', 'CTL', 'AD', 'MCI', 'CTL', 'AD', 'CTL', 'MCI', 'CTL', 'MCI', 'CTL', 'CTL', 'CTL', 'CTL', 'CTL', 'MCI', 'AD', 'CTL', 'CTL', 'CTL', 'MCI', 'CTL', 'CTL', 'CTL', 'MCI', 'CTL', 'CTL', 'CTL', 'CTL', 'AD', 'CTL', 'CTL', 'AD', 'CTL', 'CTL', 'CTL', 'CTL', 'AD', 'CTL', 'AD', 'AD', 'MCI', 'AD', 'CTL', 'MCI', 'CTL', 'MCI', 'MCI', 'MCI', 'MCI', 'MCI', 'MCI', 'MCI', 'MCI', 'MCI', 'MCI', 'CTL', 'MCI', 'MCI', 'AD', 'AD', 'AD', 'AD', 'AD', 'AD', 'AD', 'AD', 'AD', 'AD', 'AD', 'AD', 'AD', 'AD', 'AD', 'AD', 'AD', 'AD', 'AD', 'AD', 'AD', 'AD', 'AD', 'AD', 'AD', 'AD', 'AD', 'AD', 'AD', 'AD', 'AD', 'AD', 'AD', 'AD', 'AD', 'AD', 'AD', 'AD', 'AD', 'AD', 'AD', 'AD', 'AD', 'AD', 'AD', 'CTL', 'CTL', 'CTL', 'CTL', 'CTL', 'CTL', 'CTL', 'CTL', 'CTL', 'CTL', 'CTL', 'CTL', 'CTL', 'CTL', 'CTL', 'CTL', 'CTL', 'CTL', 'CTL', 'CTL', 'CTL', 'CTL', 'CTL', 'CTL', 'CTL', 'CTL', 'CTL', 'CTL', 'CTL', 'CTL', 'CTL', 'CTL', 'CTL', 'CTL', 'CTL', 'CTL', 'CTL', 'CTL', 'CTL', 'CTL', 'CTL', 'CTL', 'CTL', 'CTL', 'CTL', 'MCI', 'MCI', 'MCI', 'MCI', 'MCI', 'MCI', 'MCI', 'MCI', 'MCI', 'MCI', 'MCI', 'MCI', 'MCI', 'MCI', 'MCI', 'MCI', 'MCI', 'MCI', 'MCI', 'MCI', 'MCI', 'MCI', 'MCI', 'MCI', 'MCI', 'MCI', 'MCI', 'MCI', 'MCI', 'MCI', 'MCI', 'MCI', 'MCI', 'MCI', 'MCI', 'MCI', 'MCI', 'MCI', 'MCI', 'MCI', 'MCI', 'MCI', 'MCI', 'MCI', 'MCI', 'MCI', 'MCI', 'AD', 'AD', 'AD', 'AD', 'AD', 'AD', 'AD', 'AD', 'AD', 'AD', 'AD', 'AD', 'AD', 'AD', 'AD', 'AD', 'AD', 'AD', 'AD', 'AD', 'AD', 'AD', 'AD', 'AD', 'AD', 'AD', 'AD', 'AD', 'AD', 'AD', 'AD', 'AD', 'AD', 'AD', 'AD', 'AD', 'AD', 'AD', 'AD', 'CTL', 'CTL', 'CTL', 'CTL', 'CTL', 'CTL', 'CTL', 'CTL', 'CTL', 'CTL', 'CTL', 'CTL', 'CTL', 'CTL', 'CTL', 'CTL', 'CTL', 'CTL', 'CTL', 'CTL', 'CTL', 'CTL', 'CTL', 'CTL', 'CTL', 'MCI', 'MCI', 'MCI', 'MCI', 'MCI', 'MCI', 'MCI', 'MCI', 'MCI', 'MCI', 'MCI', 'MCI', 'MCI', 'MCI', 'MCI', 'MCI', 'MCI', 'MCI', 'MCI', 'MCI', 'MCI', 'MCI', 'MCI', 'MCI', 'AD', 'AD', 'AD', 'AD', 'AD', 'AD', 'AD', 'AD', 'AD', 'AD', 'AD', 'AD', 'AD', 'AD', 'AD', 'AD', 'AD', 'AD', 'AD', 'AD', 'AD', 'CTL', 'CTL', 'CTL', 'CTL', 'CTL', 'CTL', 'CTL', 'CTL', 'CTL', 'CTL', 'CTL', 'CTL', 'CTL', 'CTL', 'CTL', 'CTL', 'CTL', 'CTL', 'CTL', 'CTL', 'CTL', 'CTL', 'CTL', 'CTL', 'CTL', 'CTL', 'CTL', 'CTL', 'CTL', 'CTL', 'CTL', 'CTL', 'CTL', 'CTL', 'CTL', 'CTL', 'CTL', 'CTL', 'CTL', 'CTL', 'CTL', 'MCI', 'MCI', 'MCI', 'MCI', 'MCI', 'MCI', 'MCI', 'MCI', 'MCI', 'MCI', 'MCI', 'MCI', 'MCI', 'MCI', 'MCI', 'MCI', 'MCI', 'MCI', 'MCI', 'MCI', 'MCI', 'MCI', 'MCI', 'MCI', 'CTL', 'CTL', 'MCI', 'MCI', 'MCI', 'MCI', 'MCI', 'MCI', 'AD', 'AD', 'AD', 'AD', 'AD', 'AD', 'AD', 'AD', 'AD', 'AD', 'AD', 'AD', 'AD', 'AD', 'AD', 'AD', 'AD', 'AD', 'AD', 'AD', 'AD', 'AD', 'AD', 'AD', 'AD', 'AD', 'AD', 'AD', 'AD', 'AD', 'AD', 'AD', 'AD', 'AD', 'AD', 'AD', 'AD', 'AD', 'AD', 'AD', 'AD', 'AD', 'AD', 'AD', 'AD', 'AD', 'AD', 'AD', 'AD', 'CTL', 'CTL', 'CTL', 'CTL', 'CTL', 'CTL', 'CTL', 'CTL', 'CTL', 'CTL', 'CTL', 'CTL', 'CTL', 'CTL', 'CTL', 'CTL', 'CTL', 'CTL', 'CTL', 'CTL', 'CTL', 'CTL', 'CTL', 'CTL', 'CTL', 'CTL', 'CTL', 'CTL', 'CTL', 'CTL', 'CTL', 'CTL', 'CTL', 'CTL', 'CTL', 'CTL', 'CTL', 'CTL', 'CTL', 'CTL', 'CTL', 'CTL', 'CTL', 'CTL', 'CTL', 'CTL', 'MCI', 'MCI', 'MCI', 'MCI', 'MCI', 'MCI', 'MCI', 'MCI', 'MCI', 'MCI', 'MCI', 'MCI', 'MCI', 'MCI', 'MCI', 'MCI', 'MCI', 'MCI', 'MCI', 'MCI', 'MCI', 'MCI', 'MCI', 'MCI', 'MCI', 'MCI', 'MCI', 'MCI', 'MCI', 'MCI', 'MCI', 'MCI', 'MCI', 'MCI', 'MCI', 'MCI', 'MCI', 'MCI', 'MCI', 'MCI', 'MCI', 'MCI', 'MCI', 'MCI', 'MCI', 'MCI', 'MCI', 'MCI', 'MCI', 'MCI', 'MCI', 'AD', 'AD', 'AD', 'AD', 'AD', 'AD', 'AD', 'AD', 'AD', 'AD', 'AD', 'AD', 'AD', 'AD', 'AD', 'AD', 'AD', 'AD', 'AD', 'AD', 'AD', 'AD', 'AD', 'AD', 'AD', 'CTL', 'CTL', 'CTL', 'CTL', 'CTL', 'CTL', 'CTL', 'CTL', 'CTL', 'CTL', 'CTL', 'MCI', 'MCI', 'MCI', 'MCI', 'MCI', 'MCI', 'MCI', 'MCI', 'MCI', 'MCI', 'MCI', 'MCI', 'MCI', 'MCI', 'MCI', 'MCI', 'MCI', 'MCI', 'MCI', 'MCI', 'MCI', 'MCI', 'MCI', 'MCI', 'MCI', 'MCI', 'MCI', 'MCI', 'MCI', 'MCI', 'MCI', 'AD', 'AD', 'AD', 'AD', 'AD', 'AD', 'AD', 'AD', 'AD', 'AD', 'AD', 'AD', 'AD', 'AD', 'AD', 'CTL', 'CTL', 'CTL', 'CTL', 'CTL', 'CTL', 'CTL', 'CTL', 'CTL', 'CTL', 'CTL', 'CTL', 'CTL', 'CTL', 'CTL', 'CTL', 'CTL', 'CTL', 'CTL', 'MCI', 'MCI', 'MCI', 'MCI', 'MCI', 'MCI', 'MCI', 'MCI', 'MCI', 'MCI', 'MCI']\n"
     ]
    }
   ],
   "source": [
    "Adni_SID = list(Blood_Adni_Info.index.values)\n",
    "Adni_Type = list(Blood_Adni_Info.Diagnosis)\n",
    "\n",
    "SID_data = list(adata_adni.obs.index)\n",
    "\n",
    "Adni_Type_Data = list()\n",
    "for i in range(len(SID_data)):\n",
    "    if SID_data[i] in Adni_SID:\n",
    "        indt = Adni_SID.index(SID_data[i])\n",
    "        tmp = Adni_Type[indt]\n",
    "        Adni_Type_Data.append(tmp)\n",
    "print(Adni_Type_Data)"
   ]
  },
  {
   "cell_type": "code",
   "execution_count": null,
   "id": "ee7eb1bc-52db-4f34-8bf4-913d25ddf272",
   "metadata": {},
   "outputs": [],
   "source": []
  },
  {
   "cell_type": "code",
   "execution_count": 8,
   "id": "60c7eea3-1253-4e2d-9ae0-424a0ae40709",
   "metadata": {
    "tags": []
   },
   "outputs": [
    {
     "name": "stdout",
     "output_type": "stream",
     "text": [
      "{'Typical AD': 46, 'Asym AD': 88, 'Control': 18, 'Low-NFT AD': 5}\n",
      "[1, 2, 2, 0, 1, 2, 1, 0, 2, 1, 2, 1, 2, 2, 2, 2, 2, 2, 2, 1, 2, 2, 2, 2, 0, 1, 2, 2, 2, 1, 1, 2, 1, 1, 1, 1, 2, 0, 1, 1, 2, 1, 2, 2, 2, 1, 2, 2, 1, 1, 2, 1, 0, 2, 2, 2, 1, 2, 2, 2, 2, 2, 2, 2, 1, 2, 2, 1, 1, 2, 2, 2, 2, 2, 2, 1, 2, 0, 2, 2, 1, 2, 2, 2, 1, 0, 0, 2, 2, 2, 1, 1, 2, 2, 0, 2, 3, 2, 1, 0, 2, 2, 3, 1, 0, 0, 2, 2, 2, 2, 3, 0, 0, 2, 2, 0, 1, 1, 1, 1, 1, 2, 2, 2, 2, 1, 1, 2, 2, 1, 2, 0, 1, 1, 2, 2, 1, 1, 2, 1, 2, 2, 0, 0, 1, 2, 2, 2, 2, 3, 1, 2, 2, 2, 3, 2, 2]\n",
      "157\n"
     ]
    }
   ],
   "source": [
    "import collections\n",
    "# For rosmap blood\n",
    "Blood_ROSMAP_Info = Blood_Info\n",
    "BloodSampleID_Rosmap = list(adata_rosmap.obs.index)\n",
    "\n",
    "SID = list(Blood_ROSMAP_Info.specimenID)\n",
    "ADType = list(Blood_ROSMAP_Info.Group1)\n",
    "Mapping = {'Control': 0, 'Typical AD': 1, 'Asym AD': 2, 'Low-NFT AD': 3}\n",
    "frequency_rosmap = collections.Counter(ADType)\n",
    "print(dict(frequency_rosmap))\n",
    "\n",
    "Rosmap_Sample_CN = list()\n",
    "Rosmap_Sample_TAD = list()\n",
    "Rosmap_Sample_AAD = list()\n",
    "for i in range(len(SID)):\n",
    "    if ADType[i] == 'Control':\n",
    "        Rosmap_Sample_CN.append(SID[i])\n",
    "    if ADType[i] == 'Typical AD' or ADType[i] == 'Low-NFT AD':\n",
    "        Rosmap_Sample_TAD.append(SID[i])\n",
    "    if ADType[i] == 'Asym AD':\n",
    "        Rosmap_Sample_AAD.append(SID[i])\n",
    "#print(Rosmap_Sample_CN)\n",
    "#print(Rosmap_Sample_TAD)\n",
    "#print(Rosmap_Sample_AAD)\n",
    "\n",
    "SType_Blood_Rosmap = list()\n",
    "for i in range(len(BloodSampleID_Rosmap)):\n",
    "    if BloodSampleID_Rosmap[i] in SID:\n",
    "        indt = SID.index(BloodSampleID_Rosmap[i])\n",
    "        tmp = Mapping[ADType[indt]]\n",
    "        SType_Blood_Rosmap.append(tmp)\n",
    "print(SType_Blood_Rosmap)\n",
    "print(len(SType_Blood_Rosmap))"
   ]
  },
  {
   "cell_type": "code",
   "execution_count": null,
   "id": "43de50e0-01cd-4d00-b0eb-f505cd251e15",
   "metadata": {},
   "outputs": [],
   "source": [
    "\n"
   ]
  },
  {
   "cell_type": "code",
   "execution_count": null,
   "id": "8c16d522-be6d-460d-9215-1ce8e0080027",
   "metadata": {},
   "outputs": [],
   "source": []
  },
  {
   "cell_type": "code",
   "execution_count": 9,
   "id": "21c29343-947a-4b28-bc00-61032d6fa40f",
   "metadata": {
    "tags": []
   },
   "outputs": [],
   "source": [
    "# convert predited label\n",
    "Mapping = {'Control': 0, 'Typical AD': 1, 'Asym AD': 2, 'Low-NFT AD': 3}\n",
    "y_pred = np.zeros(len(SID_data))\n",
    "for i in range(len(SID_data)):\n",
    "    y_pred[i] = Mapping[Mapping_ADNIID_PreLabel[SID_data[i]]]\n",
    "    "
   ]
  },
  {
   "cell_type": "code",
   "execution_count": 10,
   "id": "eb7718ca-f8b8-4003-92ce-4ecadb72e5dd",
   "metadata": {
    "tags": []
   },
   "outputs": [],
   "source": [
    "Mapping = {'CTL': 0, 'AD': 1, 'MCI': 2}\n",
    "y_true_lb = Adni_Type_Data\n",
    "y_true = np.zeros(len(y_true_lb))\n",
    "for i in range(len(y_true_lb)):\n",
    "    y_true[i] = Mapping[y_true_lb[i]]"
   ]
  },
  {
   "cell_type": "code",
   "execution_count": 11,
   "id": "81da75a4-2e2e-4553-8b8a-1e0a4ea2b30f",
   "metadata": {
    "tags": []
   },
   "outputs": [
    {
     "name": "stdout",
     "output_type": "stream",
     "text": [
      "precision of CN is 0\n",
      "precision of TAD is  0.32471264367816094\n",
      "precision of AAD is  0.30029154518950435\n"
     ]
    }
   ],
   "source": [
    "pred_ind_cn = np.where(y_pred==0)[0]\n",
    "true_ind_cn = np.where(y_true==0)[0]\n",
    "overlap = list(set(pred_ind_cn) & set(true_ind_cn))\n",
    "if len(pred_ind_cn) == 0:\n",
    "    print(\"precision of CN is 0\")\n",
    "else:\n",
    "    print(\"precision of CN is \", len(overlap)/len(pred_ind_cn))\n",
    "\n",
    "pred_ind_tad = np.where(y_pred==1)[0]\n",
    "true_ind_tad = np.where(y_true==1)[0]\n",
    "overlap = list(set(pred_ind_tad) & set(true_ind_tad))\n",
    "print(\"precision of TAD is \", len(overlap)/len(pred_ind_tad))\n",
    "\n",
    "pred_ind_aad = np.where(y_pred==2)[0]\n",
    "true_ind_aad = np.where(y_true==2)[0]\n",
    "overlap = list(set(pred_ind_aad) & set(true_ind_aad))\n",
    "print(\"precision of AAD is \", len(overlap)/len(pred_ind_aad))"
   ]
  },
  {
   "cell_type": "code",
   "execution_count": 12,
   "id": "8c635ed5-e91e-4b73-816f-a89ebe9f2c13",
   "metadata": {
    "tags": []
   },
   "outputs": [
    {
     "name": "stdout",
     "output_type": "stream",
     "text": [
      "precision of TAD is  0.6580459770114943\n",
      "precision of AAD  is  0.6793002915451894\n",
      "precision of CN  is 0\n",
      "precision of LowTau is 0\n"
     ]
    }
   ],
   "source": [
    "pred_ind_cn = np.where(y_pred==0)[0]\n",
    "true_ind_cn = np.where(y_true==0)[0]\n",
    "overlap = list(set(pred_ind_cn) & set(true_ind_cn))\n",
    "#if len(pred_ind_cn) == 0:\n",
    "#    print(\"precision of CN is 0\")\n",
    "#else:\n",
    "#    print(\"precision of CN is \", len(overlap)/len(pred_ind_cn))\n",
    "\n",
    "\n",
    "pred_ind_aad = np.where(y_pred==2)[0]\n",
    "true_ind_aad = np.where(y_true==2)[0]\n",
    "overlap = list(set(pred_ind_aad) & set(true_ind_aad))\n",
    "#print(\"precision of AAD is \", len(overlap)/len(pred_ind_aad))\n",
    "\n",
    "pred_ind_tad = np.where(y_pred==1)[0]\n",
    "true_ind_tad = np.where(y_true==1)[0]\n",
    "true_ind_tad_aad = list(true_ind_aad) + list(true_ind_tad)\n",
    "overlap = list(set(pred_ind_tad) & set(true_ind_tad_aad))\n",
    "print(\"precision of TAD is \", len(overlap)/len(pred_ind_tad))\n",
    "\n",
    "pred_ind_aad_cn = list(pred_ind_aad) #+ list(pred_ind_cn)\n",
    "true_ind_aad_cn = list(true_ind_cn) + list(true_ind_aad)\n",
    "overlap = list(set(pred_ind_aad_cn) & set(true_ind_aad_cn))\n",
    "print(\"precision of AAD  is \", len(overlap)/len(pred_ind_aad_cn))\n",
    "\n",
    "pred_ind_aad_cn = list(pred_ind_cn) #list(pred_ind_aad) + \n",
    "true_ind_aad_cn = list(true_ind_cn) + list(true_ind_aad)\n",
    "overlap = list(set(pred_ind_aad_cn) & set(true_ind_aad_cn))\n",
    "if len(pred_ind_aad_cn) == 0:\n",
    "    print(\"precision of CN  is 0\")\n",
    "else:\n",
    "    print(\"precision of CN  is \", len(overlap)/len(pred_ind_aad_cn))\n",
    "\n",
    "pred_ind_lt = np.where(y_pred==3)[0]\n",
    "true_ind_lt = np.where(y_true==1)[0]\n",
    "true_ind_lt_aad = list(true_ind_aad) + list(true_ind_lt)\n",
    "overlap = list(set(pred_ind_lt) & set(true_ind_lt_aad))\n",
    "if len(pred_ind_lt) == 0:\n",
    "    print(\"precision of LowTau is 0\")\n",
    "else:\n",
    "    print(\"precision of LowTau is \", len(overlap)/len(pred_ind_lt))"
   ]
  },
  {
   "cell_type": "code",
   "execution_count": null,
   "id": "cd330cd7-0d40-46aa-8f32-80232d93a2fe",
   "metadata": {},
   "outputs": [],
   "source": []
  }
 ],
 "metadata": {
  "kernelspec": {
   "display_name": "Python 3 (ipykernel)",
   "language": "python",
   "name": "python3"
  },
  "language_info": {
   "codemirror_mode": {
    "name": "ipython",
    "version": 3
   },
   "file_extension": ".py",
   "mimetype": "text/x-python",
   "name": "python",
   "nbconvert_exporter": "python",
   "pygments_lexer": "ipython3",
   "version": "3.10.8"
  }
 },
 "nbformat": 4,
 "nbformat_minor": 5
}
