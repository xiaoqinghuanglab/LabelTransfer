{
 "cells": [
  {
   "cell_type": "code",
   "execution_count": 1,
   "id": "2970260c-700d-4950-aa1e-756aae0f4e03",
   "metadata": {
    "tags": []
   },
   "outputs": [
    {
     "name": "stderr",
     "output_type": "stream",
     "text": [
      "/Users/yijwang-admin/anaconda3/lib/python3.10/site-packages/tqdm/auto.py:22: TqdmWarning: IProgress not found. Please update jupyter and ipywidgets. See https://ipywidgets.readthedocs.io/en/stable/user_install.html\n",
      "  from .autonotebook import tqdm as notebook_tqdm\n"
     ]
    }
   ],
   "source": [
    "import scanpy as sc\n",
    "import pandas as pd\n",
    "import seaborn as sns\n",
    "import anndata as ad\n",
    "import numpy as np\n",
    "import collections"
   ]
  },
  {
   "cell_type": "code",
   "execution_count": 8,
   "id": "940b7250-7ce1-4e18-a4da-e91c3d80e98d",
   "metadata": {
    "tags": []
   },
   "outputs": [],
   "source": [
    "# read in data\n",
    "with open(\"../../../Data/ROSMAP_blood_gene_expression_monocyte_ACTL_04172023.csv\") as your_data:\n",
    "    adata_rosmap = ad.read_csv(your_data, delimiter=',')\n",
    "adata_rosmap = adata_rosmap.T\n",
    "    \n",
    "with open(\"../../../Data/ANMerge_blood_rna_gene_expr_processed_XH_10112023.csv\") as your_data:\n",
    "    adata_adni = ad.read_csv(your_data, delimiter=',')\n",
    "adata_adni = adata_adni.T\n",
    "    \n",
    "# read in label\n",
    "Blood_Info = pd.read_csv(\"../../../Data/ROSMAP_blood_clinical_monocyte_ACTL_04172023.csv\",header=0, index_col=0)\n",
    "\n",
    "# read in label\n",
    "Blood_Adni_Info = pd.read_csv(\"../../../Data/ANMerge_NewModel_NewLabel_Clinical_Info.csv\",header=0, index_col=0)\n",
    "\n",
    "# read in projection from Monocle3\n",
    "ADNI_Transferred_Label = pd.read_csv(\"../../../Data/Monocle_LabelTransfer_ROSMAP_ANMerge_Braak.csv\")"
   ]
  },
  {
   "cell_type": "code",
   "execution_count": 9,
   "id": "82df1cbf-f077-44df-a77f-89ca68f8cab5",
   "metadata": {
    "tags": []
   },
   "outputs": [],
   "source": [
    "SID = list(ADNI_Transferred_Label['X'])\n",
    "PreLabel = list(ADNI_Transferred_Label['braak_fix'])\n",
    "Mapping_ADNIID_PreLabel = dict(zip(SID, PreLabel))"
   ]
  },
  {
   "cell_type": "code",
   "execution_count": 10,
   "id": "56af73c5-d5f2-43a8-bc24-f12923c88c2c",
   "metadata": {
    "tags": []
   },
   "outputs": [],
   "source": [
    "#Mapping_ADNIID_PreLabel"
   ]
  },
  {
   "cell_type": "code",
   "execution_count": 11,
   "id": "6d0a0336-7e7f-4cec-abc1-a735df051caa",
   "metadata": {
    "tags": []
   },
   "outputs": [
    {
     "data": {
      "text/html": [
       "<div>\n",
       "<style scoped>\n",
       "    .dataframe tbody tr th:only-of-type {\n",
       "        vertical-align: middle;\n",
       "    }\n",
       "\n",
       "    .dataframe tbody tr th {\n",
       "        vertical-align: top;\n",
       "    }\n",
       "\n",
       "    .dataframe thead th {\n",
       "        text-align: right;\n",
       "    }\n",
       "</style>\n",
       "<table border=\"1\" class=\"dataframe\">\n",
       "  <thead>\n",
       "    <tr style=\"text-align: right;\">\n",
       "      <th></th>\n",
       "      <th>Unnamed: 0</th>\n",
       "      <th>X</th>\n",
       "      <th>Label</th>\n",
       "      <th>Gender</th>\n",
       "      <th>Age</th>\n",
       "      <th>DX</th>\n",
       "      <th>Site</th>\n",
       "      <th>Batch</th>\n",
       "      <th>OnsetAge</th>\n",
       "      <th>OnsetPattern</th>\n",
       "      <th>Size_Factor</th>\n",
       "      <th>data_set</th>\n",
       "      <th>braak_xfr</th>\n",
       "      <th>braak_fix</th>\n",
       "    </tr>\n",
       "  </thead>\n",
       "  <tbody>\n",
       "    <tr>\n",
       "      <th>0</th>\n",
       "      <td>1</td>\n",
       "      <td>DCR00001_1</td>\n",
       "      <td>Low-NFT AD</td>\n",
       "      <td>Female</td>\n",
       "      <td>80.0</td>\n",
       "      <td>AD</td>\n",
       "      <td>DCR</td>\n",
       "      <td>2</td>\n",
       "      <td>80.0</td>\n",
       "      <td>Sudden</td>\n",
       "      <td>0.995368</td>\n",
       "      <td>query</td>\n",
       "      <td>5.0</td>\n",
       "      <td>5</td>\n",
       "    </tr>\n",
       "    <tr>\n",
       "      <th>1</th>\n",
       "      <td>2</td>\n",
       "      <td>DCR00004_1</td>\n",
       "      <td>Typical AD</td>\n",
       "      <td>Male</td>\n",
       "      <td>78.0</td>\n",
       "      <td>MCI</td>\n",
       "      <td>DCR</td>\n",
       "      <td>2</td>\n",
       "      <td>inf</td>\n",
       "      <td>NaN</td>\n",
       "      <td>0.998300</td>\n",
       "      <td>query</td>\n",
       "      <td>NaN</td>\n",
       "      <td>5</td>\n",
       "    </tr>\n",
       "    <tr>\n",
       "      <th>2</th>\n",
       "      <td>3</td>\n",
       "      <td>DCR00009_1</td>\n",
       "      <td>Asym AD</td>\n",
       "      <td>Female</td>\n",
       "      <td>69.0</td>\n",
       "      <td>CTL</td>\n",
       "      <td>DCR</td>\n",
       "      <td>2</td>\n",
       "      <td>inf</td>\n",
       "      <td>NaN</td>\n",
       "      <td>1.001917</td>\n",
       "      <td>query</td>\n",
       "      <td>5.0</td>\n",
       "      <td>5</td>\n",
       "    </tr>\n",
       "    <tr>\n",
       "      <th>3</th>\n",
       "      <td>4</td>\n",
       "      <td>DCR00013_1</td>\n",
       "      <td>Asym AD</td>\n",
       "      <td>Male</td>\n",
       "      <td>82.0</td>\n",
       "      <td>CTL</td>\n",
       "      <td>DCR</td>\n",
       "      <td>2</td>\n",
       "      <td>inf</td>\n",
       "      <td>NaN</td>\n",
       "      <td>1.002106</td>\n",
       "      <td>query</td>\n",
       "      <td>5.0</td>\n",
       "      <td>5</td>\n",
       "    </tr>\n",
       "    <tr>\n",
       "      <th>4</th>\n",
       "      <td>5</td>\n",
       "      <td>DCR00014_1</td>\n",
       "      <td>Control</td>\n",
       "      <td>Female</td>\n",
       "      <td>75.0</td>\n",
       "      <td>CTL</td>\n",
       "      <td>DCR</td>\n",
       "      <td>2</td>\n",
       "      <td>inf</td>\n",
       "      <td>NaN</td>\n",
       "      <td>0.997070</td>\n",
       "      <td>query</td>\n",
       "      <td>5.0</td>\n",
       "      <td>5</td>\n",
       "    </tr>\n",
       "    <tr>\n",
       "      <th>...</th>\n",
       "      <td>...</td>\n",
       "      <td>...</td>\n",
       "      <td>...</td>\n",
       "      <td>...</td>\n",
       "      <td>...</td>\n",
       "      <td>...</td>\n",
       "      <td>...</td>\n",
       "      <td>...</td>\n",
       "      <td>...</td>\n",
       "      <td>...</td>\n",
       "      <td>...</td>\n",
       "      <td>...</td>\n",
       "      <td>...</td>\n",
       "      <td>...</td>\n",
       "    </tr>\n",
       "    <tr>\n",
       "      <th>686</th>\n",
       "      <td>687</td>\n",
       "      <td>TLSMCI607_1</td>\n",
       "      <td>Asym AD</td>\n",
       "      <td>Female</td>\n",
       "      <td>72.0</td>\n",
       "      <td>MCI</td>\n",
       "      <td>Toulouse</td>\n",
       "      <td>1</td>\n",
       "      <td>69.0</td>\n",
       "      <td>NaN</td>\n",
       "      <td>0.999104</td>\n",
       "      <td>query</td>\n",
       "      <td>5.0</td>\n",
       "      <td>5</td>\n",
       "    </tr>\n",
       "    <tr>\n",
       "      <th>687</th>\n",
       "      <td>688</td>\n",
       "      <td>TLSMCI608_1</td>\n",
       "      <td>Asym AD</td>\n",
       "      <td>Male</td>\n",
       "      <td>73.0</td>\n",
       "      <td>MCI</td>\n",
       "      <td>Toulouse</td>\n",
       "      <td>1</td>\n",
       "      <td>71.0</td>\n",
       "      <td>NaN</td>\n",
       "      <td>0.994493</td>\n",
       "      <td>query</td>\n",
       "      <td>5.0</td>\n",
       "      <td>5</td>\n",
       "    </tr>\n",
       "    <tr>\n",
       "      <th>688</th>\n",
       "      <td>689</td>\n",
       "      <td>TLSMCI609_1</td>\n",
       "      <td>Typical AD</td>\n",
       "      <td>Female</td>\n",
       "      <td>63.0</td>\n",
       "      <td>MCI</td>\n",
       "      <td>Toulouse</td>\n",
       "      <td>2</td>\n",
       "      <td>53.0</td>\n",
       "      <td>NaN</td>\n",
       "      <td>1.004423</td>\n",
       "      <td>query</td>\n",
       "      <td>5.0</td>\n",
       "      <td>5</td>\n",
       "    </tr>\n",
       "    <tr>\n",
       "      <th>689</th>\n",
       "      <td>690</td>\n",
       "      <td>TLSMCI611_1</td>\n",
       "      <td>Asym AD</td>\n",
       "      <td>Female</td>\n",
       "      <td>78.0</td>\n",
       "      <td>MCI</td>\n",
       "      <td>Toulouse</td>\n",
       "      <td>2</td>\n",
       "      <td>77.0</td>\n",
       "      <td>NaN</td>\n",
       "      <td>1.002816</td>\n",
       "      <td>query</td>\n",
       "      <td>5.0</td>\n",
       "      <td>5</td>\n",
       "    </tr>\n",
       "    <tr>\n",
       "      <th>690</th>\n",
       "      <td>691</td>\n",
       "      <td>TLSMCI612_1</td>\n",
       "      <td>Asym AD</td>\n",
       "      <td>Female</td>\n",
       "      <td>79.0</td>\n",
       "      <td>MCI</td>\n",
       "      <td>Toulouse</td>\n",
       "      <td>1</td>\n",
       "      <td>77.0</td>\n",
       "      <td>NaN</td>\n",
       "      <td>0.996763</td>\n",
       "      <td>query</td>\n",
       "      <td>5.0</td>\n",
       "      <td>5</td>\n",
       "    </tr>\n",
       "  </tbody>\n",
       "</table>\n",
       "<p>691 rows × 14 columns</p>\n",
       "</div>"
      ],
      "text/plain": [
       "     Unnamed: 0            X       Label  Gender   Age   DX      Site  Batch  \\\n",
       "0             1   DCR00001_1  Low-NFT AD  Female  80.0   AD       DCR      2   \n",
       "1             2   DCR00004_1  Typical AD    Male  78.0  MCI       DCR      2   \n",
       "2             3   DCR00009_1     Asym AD  Female  69.0  CTL       DCR      2   \n",
       "3             4   DCR00013_1     Asym AD    Male  82.0  CTL       DCR      2   \n",
       "4             5   DCR00014_1     Control  Female  75.0  CTL       DCR      2   \n",
       "..          ...          ...         ...     ...   ...  ...       ...    ...   \n",
       "686         687  TLSMCI607_1     Asym AD  Female  72.0  MCI  Toulouse      1   \n",
       "687         688  TLSMCI608_1     Asym AD    Male  73.0  MCI  Toulouse      1   \n",
       "688         689  TLSMCI609_1  Typical AD  Female  63.0  MCI  Toulouse      2   \n",
       "689         690  TLSMCI611_1     Asym AD  Female  78.0  MCI  Toulouse      2   \n",
       "690         691  TLSMCI612_1     Asym AD  Female  79.0  MCI  Toulouse      1   \n",
       "\n",
       "     OnsetAge OnsetPattern  Size_Factor data_set  braak_xfr  braak_fix  \n",
       "0        80.0       Sudden     0.995368    query        5.0          5  \n",
       "1         inf          NaN     0.998300    query        NaN          5  \n",
       "2         inf          NaN     1.001917    query        5.0          5  \n",
       "3         inf          NaN     1.002106    query        5.0          5  \n",
       "4         inf          NaN     0.997070    query        5.0          5  \n",
       "..        ...          ...          ...      ...        ...        ...  \n",
       "686      69.0          NaN     0.999104    query        5.0          5  \n",
       "687      71.0          NaN     0.994493    query        5.0          5  \n",
       "688      53.0          NaN     1.004423    query        5.0          5  \n",
       "689      77.0          NaN     1.002816    query        5.0          5  \n",
       "690      77.0          NaN     0.996763    query        5.0          5  \n",
       "\n",
       "[691 rows x 14 columns]"
      ]
     },
     "execution_count": 11,
     "metadata": {},
     "output_type": "execute_result"
    }
   ],
   "source": [
    "ADNI_Transferred_Label"
   ]
  },
  {
   "cell_type": "code",
   "execution_count": 12,
   "id": "09438408-2f4f-4ca8-b842-d4e5ad92f1d0",
   "metadata": {
    "tags": []
   },
   "outputs": [
    {
     "data": {
      "text/html": [
       "<div>\n",
       "<style scoped>\n",
       "    .dataframe tbody tr th:only-of-type {\n",
       "        vertical-align: middle;\n",
       "    }\n",
       "\n",
       "    .dataframe tbody tr th {\n",
       "        vertical-align: top;\n",
       "    }\n",
       "\n",
       "    .dataframe thead th {\n",
       "        text-align: right;\n",
       "    }\n",
       "</style>\n",
       "<table border=\"1\" class=\"dataframe\">\n",
       "  <thead>\n",
       "    <tr style=\"text-align: right;\">\n",
       "      <th></th>\n",
       "      <th>Gender</th>\n",
       "      <th>Age</th>\n",
       "      <th>DX</th>\n",
       "      <th>Site</th>\n",
       "      <th>Batch</th>\n",
       "      <th>OnsetAge</th>\n",
       "      <th>OnsetPattern</th>\n",
       "      <th>MMSE</th>\n",
       "      <th>CDRSOB</th>\n",
       "      <th>CDRTotal</th>\n",
       "      <th>braaksc_trans</th>\n",
       "      <th>NewLabel</th>\n",
       "    </tr>\n",
       "  </thead>\n",
       "  <tbody>\n",
       "    <tr>\n",
       "      <th>DCR00001_1</th>\n",
       "      <td>Female</td>\n",
       "      <td>80.0</td>\n",
       "      <td>AD</td>\n",
       "      <td>DCR</td>\n",
       "      <td>2</td>\n",
       "      <td>80.0</td>\n",
       "      <td>Sudden</td>\n",
       "      <td>21.0</td>\n",
       "      <td>5.0</td>\n",
       "      <td>1.0</td>\n",
       "      <td>4.0</td>\n",
       "      <td>Typical AD</td>\n",
       "    </tr>\n",
       "    <tr>\n",
       "      <th>DCR00004_1</th>\n",
       "      <td>Male</td>\n",
       "      <td>78.0</td>\n",
       "      <td>MCI</td>\n",
       "      <td>DCR</td>\n",
       "      <td>2</td>\n",
       "      <td>inf</td>\n",
       "      <td>NaN</td>\n",
       "      <td>27.0</td>\n",
       "      <td>0.5</td>\n",
       "      <td>0.5</td>\n",
       "      <td>2.0</td>\n",
       "      <td>Others</td>\n",
       "    </tr>\n",
       "    <tr>\n",
       "      <th>DCR00009_1</th>\n",
       "      <td>Female</td>\n",
       "      <td>69.0</td>\n",
       "      <td>CTL</td>\n",
       "      <td>DCR</td>\n",
       "      <td>2</td>\n",
       "      <td>inf</td>\n",
       "      <td>NaN</td>\n",
       "      <td>30.0</td>\n",
       "      <td>0.0</td>\n",
       "      <td>0.0</td>\n",
       "      <td>2.0</td>\n",
       "      <td>Control</td>\n",
       "    </tr>\n",
       "    <tr>\n",
       "      <th>DCR00013_1</th>\n",
       "      <td>Male</td>\n",
       "      <td>82.0</td>\n",
       "      <td>CTL</td>\n",
       "      <td>DCR</td>\n",
       "      <td>2</td>\n",
       "      <td>inf</td>\n",
       "      <td>NaN</td>\n",
       "      <td>30.0</td>\n",
       "      <td>0.0</td>\n",
       "      <td>0.0</td>\n",
       "      <td>4.0</td>\n",
       "      <td>Others</td>\n",
       "    </tr>\n",
       "    <tr>\n",
       "      <th>DCR00014_1</th>\n",
       "      <td>Female</td>\n",
       "      <td>75.0</td>\n",
       "      <td>CTL</td>\n",
       "      <td>DCR</td>\n",
       "      <td>2</td>\n",
       "      <td>inf</td>\n",
       "      <td>NaN</td>\n",
       "      <td>30.0</td>\n",
       "      <td>inf</td>\n",
       "      <td>inf</td>\n",
       "      <td>5.0</td>\n",
       "      <td>Others</td>\n",
       "    </tr>\n",
       "    <tr>\n",
       "      <th>...</th>\n",
       "      <td>...</td>\n",
       "      <td>...</td>\n",
       "      <td>...</td>\n",
       "      <td>...</td>\n",
       "      <td>...</td>\n",
       "      <td>...</td>\n",
       "      <td>...</td>\n",
       "      <td>...</td>\n",
       "      <td>...</td>\n",
       "      <td>...</td>\n",
       "      <td>...</td>\n",
       "      <td>...</td>\n",
       "    </tr>\n",
       "    <tr>\n",
       "      <th>TLSMCI607_1</th>\n",
       "      <td>Female</td>\n",
       "      <td>72.0</td>\n",
       "      <td>MCI</td>\n",
       "      <td>Toulouse</td>\n",
       "      <td>1</td>\n",
       "      <td>69.0</td>\n",
       "      <td>NaN</td>\n",
       "      <td>29.0</td>\n",
       "      <td>1.0</td>\n",
       "      <td>0.5</td>\n",
       "      <td>5.0</td>\n",
       "      <td>Asym AD</td>\n",
       "    </tr>\n",
       "    <tr>\n",
       "      <th>TLSMCI608_1</th>\n",
       "      <td>Male</td>\n",
       "      <td>73.0</td>\n",
       "      <td>MCI</td>\n",
       "      <td>Toulouse</td>\n",
       "      <td>1</td>\n",
       "      <td>71.0</td>\n",
       "      <td>NaN</td>\n",
       "      <td>28.0</td>\n",
       "      <td>1.0</td>\n",
       "      <td>0.5</td>\n",
       "      <td>4.0</td>\n",
       "      <td>Asym AD</td>\n",
       "    </tr>\n",
       "    <tr>\n",
       "      <th>TLSMCI609_1</th>\n",
       "      <td>Female</td>\n",
       "      <td>63.0</td>\n",
       "      <td>MCI</td>\n",
       "      <td>Toulouse</td>\n",
       "      <td>2</td>\n",
       "      <td>53.0</td>\n",
       "      <td>NaN</td>\n",
       "      <td>28.0</td>\n",
       "      <td>0.5</td>\n",
       "      <td>0.5</td>\n",
       "      <td>4.0</td>\n",
       "      <td>Asym AD</td>\n",
       "    </tr>\n",
       "    <tr>\n",
       "      <th>TLSMCI611_1</th>\n",
       "      <td>Female</td>\n",
       "      <td>78.0</td>\n",
       "      <td>MCI</td>\n",
       "      <td>Toulouse</td>\n",
       "      <td>2</td>\n",
       "      <td>77.0</td>\n",
       "      <td>NaN</td>\n",
       "      <td>30.0</td>\n",
       "      <td>1.0</td>\n",
       "      <td>0.5</td>\n",
       "      <td>4.0</td>\n",
       "      <td>Asym AD</td>\n",
       "    </tr>\n",
       "    <tr>\n",
       "      <th>TLSMCI612_1</th>\n",
       "      <td>Female</td>\n",
       "      <td>79.0</td>\n",
       "      <td>MCI</td>\n",
       "      <td>Toulouse</td>\n",
       "      <td>1</td>\n",
       "      <td>77.0</td>\n",
       "      <td>NaN</td>\n",
       "      <td>28.0</td>\n",
       "      <td>0.5</td>\n",
       "      <td>0.5</td>\n",
       "      <td>4.0</td>\n",
       "      <td>Asym AD</td>\n",
       "    </tr>\n",
       "  </tbody>\n",
       "</table>\n",
       "<p>691 rows × 12 columns</p>\n",
       "</div>"
      ],
      "text/plain": [
       "             Gender   Age   DX      Site  Batch  OnsetAge OnsetPattern  MMSE  \\\n",
       "DCR00001_1   Female  80.0   AD       DCR      2      80.0       Sudden  21.0   \n",
       "DCR00004_1     Male  78.0  MCI       DCR      2       inf          NaN  27.0   \n",
       "DCR00009_1   Female  69.0  CTL       DCR      2       inf          NaN  30.0   \n",
       "DCR00013_1     Male  82.0  CTL       DCR      2       inf          NaN  30.0   \n",
       "DCR00014_1   Female  75.0  CTL       DCR      2       inf          NaN  30.0   \n",
       "...             ...   ...  ...       ...    ...       ...          ...   ...   \n",
       "TLSMCI607_1  Female  72.0  MCI  Toulouse      1      69.0          NaN  29.0   \n",
       "TLSMCI608_1    Male  73.0  MCI  Toulouse      1      71.0          NaN  28.0   \n",
       "TLSMCI609_1  Female  63.0  MCI  Toulouse      2      53.0          NaN  28.0   \n",
       "TLSMCI611_1  Female  78.0  MCI  Toulouse      2      77.0          NaN  30.0   \n",
       "TLSMCI612_1  Female  79.0  MCI  Toulouse      1      77.0          NaN  28.0   \n",
       "\n",
       "             CDRSOB  CDRTotal  braaksc_trans    NewLabel  \n",
       "DCR00001_1      5.0       1.0            4.0  Typical AD  \n",
       "DCR00004_1      0.5       0.5            2.0      Others  \n",
       "DCR00009_1      0.0       0.0            2.0     Control  \n",
       "DCR00013_1      0.0       0.0            4.0      Others  \n",
       "DCR00014_1      inf       inf            5.0      Others  \n",
       "...             ...       ...            ...         ...  \n",
       "TLSMCI607_1     1.0       0.5            5.0     Asym AD  \n",
       "TLSMCI608_1     1.0       0.5            4.0     Asym AD  \n",
       "TLSMCI609_1     0.5       0.5            4.0     Asym AD  \n",
       "TLSMCI611_1     1.0       0.5            4.0     Asym AD  \n",
       "TLSMCI612_1     0.5       0.5            4.0     Asym AD  \n",
       "\n",
       "[691 rows x 12 columns]"
      ]
     },
     "execution_count": 12,
     "metadata": {},
     "output_type": "execute_result"
    }
   ],
   "source": [
    "Blood_Adni_Info"
   ]
  },
  {
   "cell_type": "code",
   "execution_count": 14,
   "id": "c565bd58-0d9f-432c-a4f1-53c329d8c845",
   "metadata": {
    "tags": []
   },
   "outputs": [],
   "source": [
    "SID = list(ADNI_Transferred_Label.X)\n",
    "Braak_trans = list(ADNI_Transferred_Label.braak_fix)\n",
    "\n",
    "Mapping_SID_Braak = dict(zip(SID, Braak_trans))\n",
    "\n",
    "SID = list(Blood_Adni_Info.index)\n",
    "DX = list(Blood_Adni_Info.DX)\n",
    "CDRSB = list(Blood_Adni_Info.CDRSOB)\n",
    "\n",
    "Mapping_SID_DX = dict(zip(SID, DX))\n",
    "Mapping_SID_CDRSB = dict(zip(SID, CDRSB))\n"
   ]
  },
  {
   "cell_type": "code",
   "execution_count": 15,
   "id": "cb7cbcd5-d5d0-4eeb-8ba4-5e846756744e",
   "metadata": {
    "tags": []
   },
   "outputs": [],
   "source": [
    "SID = list(adata_adni.obs.index)\n",
    "\n",
    "DXlist = list()\n",
    "Braaklist = list()\n",
    "CDRSBlist = list()\n",
    "for st in SID:\n",
    "    DXlist.append(Mapping_SID_DX[st])\n",
    "    Braaklist.append(Mapping_SID_Braak[st])\n",
    "    CDRSBlist.append(Mapping_SID_CDRSB[st])"
   ]
  },
  {
   "cell_type": "code",
   "execution_count": 16,
   "id": "bb9f120b-3abc-40b1-98f9-d9b7f3bde6ab",
   "metadata": {
    "tags": []
   },
   "outputs": [],
   "source": [
    "adata_adni.obs['DX'] = DXlist\n",
    "adata_adni.obs['braaksc_trans'] = Braaklist\n",
    "adata_adni.obs['CDRSOB'] = CDRSBlist"
   ]
  },
  {
   "cell_type": "code",
   "execution_count": 17,
   "id": "cb454d6f-c13b-4632-ba1a-4abbc6de4be0",
   "metadata": {
    "tags": []
   },
   "outputs": [
    {
     "data": {
      "text/html": [
       "<div>\n",
       "<style scoped>\n",
       "    .dataframe tbody tr th:only-of-type {\n",
       "        vertical-align: middle;\n",
       "    }\n",
       "\n",
       "    .dataframe tbody tr th {\n",
       "        vertical-align: top;\n",
       "    }\n",
       "\n",
       "    .dataframe thead th {\n",
       "        text-align: right;\n",
       "    }\n",
       "</style>\n",
       "<table border=\"1\" class=\"dataframe\">\n",
       "  <thead>\n",
       "    <tr style=\"text-align: right;\">\n",
       "      <th></th>\n",
       "      <th>DX</th>\n",
       "      <th>braaksc_trans</th>\n",
       "      <th>CDRSOB</th>\n",
       "    </tr>\n",
       "  </thead>\n",
       "  <tbody>\n",
       "    <tr>\n",
       "      <th>DCR00001_1</th>\n",
       "      <td>AD</td>\n",
       "      <td>5</td>\n",
       "      <td>5.0</td>\n",
       "    </tr>\n",
       "    <tr>\n",
       "      <th>DCR00004_1</th>\n",
       "      <td>MCI</td>\n",
       "      <td>5</td>\n",
       "      <td>0.5</td>\n",
       "    </tr>\n",
       "    <tr>\n",
       "      <th>DCR00009_1</th>\n",
       "      <td>CTL</td>\n",
       "      <td>5</td>\n",
       "      <td>0.0</td>\n",
       "    </tr>\n",
       "    <tr>\n",
       "      <th>DCR00013_1</th>\n",
       "      <td>CTL</td>\n",
       "      <td>5</td>\n",
       "      <td>0.0</td>\n",
       "    </tr>\n",
       "    <tr>\n",
       "      <th>DCR00014_1</th>\n",
       "      <td>CTL</td>\n",
       "      <td>5</td>\n",
       "      <td>inf</td>\n",
       "    </tr>\n",
       "    <tr>\n",
       "      <th>...</th>\n",
       "      <td>...</td>\n",
       "      <td>...</td>\n",
       "      <td>...</td>\n",
       "    </tr>\n",
       "    <tr>\n",
       "      <th>TLSMCI607_1</th>\n",
       "      <td>MCI</td>\n",
       "      <td>5</td>\n",
       "      <td>1.0</td>\n",
       "    </tr>\n",
       "    <tr>\n",
       "      <th>TLSMCI608_1</th>\n",
       "      <td>MCI</td>\n",
       "      <td>5</td>\n",
       "      <td>1.0</td>\n",
       "    </tr>\n",
       "    <tr>\n",
       "      <th>TLSMCI609_1</th>\n",
       "      <td>MCI</td>\n",
       "      <td>5</td>\n",
       "      <td>0.5</td>\n",
       "    </tr>\n",
       "    <tr>\n",
       "      <th>TLSMCI611_1</th>\n",
       "      <td>MCI</td>\n",
       "      <td>5</td>\n",
       "      <td>1.0</td>\n",
       "    </tr>\n",
       "    <tr>\n",
       "      <th>TLSMCI612_1</th>\n",
       "      <td>MCI</td>\n",
       "      <td>5</td>\n",
       "      <td>0.5</td>\n",
       "    </tr>\n",
       "  </tbody>\n",
       "</table>\n",
       "<p>691 rows × 3 columns</p>\n",
       "</div>"
      ],
      "text/plain": [
       "              DX  braaksc_trans  CDRSOB\n",
       "DCR00001_1    AD              5     5.0\n",
       "DCR00004_1   MCI              5     0.5\n",
       "DCR00009_1   CTL              5     0.0\n",
       "DCR00013_1   CTL              5     0.0\n",
       "DCR00014_1   CTL              5     inf\n",
       "...          ...            ...     ...\n",
       "TLSMCI607_1  MCI              5     1.0\n",
       "TLSMCI608_1  MCI              5     1.0\n",
       "TLSMCI609_1  MCI              5     0.5\n",
       "TLSMCI611_1  MCI              5     1.0\n",
       "TLSMCI612_1  MCI              5     0.5\n",
       "\n",
       "[691 rows x 3 columns]"
      ]
     },
     "execution_count": 17,
     "metadata": {},
     "output_type": "execute_result"
    }
   ],
   "source": [
    "adata_adni.obs"
   ]
  },
  {
   "cell_type": "code",
   "execution_count": null,
   "id": "95f62503-e543-41e5-aeb9-f1aa9eb60ca9",
   "metadata": {},
   "outputs": [],
   "source": []
  },
  {
   "cell_type": "code",
   "execution_count": null,
   "id": "5a658e93-e11c-4540-bad4-4775154b3d64",
   "metadata": {},
   "outputs": [],
   "source": []
  },
  {
   "cell_type": "code",
   "execution_count": null,
   "id": "ca850334-619a-42fe-959e-95f6f9e21077",
   "metadata": {},
   "outputs": [],
   "source": []
  },
  {
   "cell_type": "markdown",
   "id": "3acdcfa6-a319-4900-9428-b8150d3cfb2c",
   "metadata": {},
   "source": [
    "# Classify"
   ]
  },
  {
   "cell_type": "code",
   "execution_count": 18,
   "id": "b76158af-8822-4acb-95d8-43405a893786",
   "metadata": {
    "tags": []
   },
   "outputs": [],
   "source": [
    "anndata_Target = adata_adni"
   ]
  },
  {
   "cell_type": "code",
   "execution_count": 19,
   "id": "3568f240-1100-4dbf-b634-34bd875476fb",
   "metadata": {
    "tags": []
   },
   "outputs": [
    {
     "data": {
      "text/html": [
       "<div>\n",
       "<style scoped>\n",
       "    .dataframe tbody tr th:only-of-type {\n",
       "        vertical-align: middle;\n",
       "    }\n",
       "\n",
       "    .dataframe tbody tr th {\n",
       "        vertical-align: top;\n",
       "    }\n",
       "\n",
       "    .dataframe thead th {\n",
       "        text-align: right;\n",
       "    }\n",
       "</style>\n",
       "<table border=\"1\" class=\"dataframe\">\n",
       "  <thead>\n",
       "    <tr style=\"text-align: right;\">\n",
       "      <th></th>\n",
       "      <th>DX</th>\n",
       "      <th>braaksc_trans</th>\n",
       "      <th>CDRSOB</th>\n",
       "    </tr>\n",
       "  </thead>\n",
       "  <tbody>\n",
       "    <tr>\n",
       "      <th>DCR00001_1</th>\n",
       "      <td>AD</td>\n",
       "      <td>5</td>\n",
       "      <td>5.0</td>\n",
       "    </tr>\n",
       "    <tr>\n",
       "      <th>DCR00004_1</th>\n",
       "      <td>MCI</td>\n",
       "      <td>5</td>\n",
       "      <td>0.5</td>\n",
       "    </tr>\n",
       "    <tr>\n",
       "      <th>DCR00009_1</th>\n",
       "      <td>CTL</td>\n",
       "      <td>5</td>\n",
       "      <td>0.0</td>\n",
       "    </tr>\n",
       "    <tr>\n",
       "      <th>DCR00013_1</th>\n",
       "      <td>CTL</td>\n",
       "      <td>5</td>\n",
       "      <td>0.0</td>\n",
       "    </tr>\n",
       "    <tr>\n",
       "      <th>DCR00014_1</th>\n",
       "      <td>CTL</td>\n",
       "      <td>5</td>\n",
       "      <td>inf</td>\n",
       "    </tr>\n",
       "    <tr>\n",
       "      <th>...</th>\n",
       "      <td>...</td>\n",
       "      <td>...</td>\n",
       "      <td>...</td>\n",
       "    </tr>\n",
       "    <tr>\n",
       "      <th>TLSMCI607_1</th>\n",
       "      <td>MCI</td>\n",
       "      <td>5</td>\n",
       "      <td>1.0</td>\n",
       "    </tr>\n",
       "    <tr>\n",
       "      <th>TLSMCI608_1</th>\n",
       "      <td>MCI</td>\n",
       "      <td>5</td>\n",
       "      <td>1.0</td>\n",
       "    </tr>\n",
       "    <tr>\n",
       "      <th>TLSMCI609_1</th>\n",
       "      <td>MCI</td>\n",
       "      <td>5</td>\n",
       "      <td>0.5</td>\n",
       "    </tr>\n",
       "    <tr>\n",
       "      <th>TLSMCI611_1</th>\n",
       "      <td>MCI</td>\n",
       "      <td>5</td>\n",
       "      <td>1.0</td>\n",
       "    </tr>\n",
       "    <tr>\n",
       "      <th>TLSMCI612_1</th>\n",
       "      <td>MCI</td>\n",
       "      <td>5</td>\n",
       "      <td>0.5</td>\n",
       "    </tr>\n",
       "  </tbody>\n",
       "</table>\n",
       "<p>691 rows × 3 columns</p>\n",
       "</div>"
      ],
      "text/plain": [
       "              DX  braaksc_trans  CDRSOB\n",
       "DCR00001_1    AD              5     5.0\n",
       "DCR00004_1   MCI              5     0.5\n",
       "DCR00009_1   CTL              5     0.0\n",
       "DCR00013_1   CTL              5     0.0\n",
       "DCR00014_1   CTL              5     inf\n",
       "...          ...            ...     ...\n",
       "TLSMCI607_1  MCI              5     1.0\n",
       "TLSMCI608_1  MCI              5     1.0\n",
       "TLSMCI609_1  MCI              5     0.5\n",
       "TLSMCI611_1  MCI              5     1.0\n",
       "TLSMCI612_1  MCI              5     0.5\n",
       "\n",
       "[691 rows x 3 columns]"
      ]
     },
     "execution_count": 19,
     "metadata": {},
     "output_type": "execute_result"
    }
   ],
   "source": [
    "anndata_Target.obs"
   ]
  },
  {
   "cell_type": "code",
   "execution_count": 20,
   "id": "451d9c09-613e-4163-b549-2b6f0a31fdd5",
   "metadata": {
    "tags": []
   },
   "outputs": [],
   "source": [
    "Label = list()\n",
    "SID = list(anndata_Target.obs.index)\n",
    "\n",
    "for gt in SID:\n",
    "    CRD = anndata_Target.obs.loc[gt,:].CDRSOB\n",
    "    Braak = anndata_Target.obs.loc[gt,:].braaksc_trans\n",
    "    Dx = anndata_Target.obs.loc[gt,:].DX\n",
    "    if CRD > 4 and Braak >=4:\n",
    "        Label.append(\"Typical AD\")\n",
    "    elif CRD <= 4 and Braak >=4 and CRD > 0:\n",
    "        Label.append(\"Asym AD\")\n",
    "    elif CRD > 4 and Braak <=2:\n",
    "        Label.append(\"Low-NFT AD\")\n",
    "    elif CRD <= 0.5 and Braak <=2:\n",
    "        Label.append(\"Control\")\n",
    "    else:\n",
    "        Label.append(\"Others\")"
   ]
  },
  {
   "cell_type": "code",
   "execution_count": 23,
   "id": "4c879a4d-7ea0-4a09-bcb3-47b58e8e93c9",
   "metadata": {
    "tags": []
   },
   "outputs": [],
   "source": [
    "anndata_Target.obs['NewLabel'] = Label"
   ]
  },
  {
   "cell_type": "code",
   "execution_count": 24,
   "id": "bc20040f-a14f-4c40-9154-6b902c35cbfd",
   "metadata": {
    "tags": []
   },
   "outputs": [
    {
     "name": "stdout",
     "output_type": "stream",
     "text": [
      "Counter({'MCI': 200, 'AD': 49, 'CTL': 36})\n",
      "Asym AD transfer accuracy is  0.8280701754385965\n"
     ]
    }
   ],
   "source": [
    "df = anndata_Target.obs[anndata_Target.obs.NewLabel=='Asym AD']\n",
    "counter = collections.Counter(df['DX'])\n",
    "print(counter)\n",
    "Acc_Asym = (counter['CTL'] + counter['MCI']) / df.shape[0]\n",
    "print(\"Asym AD transfer accuracy is \", Acc_Asym)"
   ]
  },
  {
   "cell_type": "code",
   "execution_count": 25,
   "id": "fdef6e46-afe1-4382-a7d7-c4ba8e366d33",
   "metadata": {
    "tags": []
   },
   "outputs": [
    {
     "name": "stdout",
     "output_type": "stream",
     "text": [
      "Counter({'AD': 174, 'CTL': 20, 'MCI': 16})\n",
      "Typical AD transfer accuracy is  0.9047619047619048\n"
     ]
    }
   ],
   "source": [
    "df = anndata_Target.obs[anndata_Target.obs.NewLabel=='Typical AD']\n",
    "counter = collections.Counter(df['DX'])\n",
    "print(counter)\n",
    "Acc_TAD = (counter['AD'] + counter['MCI']) / df.shape[0]\n",
    "print(\"Typical AD transfer accuracy is \", Acc_TAD)"
   ]
  },
  {
   "cell_type": "code",
   "execution_count": 26,
   "id": "295f63a3-23de-4b01-9abf-aee03a6ddc41",
   "metadata": {
    "tags": []
   },
   "outputs": [
    {
     "name": "stdout",
     "output_type": "stream",
     "text": [
      "Counter()\n"
     ]
    },
    {
     "ename": "ZeroDivisionError",
     "evalue": "division by zero",
     "output_type": "error",
     "traceback": [
      "\u001b[0;31m---------------------------------------------------------------------------\u001b[0m",
      "\u001b[0;31mZeroDivisionError\u001b[0m                         Traceback (most recent call last)",
      "Cell \u001b[0;32mIn[26], line 4\u001b[0m\n\u001b[1;32m      2\u001b[0m counter \u001b[38;5;241m=\u001b[39m collections\u001b[38;5;241m.\u001b[39mCounter(df[\u001b[38;5;124m'\u001b[39m\u001b[38;5;124mDX\u001b[39m\u001b[38;5;124m'\u001b[39m])\n\u001b[1;32m      3\u001b[0m \u001b[38;5;28mprint\u001b[39m(counter)\n\u001b[0;32m----> 4\u001b[0m Acc_LTau \u001b[38;5;241m=\u001b[39m \u001b[43m(\u001b[49m\u001b[43mcounter\u001b[49m\u001b[43m[\u001b[49m\u001b[38;5;124;43m'\u001b[39;49m\u001b[38;5;124;43mAD\u001b[39;49m\u001b[38;5;124;43m'\u001b[39;49m\u001b[43m]\u001b[49m\u001b[43m \u001b[49m\u001b[38;5;241;43m+\u001b[39;49m\u001b[43m \u001b[49m\u001b[43mcounter\u001b[49m\u001b[43m[\u001b[49m\u001b[38;5;124;43m'\u001b[39;49m\u001b[38;5;124;43mMCI\u001b[39;49m\u001b[38;5;124;43m'\u001b[39;49m\u001b[43m]\u001b[49m\u001b[43m)\u001b[49m\u001b[43m \u001b[49m\u001b[38;5;241;43m/\u001b[39;49m\u001b[43m \u001b[49m\u001b[43mdf\u001b[49m\u001b[38;5;241;43m.\u001b[39;49m\u001b[43mshape\u001b[49m\u001b[43m[\u001b[49m\u001b[38;5;241;43m0\u001b[39;49m\u001b[43m]\u001b[49m\n\u001b[1;32m      5\u001b[0m \u001b[38;5;28mprint\u001b[39m(\u001b[38;5;124m\"\u001b[39m\u001b[38;5;124mLow-NFT AD transfer accuracy is \u001b[39m\u001b[38;5;124m\"\u001b[39m, Acc_LTau)\n",
      "\u001b[0;31mZeroDivisionError\u001b[0m: division by zero"
     ]
    }
   ],
   "source": [
    "df = anndata_Target.obs[anndata_Target.obs.NewLabel=='Low-NFT AD']\n",
    "counter = collections.Counter(df['DX'])\n",
    "print(counter)\n",
    "Acc_LTau = (counter['AD'] + counter['MCI']) / df.shape[0]\n",
    "print(\"Low-NFT AD transfer accuracy is \", Acc_LTau)"
   ]
  },
  {
   "cell_type": "code",
   "execution_count": 27,
   "id": "6331587a-4155-4d51-a9c1-072e3221330d",
   "metadata": {
    "tags": []
   },
   "outputs": [
    {
     "name": "stdout",
     "output_type": "stream",
     "text": [
      "Counter()\n"
     ]
    },
    {
     "ename": "ZeroDivisionError",
     "evalue": "division by zero",
     "output_type": "error",
     "traceback": [
      "\u001b[0;31m---------------------------------------------------------------------------\u001b[0m",
      "\u001b[0;31mZeroDivisionError\u001b[0m                         Traceback (most recent call last)",
      "Cell \u001b[0;32mIn[27], line 4\u001b[0m\n\u001b[1;32m      2\u001b[0m counter \u001b[38;5;241m=\u001b[39m collections\u001b[38;5;241m.\u001b[39mCounter(df[\u001b[38;5;124m'\u001b[39m\u001b[38;5;124mDX\u001b[39m\u001b[38;5;124m'\u001b[39m])\n\u001b[1;32m      3\u001b[0m \u001b[38;5;28mprint\u001b[39m(counter)\n\u001b[0;32m----> 4\u001b[0m Acc_CN \u001b[38;5;241m=\u001b[39m \u001b[43m(\u001b[49m\u001b[43mcounter\u001b[49m\u001b[43m[\u001b[49m\u001b[38;5;124;43m'\u001b[39;49m\u001b[38;5;124;43mCTL\u001b[39;49m\u001b[38;5;124;43m'\u001b[39;49m\u001b[43m]\u001b[49m\u001b[43m)\u001b[49m\u001b[43m \u001b[49m\u001b[38;5;241;43m/\u001b[39;49m\u001b[43m \u001b[49m\u001b[43mdf\u001b[49m\u001b[38;5;241;43m.\u001b[39;49m\u001b[43mshape\u001b[49m\u001b[43m[\u001b[49m\u001b[38;5;241;43m0\u001b[39;49m\u001b[43m]\u001b[49m\n\u001b[1;32m      5\u001b[0m \u001b[38;5;28mprint\u001b[39m(\u001b[38;5;124m\"\u001b[39m\u001b[38;5;124mControl transfer accuracy is \u001b[39m\u001b[38;5;124m\"\u001b[39m, Acc_CN)\n",
      "\u001b[0;31mZeroDivisionError\u001b[0m: division by zero"
     ]
    }
   ],
   "source": [
    "df = anndata_Target.obs[anndata_Target.obs.NewLabel=='Control']\n",
    "counter = collections.Counter(df['DX'])\n",
    "print(counter)\n",
    "Acc_CN = (counter['CTL']) / df.shape[0]\n",
    "print(\"Control transfer accuracy is \", Acc_CN)"
   ]
  },
  {
   "cell_type": "code",
   "execution_count": null,
   "id": "d3ff6392-34e5-41c8-b05d-6089c85156d3",
   "metadata": {
    "tags": []
   },
   "outputs": [],
   "source": [
    "df = anndata_Target.obs[anndata_Target.obs.NewLabel=='Others']\n",
    "counter = collections.Counter(df['DX'])\n",
    "print(counter)"
   ]
  },
  {
   "cell_type": "code",
   "execution_count": null,
   "id": "5bd1aa90-e714-4ec5-b3ea-541684c35764",
   "metadata": {
    "tags": []
   },
   "outputs": [],
   "source": [
    "Acc_Avg = (Acc_Asym + Acc_CN + Acc_LTau + Acc_TAD)/4\n",
    "print(\"Avg acc is \", Acc_Avg)"
   ]
  },
  {
   "cell_type": "code",
   "execution_count": null,
   "id": "809df0e5-aad0-4615-903f-8e8105d8e89e",
   "metadata": {
    "tags": []
   },
   "outputs": [],
   "source": [
    "counter = collections.Counter(Label)\n",
    "print(counter)"
   ]
  },
  {
   "cell_type": "code",
   "execution_count": null,
   "id": "46e8bce6-c152-48d9-959c-e72b90edaa92",
   "metadata": {
    "tags": []
   },
   "outputs": [],
   "source": [
    "len(Label)-247"
   ]
  },
  {
   "cell_type": "code",
   "execution_count": null,
   "id": "5d52aba1-04ae-4b25-8101-04f8e024a9cd",
   "metadata": {},
   "outputs": [],
   "source": []
  },
  {
   "cell_type": "code",
   "execution_count": null,
   "id": "9fe3fde1-33f0-4f31-be16-3222a5434788",
   "metadata": {},
   "outputs": [],
   "source": []
  },
  {
   "cell_type": "code",
   "execution_count": null,
   "id": "87944cd6-b6fb-4c9b-b019-716893db0f40",
   "metadata": {},
   "outputs": [],
   "source": []
  },
  {
   "cell_type": "code",
   "execution_count": null,
   "id": "9806ab06-e981-49b4-9436-b1b4c04fd767",
   "metadata": {},
   "outputs": [],
   "source": []
  },
  {
   "cell_type": "code",
   "execution_count": null,
   "id": "e800451f-d0cb-4901-941d-1161180f9cbb",
   "metadata": {},
   "outputs": [],
   "source": []
  },
  {
   "cell_type": "code",
   "execution_count": null,
   "id": "dc6b0b8e-75f1-41d1-b195-2ddcbacfca8a",
   "metadata": {},
   "outputs": [],
   "source": []
  },
  {
   "cell_type": "code",
   "execution_count": null,
   "id": "5e3e5745-5203-42ec-8155-aa4c9d71e51c",
   "metadata": {},
   "outputs": [],
   "source": []
  },
  {
   "cell_type": "code",
   "execution_count": null,
   "id": "30d0aa40-e166-44a2-86d1-c608b4f28f12",
   "metadata": {},
   "outputs": [],
   "source": []
  },
  {
   "cell_type": "code",
   "execution_count": null,
   "id": "485d37e5-dcb1-4542-b258-976b323c7bc6",
   "metadata": {},
   "outputs": [],
   "source": []
  },
  {
   "cell_type": "code",
   "execution_count": null,
   "id": "080ec280-2c9b-4b44-9557-220f6eced3e6",
   "metadata": {},
   "outputs": [],
   "source": []
  },
  {
   "cell_type": "code",
   "execution_count": null,
   "id": "5edd715c-727f-4c32-b93a-0bf06fb18309",
   "metadata": {},
   "outputs": [],
   "source": []
  },
  {
   "cell_type": "code",
   "execution_count": null,
   "id": "bd7f7b7e-69d2-4357-845c-a3a9e4c298f5",
   "metadata": {},
   "outputs": [],
   "source": []
  },
  {
   "cell_type": "code",
   "execution_count": null,
   "id": "0e9cb7a7-293f-4365-9d71-7f322a5b15e3",
   "metadata": {},
   "outputs": [],
   "source": []
  },
  {
   "cell_type": "code",
   "execution_count": null,
   "id": "553b8a82-9bdd-4d34-9dcc-76db886ab191",
   "metadata": {},
   "outputs": [],
   "source": []
  },
  {
   "cell_type": "code",
   "execution_count": null,
   "id": "cce759b6-a904-4082-bef1-86e3c02d01fc",
   "metadata": {},
   "outputs": [],
   "source": []
  },
  {
   "cell_type": "code",
   "execution_count": null,
   "id": "7fa8307c-ffc4-4705-98f8-af7ad6f1af56",
   "metadata": {},
   "outputs": [],
   "source": []
  },
  {
   "cell_type": "code",
   "execution_count": null,
   "id": "ec16cb36-99b1-4d61-8de5-6e2719da8eca",
   "metadata": {},
   "outputs": [],
   "source": []
  },
  {
   "cell_type": "code",
   "execution_count": null,
   "id": "9fcbb1ff-caa8-489d-9d84-910390a8e926",
   "metadata": {},
   "outputs": [],
   "source": []
  },
  {
   "cell_type": "code",
   "execution_count": null,
   "id": "1d2ae058-ad7d-485b-91ab-f58a2e78a259",
   "metadata": {},
   "outputs": [],
   "source": []
  },
  {
   "cell_type": "code",
   "execution_count": 6,
   "id": "b82fd6ba-b0e2-48d8-907c-4ee7c1dc8270",
   "metadata": {
    "tags": []
   },
   "outputs": [
    {
     "name": "stdout",
     "output_type": "stream",
     "text": [
      "{'Typical AD': 46, 'Asym AD': 88, 'Control': 18, 'Low-NFT AD': 5}\n",
      "[1, 2, 2, 0, 1, 2, 1, 0, 2, 1, 2, 1, 2, 2, 2, 2, 2, 2, 2, 1, 2, 2, 2, 2, 0, 1, 2, 2, 2, 1, 1, 2, 1, 1, 1, 1, 2, 0, 1, 1, 2, 1, 2, 2, 2, 1, 2, 2, 1, 1, 2, 1, 0, 2, 2, 2, 1, 2, 2, 2, 2, 2, 2, 2, 1, 2, 2, 1, 1, 2, 2, 2, 2, 2, 2, 1, 2, 0, 2, 2, 1, 2, 2, 2, 1, 0, 0, 2, 2, 2, 1, 1, 2, 2, 0, 2, 3, 2, 1, 0, 2, 2, 3, 1, 0, 0, 2, 2, 2, 2, 3, 0, 0, 2, 2, 0, 1, 1, 1, 1, 1, 2, 2, 2, 2, 1, 1, 2, 2, 1, 2, 0, 1, 1, 2, 2, 1, 1, 2, 1, 2, 2, 0, 0, 1, 2, 2, 2, 2, 3, 1, 2, 2, 2, 3, 2, 2]\n",
      "157\n"
     ]
    }
   ],
   "source": [
    "import collections\n",
    "# For rosmap blood\n",
    "Blood_ROSMAP_Info = Blood_Info\n",
    "BloodSampleID_Rosmap = list(adata_rosmap.obs.index)\n",
    "\n",
    "SID = list(Blood_ROSMAP_Info.specimenID)\n",
    "ADType = list(Blood_ROSMAP_Info.Group1)\n",
    "Mapping = {'Control': 0, 'Typical AD': 1, 'Asym AD': 2, 'Low-NFT AD': 3}\n",
    "frequency_rosmap = collections.Counter(ADType)\n",
    "print(dict(frequency_rosmap))\n",
    "\n",
    "Rosmap_Sample_CN = list()\n",
    "Rosmap_Sample_TAD = list()\n",
    "Rosmap_Sample_AAD = list()\n",
    "for i in range(len(SID)):\n",
    "    if ADType[i] == 'Control':\n",
    "        Rosmap_Sample_CN.append(SID[i])\n",
    "    if ADType[i] == 'Typical AD' or ADType[i] == 'Low-NFT AD':\n",
    "        Rosmap_Sample_TAD.append(SID[i])\n",
    "    if ADType[i] == 'Asym AD':\n",
    "        Rosmap_Sample_AAD.append(SID[i])\n",
    "#print(Rosmap_Sample_CN)\n",
    "#print(Rosmap_Sample_TAD)\n",
    "#print(Rosmap_Sample_AAD)\n",
    "\n",
    "SType_Blood_Rosmap = list()\n",
    "for i in range(len(BloodSampleID_Rosmap)):\n",
    "    if BloodSampleID_Rosmap[i] in SID:\n",
    "        indt = SID.index(BloodSampleID_Rosmap[i])\n",
    "        tmp = Mapping[ADType[indt]]\n",
    "        SType_Blood_Rosmap.append(tmp)\n",
    "print(SType_Blood_Rosmap)\n",
    "print(len(SType_Blood_Rosmap))"
   ]
  },
  {
   "cell_type": "code",
   "execution_count": 7,
   "id": "7b348c7b-3d6d-4f85-b939-d5d38e61dc6e",
   "metadata": {
    "tags": []
   },
   "outputs": [
    {
     "name": "stdout",
     "output_type": "stream",
     "text": [
      "['CN', 'CN', 'Dementia', 'CN', 'MCI', 'MCI', 'CN', 'MCI', 'CN', 'MCI', 'MCI', 'MCI', 'MCI', 'MCI', 'MCI', 'CN', 'CN', 'MCI', 'MCI', 'CN', 'CN', 'MCI', 'MCI', 'MCI', 'MCI', 'MCI', 'Dementia', 'Dementia', 'MCI', 'MCI', 'MCI', 'Dementia', 'MCI', 'MCI', 'Dementia', 'MCI', 'MCI', 'Dementia', 'MCI', 'MCI', 'CN', 'CN', 'CN', 'MCI', 'CN', 'CN', 'MCI', 'CN', 'Dementia', 'CN', 'MCI', 'MCI', 'MCI', 'MCI', 'MCI', 'MCI', 'CN', 'CN', 'CN', 'MCI', 'CN', 'CN', 'MCI', 'MCI', 'CN', 'MCI', 'MCI', 'CN', 'Dementia', 'CN', 'CN', 'MCI', 'MCI', 'CN', 'CN', 'CN', 'MCI', 'MCI', 'Dementia', 'CN', 'MCI', 'Dementia', 'CN', 'CN', 'CN', 'MCI', 'MCI', 'MCI', 'CN', 'CN', 'MCI', 'CN', 'MCI', 'CN', 'Dementia', 'MCI', 'MCI', 'MCI', 'MCI', 'CN', 'Dementia', 'MCI', 'MCI', 'MCI', 'MCI', 'Dementia', 'Dementia', 'MCI', 'CN', 'Dementia', 'MCI', 'MCI', 'CN', 'CN', 'CN', 'MCI', 'MCI', 'MCI', 'CN', 'MCI', 'MCI', 'MCI', 'Dementia', 'MCI', 'CN', 'MCI', 'MCI', 'MCI', 'CN', 'CN', 'CN', 'MCI', 'Dementia', 'CN', 'MCI', 'MCI', 'CN', 'MCI', 'MCI', 'MCI', 'Dementia', 'CN', 'MCI', 'MCI', 'CN', 'Dementia', 'CN', 'MCI', 'MCI', 'Dementia', 'MCI', 'MCI', 'CN', 'CN', 'MCI', 'Dementia', 'CN', 'MCI', 'Dementia', 'MCI', 'CN', 'MCI', 'MCI', 'MCI', 'Dementia', 'MCI', 'CN', 'Dementia', 'MCI', 'MCI', 'MCI', 'Dementia', 'CN', 'CN', 'Dementia', 'CN', 'MCI', 'MCI', 'MCI', 'CN', 'MCI', 'CN', 'MCI', 'MCI', 'MCI', 'MCI', 'CN', 'MCI', 'MCI', 'CN', 'CN', 'MCI', 'MCI', 'CN', 'CN', 'MCI', 'MCI', 'CN', 'MCI', 'CN', 'Dementia', 'CN', 'MCI', 'MCI', 'CN', 'CN', 'CN', 'CN', 'MCI', 'CN', 'CN', 'Dementia', 'Dementia', 'MCI', 'MCI', 'Dementia', 'MCI', 'CN', 'CN', 'MCI', 'CN', 'CN', 'CN', 'MCI', 'Dementia', 'MCI', 'Dementia', 'CN', 'Dementia', 'CN', 'CN', 'MCI', 'CN', 'MCI', 'MCI', 'MCI', 'CN', 'MCI', 'Dementia', 'MCI', 'Dementia', 'CN', 'CN', 'MCI', 'CN', 'CN', 'MCI', 'MCI', 'CN', 'MCI', 'MCI', 'MCI', 'CN', 'MCI', 'MCI', 'CN', 'CN', 'CN', 'MCI', 'MCI', 'CN', 'MCI', 'MCI', 'CN', 'MCI', 'MCI', 'MCI', 'MCI', 'CN', 'Dementia', 'CN', 'MCI', 'CN', 'MCI', 'CN', 'CN', 'MCI', 'MCI', 'MCI', 'CN', 'CN', 'MCI', 'CN', 'CN', 'MCI', 'MCI', 'CN', 'Dementia', 'CN', 'MCI', 'CN', 'CN', 'MCI', 'MCI', 'CN', 'MCI', 'MCI', 'MCI', 'MCI', 'Dementia', 'MCI', 'CN', 'CN', 'MCI', 'CN', 'CN', 'MCI', 'CN', 'MCI', 'CN', 'CN', 'MCI', 'MCI', 'MCI', 'CN', 'MCI', 'CN', 'CN', 'MCI', 'MCI', 'Dementia', 'MCI', 'MCI', 'Dementia', 'MCI', 'Dementia', 'MCI', 'Dementia', 'MCI', 'MCI', 'MCI', 'MCI', 'CN', 'MCI', 'CN', 'MCI', 'CN', 'MCI', 'MCI', 'Dementia', 'MCI', 'CN', 'Dementia', 'CN', 'MCI', 'MCI', 'CN', 'MCI', 'MCI', 'MCI', 'MCI', 'CN', 'MCI', 'CN', 'MCI', 'Dementia', 'MCI', 'MCI', 'Dementia', 'MCI', 'MCI', 'Dementia', 'MCI', 'MCI', 'CN', 'MCI', 'CN', 'CN', 'Dementia', 'MCI', 'Dementia', 'CN', 'MCI', 'Dementia', 'Dementia', 'MCI', 'CN', 'MCI', 'Dementia', 'MCI', 'MCI', 'CN', 'MCI', 'MCI', 'CN', 'CN', 'MCI', 'CN', 'MCI', 'CN', 'MCI', 'MCI', 'CN', 'CN', 'MCI', 'CN', 'Dementia', 'MCI', 'CN', 'CN', 'MCI', 'MCI', 'MCI', 'MCI', 'MCI', 'MCI', 'MCI', 'MCI', 'MCI', 'MCI', 'CN', 'CN', 'MCI', 'CN', 'CN', 'MCI', 'Dementia', 'MCI', 'CN', 'MCI', 'MCI', 'MCI', 'Dementia', 'MCI', 'Dementia', 'CN', 'MCI', 'MCI', 'MCI', 'MCI', 'MCI', 'Dementia', 'CN', 'Dementia', 'Dementia', 'CN', 'MCI', 'CN', 'MCI', 'MCI', 'CN', 'Dementia', 'MCI', 'Dementia', 'CN', 'MCI', 'CN', 'MCI', 'MCI', 'MCI', 'CN', 'Dementia', 'MCI', 'MCI', 'Dementia', 'MCI', 'MCI', 'MCI', 'MCI', 'CN', 'MCI', 'Dementia', 'MCI', 'CN', 'MCI', 'Dementia', 'MCI', 'MCI', 'Dementia', 'CN', 'CN', 'MCI', 'MCI', 'CN', 'Dementia', 'Dementia', 'CN', 'Dementia', 'MCI', 'Dementia', 'MCI', 'MCI', 'MCI', 'CN', 'Dementia', 'Dementia', 'Dementia', 'MCI', 'CN', 'CN', 'MCI', 'CN', 'CN', 'CN', 'MCI', 'MCI', 'MCI', 'MCI', 'MCI', 'MCI', 'MCI', 'CN', 'CN', 'CN', 'CN', 'CN', 'MCI', 'MCI', 'MCI', 'MCI', 'MCI', 'Dementia', 'Dementia', 'MCI', 'MCI', 'MCI', 'MCI', 'MCI', 'MCI', 'MCI', 'Dementia', 'MCI', 'MCI', 'MCI', 'Dementia', 'CN', 'CN', 'Dementia', 'Dementia', 'CN', 'CN', 'CN', 'CN', 'CN', 'MCI', 'MCI', 'CN', 'MCI', 'CN', 'Dementia', 'Dementia', 'Dementia', 'MCI', 'MCI', 'MCI', 'Dementia', 'CN', 'Dementia', 'MCI', 'MCI', 'CN', 'MCI', 'MCI', 'Dementia', 'MCI', 'Dementia', 'MCI', 'MCI', 'CN', 'MCI', 'MCI', 'MCI', 'CN', 'Dementia', 'MCI', 'MCI', 'MCI', 'MCI', 'MCI', 'MCI', 'MCI', 'CN', 'CN', 'CN', 'CN', 'MCI', 'MCI', 'CN', 'MCI', 'Dementia', 'MCI', 'Dementia', 'MCI', 'CN', 'MCI', 'CN', 'MCI', 'CN', 'MCI', 'CN', 'MCI', 'Dementia', 'MCI', 'Dementia', 'Dementia', 'CN', 'MCI', 'MCI', 'CN', 'Dementia', 'CN', 'CN', 'MCI', 'CN', 'MCI', 'MCI', 'Dementia', 'CN', 'MCI', 'CN', 'Dementia', 'Dementia', 'MCI', 'MCI', 'CN', 'MCI', 'CN', 'MCI', 'CN', 'MCI', 'MCI', 'MCI', 'CN', 'MCI', 'MCI', 'CN', 'MCI', 'MCI', 'MCI', 'MCI', 'CN', 'CN', 'MCI', 'CN', 'MCI', 'Dementia', 'MCI', 'MCI', 'Dementia', 'MCI', 'MCI', 'CN', 'CN', 'CN', 'Dementia', 'MCI', 'CN', 'MCI', 'MCI', 'CN', 'Dementia', 'MCI', 'Dementia', 'MCI', 'MCI', 'MCI', 'Dementia', 'CN', 'MCI', 'Dementia', 'CN', 'MCI', 'Dementia', 'MCI', 'Dementia', 'CN', 'MCI', 'Dementia', 'MCI', 'MCI', 'CN', 'CN', 'CN', 'MCI', 'MCI', 'MCI', 'MCI', 'Dementia', 'MCI', 'MCI', 'MCI', 'CN', 'CN', 'Dementia', 'MCI', 'MCI', 'Dementia', 'MCI', 'CN', 'MCI', 'MCI', 'MCI', 'MCI', 'MCI', 'Dementia', 'MCI', 'MCI', 'MCI', 'MCI', 'Dementia', 'CN', 'MCI', 'CN', 'Dementia', 'CN', 'CN', 'CN', 'MCI', 'CN', 'MCI', 'CN', 'CN', 'CN', 'CN', 'CN', 'CN', 'MCI', 'CN', 'CN', 'MCI', 'MCI', 'CN', 'CN', 'MCI', 'Dementia', 'CN', 'MCI', 'CN', 'CN', 'MCI', 'MCI', 'Dementia', 'CN', 'MCI', 'CN', 'MCI', 'MCI', 'Dementia', 'MCI', 'MCI', 'MCI', 'MCI', 'CN', 'Dementia']\n"
     ]
    }
   ],
   "source": [
    "Adni_SID = list(Blood_Adni_Info.PTID)\n",
    "Adni_Type = list(Blood_Adni_Info.DX)\n",
    "\n",
    "SID_data = list(adata_adni.obs.index)\n",
    "\n",
    "Adni_Type_Data = list()\n",
    "for i in range(len(SID_data)):\n",
    "    if SID_data[i] in Adni_SID:\n",
    "        indt = Adni_SID.index(SID_data[i])\n",
    "        tmp = Adni_Type[indt]\n",
    "        Adni_Type_Data.append(tmp)\n",
    "print(Adni_Type_Data)"
   ]
  },
  {
   "cell_type": "code",
   "execution_count": null,
   "id": "0bc0c4e9-2955-4989-a172-c94809b06148",
   "metadata": {},
   "outputs": [],
   "source": [
    "\n"
   ]
  },
  {
   "cell_type": "code",
   "execution_count": null,
   "id": "2c7293eb-0d8f-4f7f-88e1-2cad556cb646",
   "metadata": {},
   "outputs": [],
   "source": []
  },
  {
   "cell_type": "code",
   "execution_count": 8,
   "id": "68026a42-195e-4991-8b1c-8152fd4a6661",
   "metadata": {
    "tags": []
   },
   "outputs": [],
   "source": [
    "# convert predited label\n",
    "Mapping = {'Control': 0, 'Typical AD': 1, 'Asym AD': 2, 'Low-NFT AD': 3}\n",
    "y_pred = np.zeros(len(SID_data))\n",
    "for i in range(len(SID_data)):\n",
    "    y_pred[i] = Mapping[Mapping_ADNIID_PreLabel[SID_data[i]]]\n",
    "    "
   ]
  },
  {
   "cell_type": "code",
   "execution_count": 9,
   "id": "085e00e8-7651-4d55-8378-50129483608a",
   "metadata": {
    "tags": []
   },
   "outputs": [],
   "source": [
    "Mapping = {'CN': 0, 'Dementia': 1, 'MCI': 2}\n",
    "y_true_lb = Adni_Type_Data\n",
    "y_true = np.zeros(len(y_true_lb))\n",
    "for i in range(len(y_true_lb)):\n",
    "    y_true[i] = Mapping[y_true_lb[i]]"
   ]
  },
  {
   "cell_type": "code",
   "execution_count": 10,
   "id": "a0743ebd-adbb-4f35-86ee-fb340ad13169",
   "metadata": {
    "tags": []
   },
   "outputs": [
    {
     "name": "stdout",
     "output_type": "stream",
     "text": [
      "precision of CN is 0\n",
      "precision of TAD is  0.15660919540229884\n",
      "precision of AAD is  0.5208333333333334\n"
     ]
    }
   ],
   "source": [
    "pred_ind_cn = np.where(y_pred==0)[0]\n",
    "true_ind_cn = np.where(y_true==0)[0]\n",
    "overlap = list(set(pred_ind_cn) & set(true_ind_cn))\n",
    "if len(pred_ind_cn) == 0:\n",
    "    print(\"precision of CN is 0\")\n",
    "else:\n",
    "    print(\"precision of CN is \", len(overlap)/len(pred_ind_cn))\n",
    "\n",
    "pred_ind_tad = np.where(y_pred==1)[0]\n",
    "true_ind_tad = np.where(y_true==1)[0]\n",
    "overlap = list(set(pred_ind_tad) & set(true_ind_tad))\n",
    "print(\"precision of TAD is \", len(overlap)/len(pred_ind_tad))\n",
    "\n",
    "pred_ind_aad = np.where(y_pred==2)[0]\n",
    "true_ind_aad = np.where(y_true==2)[0]\n",
    "overlap = list(set(pred_ind_aad) & set(true_ind_aad))\n",
    "print(\"precision of AAD is \", len(overlap)/len(pred_ind_aad))"
   ]
  },
  {
   "cell_type": "code",
   "execution_count": 11,
   "id": "cd5b508f-55ca-4d84-bf30-f28ea291777b",
   "metadata": {
    "tags": []
   },
   "outputs": [
    {
     "name": "stdout",
     "output_type": "stream",
     "text": [
      "precision of TAD is  0.6695402298850575\n",
      "precision of AAD  is  0.8541666666666666\n",
      "precision of CN  is 0\n",
      "precision of LowTau is 0\n"
     ]
    }
   ],
   "source": [
    "pred_ind_cn = np.where(y_pred==0)[0]\n",
    "true_ind_cn = np.where(y_true==0)[0]\n",
    "overlap = list(set(pred_ind_cn) & set(true_ind_cn))\n",
    "#if len(pred_ind_cn) == 0:\n",
    "#    print(\"precision of CN is 0\")\n",
    "#else:\n",
    "#    print(\"precision of CN is \", len(overlap)/len(pred_ind_cn))\n",
    "\n",
    "\n",
    "pred_ind_aad = np.where(y_pred==2)[0]\n",
    "true_ind_aad = np.where(y_true==2)[0]\n",
    "overlap = list(set(pred_ind_aad) & set(true_ind_aad))\n",
    "#print(\"precision of AAD is \", len(overlap)/len(pred_ind_aad))\n",
    "\n",
    "pred_ind_tad = np.where(y_pred==1)[0]\n",
    "true_ind_tad = np.where(y_true==1)[0]\n",
    "true_ind_tad_aad = list(true_ind_aad) + list(true_ind_tad)\n",
    "overlap = list(set(pred_ind_tad) & set(true_ind_tad_aad))\n",
    "print(\"precision of TAD is \", len(overlap)/len(pred_ind_tad))\n",
    "\n",
    "pred_ind_aad_cn = list(pred_ind_aad) #+ list(pred_ind_cn)\n",
    "true_ind_aad_cn = list(true_ind_cn) + list(true_ind_aad)\n",
    "overlap = list(set(pred_ind_aad_cn) & set(true_ind_aad_cn))\n",
    "print(\"precision of AAD  is \", len(overlap)/len(pred_ind_aad_cn))\n",
    "\n",
    "pred_ind_aad_cn = list(pred_ind_cn) #list(pred_ind_aad) + \n",
    "true_ind_aad_cn = list(true_ind_cn) + list(true_ind_aad)\n",
    "overlap = list(set(pred_ind_aad_cn) & set(true_ind_aad_cn))\n",
    "if len(pred_ind_aad_cn) == 0:\n",
    "    print(\"precision of CN  is 0\")\n",
    "else:\n",
    "    print(\"precision of CN  is \", len(overlap)/len(pred_ind_aad_cn))\n",
    "\n",
    "pred_ind_lt = np.where(y_pred==3)[0]\n",
    "true_ind_lt = np.where(y_true==1)[0]\n",
    "true_ind_lt_aad = list(true_ind_aad) + list(true_ind_lt)\n",
    "overlap = list(set(pred_ind_lt) & set(true_ind_lt_aad))\n",
    "if len(pred_ind_lt) == 0:\n",
    "    print(\"precision of LowTau is 0\")\n",
    "else:\n",
    "    print(\"precision of LowTau is \", len(overlap)/len(pred_ind_lt))"
   ]
  },
  {
   "cell_type": "code",
   "execution_count": null,
   "id": "347024f6-c43b-4bb2-9128-8292308c1cac",
   "metadata": {},
   "outputs": [],
   "source": []
  }
 ],
 "metadata": {
  "kernelspec": {
   "display_name": "Python 3 (ipykernel)",
   "language": "python",
   "name": "python3"
  },
  "language_info": {
   "codemirror_mode": {
    "name": "ipython",
    "version": 3
   },
   "file_extension": ".py",
   "mimetype": "text/x-python",
   "name": "python",
   "nbconvert_exporter": "python",
   "pygments_lexer": "ipython3",
   "version": "3.10.8"
  }
 },
 "nbformat": 4,
 "nbformat_minor": 5
}
