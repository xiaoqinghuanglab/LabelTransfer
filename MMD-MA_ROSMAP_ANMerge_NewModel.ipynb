{
 "cells": [
  {
   "cell_type": "code",
   "execution_count": 307,
   "id": "3ab1cefa",
   "metadata": {},
   "outputs": [],
   "source": [
    "import tensorflow as tf  \n",
    "import numpy as np          \n",
    "import argparse\n",
    "import pandas as pd\n",
    "from termcolor import colored\n",
    "import anndata as ad"
   ]
  },
  {
   "cell_type": "markdown",
   "id": "622f1b5b",
   "metadata": {},
   "source": [
    "# 1 Read in data"
   ]
  },
  {
   "cell_type": "code",
   "execution_count": 308,
   "id": "bd97fa76",
   "metadata": {},
   "outputs": [],
   "source": [
    "# Blood ROSMAP\n",
    "ROSMAPFrame = pd.read_csv(\"../../../Data/ROSMAP_blood_gene_expression_monocyte_ACTL_04172023.csv\",header=0, index_col=0)\n",
    "ROSMAPSampleID = list(ROSMAPFrame.columns.values)\n",
    "ROSMAPGeneID = list(ROSMAPFrame.index.values)\n",
    "\n",
    "# Blood ANMerge\n",
    "ANMergeFrame = pd.read_csv(\"../../../Data/ANMerge_blood_rna_gene_expr_removedbatch_02022024 2.csv\",header=0, index_col=0)\n",
    "ANMergeGeneID = list(ANMergeFrame.index.values)\n",
    "ANMergeSampleID = list(ANMergeFrame.columns.values)"
   ]
  },
  {
   "cell_type": "code",
   "execution_count": 309,
   "id": "cee58113-c671-463a-9bb5-0f7bfe1ea2b4",
   "metadata": {
    "tags": []
   },
   "outputs": [
    {
     "data": {
      "text/html": [
       "<div>\n",
       "<style scoped>\n",
       "    .dataframe tbody tr th:only-of-type {\n",
       "        vertical-align: middle;\n",
       "    }\n",
       "\n",
       "    .dataframe tbody tr th {\n",
       "        vertical-align: top;\n",
       "    }\n",
       "\n",
       "    .dataframe thead th {\n",
       "        text-align: right;\n",
       "    }\n",
       "</style>\n",
       "<table border=\"1\" class=\"dataframe\">\n",
       "  <thead>\n",
       "    <tr style=\"text-align: right;\">\n",
       "      <th></th>\n",
       "      <th>Sample_003</th>\n",
       "      <th>Sample_004</th>\n",
       "      <th>Sample_014</th>\n",
       "      <th>Sample_021</th>\n",
       "      <th>Sample_031</th>\n",
       "      <th>Sample_037</th>\n",
       "      <th>Sample_040</th>\n",
       "      <th>Sample_050</th>\n",
       "      <th>Sample_057</th>\n",
       "      <th>Sample_058</th>\n",
       "      <th>...</th>\n",
       "      <th>Sample_563</th>\n",
       "      <th>Sample_572</th>\n",
       "      <th>Sample_573</th>\n",
       "      <th>Sample_578</th>\n",
       "      <th>Sample_580</th>\n",
       "      <th>Sample_581</th>\n",
       "      <th>Sample_582</th>\n",
       "      <th>Sample_588</th>\n",
       "      <th>Sample_590</th>\n",
       "      <th>Sample_608</th>\n",
       "    </tr>\n",
       "  </thead>\n",
       "  <tbody>\n",
       "    <tr>\n",
       "      <th>A1BG</th>\n",
       "      <td>4.0</td>\n",
       "      <td>1</td>\n",
       "      <td>2</td>\n",
       "      <td>14.0</td>\n",
       "      <td>1.0</td>\n",
       "      <td>4.0</td>\n",
       "      <td>7</td>\n",
       "      <td>5.0</td>\n",
       "      <td>2</td>\n",
       "      <td>8</td>\n",
       "      <td>...</td>\n",
       "      <td>5.0</td>\n",
       "      <td>10.0</td>\n",
       "      <td>18</td>\n",
       "      <td>8</td>\n",
       "      <td>2</td>\n",
       "      <td>0</td>\n",
       "      <td>0.5</td>\n",
       "      <td>0</td>\n",
       "      <td>12.0</td>\n",
       "      <td>1.0</td>\n",
       "    </tr>\n",
       "    <tr>\n",
       "      <th>A2M</th>\n",
       "      <td>5.0</td>\n",
       "      <td>0</td>\n",
       "      <td>0</td>\n",
       "      <td>18.0</td>\n",
       "      <td>4.0</td>\n",
       "      <td>22.0</td>\n",
       "      <td>34</td>\n",
       "      <td>21.0</td>\n",
       "      <td>6</td>\n",
       "      <td>8</td>\n",
       "      <td>...</td>\n",
       "      <td>7.0</td>\n",
       "      <td>9.0</td>\n",
       "      <td>13</td>\n",
       "      <td>14</td>\n",
       "      <td>6</td>\n",
       "      <td>1</td>\n",
       "      <td>0.0</td>\n",
       "      <td>0</td>\n",
       "      <td>11.0</td>\n",
       "      <td>26.0</td>\n",
       "    </tr>\n",
       "    <tr>\n",
       "      <th>A4GALT</th>\n",
       "      <td>0.0</td>\n",
       "      <td>0</td>\n",
       "      <td>1</td>\n",
       "      <td>11.0</td>\n",
       "      <td>0.0</td>\n",
       "      <td>0.0</td>\n",
       "      <td>0</td>\n",
       "      <td>3.0</td>\n",
       "      <td>0</td>\n",
       "      <td>8</td>\n",
       "      <td>...</td>\n",
       "      <td>1.0</td>\n",
       "      <td>5.0</td>\n",
       "      <td>0</td>\n",
       "      <td>0</td>\n",
       "      <td>0</td>\n",
       "      <td>0</td>\n",
       "      <td>1.0</td>\n",
       "      <td>0</td>\n",
       "      <td>0.0</td>\n",
       "      <td>0.0</td>\n",
       "    </tr>\n",
       "    <tr>\n",
       "      <th>AAAS</th>\n",
       "      <td>121.0</td>\n",
       "      <td>92</td>\n",
       "      <td>1</td>\n",
       "      <td>103.0</td>\n",
       "      <td>156.0</td>\n",
       "      <td>138.0</td>\n",
       "      <td>140</td>\n",
       "      <td>76.0</td>\n",
       "      <td>36</td>\n",
       "      <td>65</td>\n",
       "      <td>...</td>\n",
       "      <td>32.0</td>\n",
       "      <td>107.0</td>\n",
       "      <td>94</td>\n",
       "      <td>68</td>\n",
       "      <td>32</td>\n",
       "      <td>14</td>\n",
       "      <td>36.5</td>\n",
       "      <td>0</td>\n",
       "      <td>105.0</td>\n",
       "      <td>93.0</td>\n",
       "    </tr>\n",
       "    <tr>\n",
       "      <th>AAK1</th>\n",
       "      <td>518.0</td>\n",
       "      <td>745</td>\n",
       "      <td>4542</td>\n",
       "      <td>435.0</td>\n",
       "      <td>270.0</td>\n",
       "      <td>448.0</td>\n",
       "      <td>433</td>\n",
       "      <td>406.0</td>\n",
       "      <td>260</td>\n",
       "      <td>148</td>\n",
       "      <td>...</td>\n",
       "      <td>130.0</td>\n",
       "      <td>316.0</td>\n",
       "      <td>302</td>\n",
       "      <td>446</td>\n",
       "      <td>396</td>\n",
       "      <td>114</td>\n",
       "      <td>4121.0</td>\n",
       "      <td>0</td>\n",
       "      <td>232.0</td>\n",
       "      <td>300.0</td>\n",
       "    </tr>\n",
       "    <tr>\n",
       "      <th>...</th>\n",
       "      <td>...</td>\n",
       "      <td>...</td>\n",
       "      <td>...</td>\n",
       "      <td>...</td>\n",
       "      <td>...</td>\n",
       "      <td>...</td>\n",
       "      <td>...</td>\n",
       "      <td>...</td>\n",
       "      <td>...</td>\n",
       "      <td>...</td>\n",
       "      <td>...</td>\n",
       "      <td>...</td>\n",
       "      <td>...</td>\n",
       "      <td>...</td>\n",
       "      <td>...</td>\n",
       "      <td>...</td>\n",
       "      <td>...</td>\n",
       "      <td>...</td>\n",
       "      <td>...</td>\n",
       "      <td>...</td>\n",
       "      <td>...</td>\n",
       "    </tr>\n",
       "    <tr>\n",
       "      <th>ZXDC</th>\n",
       "      <td>148.0</td>\n",
       "      <td>83</td>\n",
       "      <td>59</td>\n",
       "      <td>78.0</td>\n",
       "      <td>61.0</td>\n",
       "      <td>72.0</td>\n",
       "      <td>105</td>\n",
       "      <td>66.0</td>\n",
       "      <td>40</td>\n",
       "      <td>46</td>\n",
       "      <td>...</td>\n",
       "      <td>27.0</td>\n",
       "      <td>70.0</td>\n",
       "      <td>72</td>\n",
       "      <td>78</td>\n",
       "      <td>83</td>\n",
       "      <td>22</td>\n",
       "      <td>11.5</td>\n",
       "      <td>0</td>\n",
       "      <td>79.0</td>\n",
       "      <td>58.0</td>\n",
       "    </tr>\n",
       "    <tr>\n",
       "      <th>ZYG11B</th>\n",
       "      <td>162.0</td>\n",
       "      <td>221</td>\n",
       "      <td>3137</td>\n",
       "      <td>167.0</td>\n",
       "      <td>83.0</td>\n",
       "      <td>212.0</td>\n",
       "      <td>146</td>\n",
       "      <td>119.0</td>\n",
       "      <td>26</td>\n",
       "      <td>139</td>\n",
       "      <td>...</td>\n",
       "      <td>66.0</td>\n",
       "      <td>78.0</td>\n",
       "      <td>143</td>\n",
       "      <td>142</td>\n",
       "      <td>137</td>\n",
       "      <td>31</td>\n",
       "      <td>1689.5</td>\n",
       "      <td>0</td>\n",
       "      <td>90.0</td>\n",
       "      <td>88.0</td>\n",
       "    </tr>\n",
       "    <tr>\n",
       "      <th>ZYX</th>\n",
       "      <td>2084.0</td>\n",
       "      <td>1395</td>\n",
       "      <td>20628</td>\n",
       "      <td>1261.0</td>\n",
       "      <td>1180.0</td>\n",
       "      <td>1434.0</td>\n",
       "      <td>494</td>\n",
       "      <td>1194.0</td>\n",
       "      <td>361</td>\n",
       "      <td>1939</td>\n",
       "      <td>...</td>\n",
       "      <td>815.0</td>\n",
       "      <td>1026.0</td>\n",
       "      <td>1834</td>\n",
       "      <td>1545</td>\n",
       "      <td>821</td>\n",
       "      <td>452</td>\n",
       "      <td>7690.5</td>\n",
       "      <td>9</td>\n",
       "      <td>1582.0</td>\n",
       "      <td>648.0</td>\n",
       "    </tr>\n",
       "    <tr>\n",
       "      <th>ZZEF1</th>\n",
       "      <td>784.0</td>\n",
       "      <td>961</td>\n",
       "      <td>957</td>\n",
       "      <td>612.0</td>\n",
       "      <td>321.0</td>\n",
       "      <td>585.0</td>\n",
       "      <td>392</td>\n",
       "      <td>696.0</td>\n",
       "      <td>322</td>\n",
       "      <td>205</td>\n",
       "      <td>...</td>\n",
       "      <td>317.0</td>\n",
       "      <td>409.0</td>\n",
       "      <td>455</td>\n",
       "      <td>520</td>\n",
       "      <td>483</td>\n",
       "      <td>159</td>\n",
       "      <td>875.0</td>\n",
       "      <td>0</td>\n",
       "      <td>530.0</td>\n",
       "      <td>316.0</td>\n",
       "    </tr>\n",
       "    <tr>\n",
       "      <th>ZZZ3</th>\n",
       "      <td>88.0</td>\n",
       "      <td>51</td>\n",
       "      <td>2</td>\n",
       "      <td>184.0</td>\n",
       "      <td>73.0</td>\n",
       "      <td>73.0</td>\n",
       "      <td>137</td>\n",
       "      <td>31.0</td>\n",
       "      <td>22</td>\n",
       "      <td>84</td>\n",
       "      <td>...</td>\n",
       "      <td>46.0</td>\n",
       "      <td>87.0</td>\n",
       "      <td>72</td>\n",
       "      <td>142</td>\n",
       "      <td>78</td>\n",
       "      <td>15</td>\n",
       "      <td>0.5</td>\n",
       "      <td>0</td>\n",
       "      <td>66.0</td>\n",
       "      <td>97.0</td>\n",
       "    </tr>\n",
       "  </tbody>\n",
       "</table>\n",
       "<p>7704 rows × 157 columns</p>\n",
       "</div>"
      ],
      "text/plain": [
       "        Sample_003  Sample_004  Sample_014  Sample_021  Sample_031  \\\n",
       "A1BG           4.0           1           2        14.0         1.0   \n",
       "A2M            5.0           0           0        18.0         4.0   \n",
       "A4GALT         0.0           0           1        11.0         0.0   \n",
       "AAAS         121.0          92           1       103.0       156.0   \n",
       "AAK1         518.0         745        4542       435.0       270.0   \n",
       "...            ...         ...         ...         ...         ...   \n",
       "ZXDC         148.0          83          59        78.0        61.0   \n",
       "ZYG11B       162.0         221        3137       167.0        83.0   \n",
       "ZYX         2084.0        1395       20628      1261.0      1180.0   \n",
       "ZZEF1        784.0         961         957       612.0       321.0   \n",
       "ZZZ3          88.0          51           2       184.0        73.0   \n",
       "\n",
       "        Sample_037  Sample_040  Sample_050  Sample_057  Sample_058  ...  \\\n",
       "A1BG           4.0           7         5.0           2           8  ...   \n",
       "A2M           22.0          34        21.0           6           8  ...   \n",
       "A4GALT         0.0           0         3.0           0           8  ...   \n",
       "AAAS         138.0         140        76.0          36          65  ...   \n",
       "AAK1         448.0         433       406.0         260         148  ...   \n",
       "...            ...         ...         ...         ...         ...  ...   \n",
       "ZXDC          72.0         105        66.0          40          46  ...   \n",
       "ZYG11B       212.0         146       119.0          26         139  ...   \n",
       "ZYX         1434.0         494      1194.0         361        1939  ...   \n",
       "ZZEF1        585.0         392       696.0         322         205  ...   \n",
       "ZZZ3          73.0         137        31.0          22          84  ...   \n",
       "\n",
       "        Sample_563  Sample_572  Sample_573  Sample_578  Sample_580  \\\n",
       "A1BG           5.0        10.0          18           8           2   \n",
       "A2M            7.0         9.0          13          14           6   \n",
       "A4GALT         1.0         5.0           0           0           0   \n",
       "AAAS          32.0       107.0          94          68          32   \n",
       "AAK1         130.0       316.0         302         446         396   \n",
       "...            ...         ...         ...         ...         ...   \n",
       "ZXDC          27.0        70.0          72          78          83   \n",
       "ZYG11B        66.0        78.0         143         142         137   \n",
       "ZYX          815.0      1026.0        1834        1545         821   \n",
       "ZZEF1        317.0       409.0         455         520         483   \n",
       "ZZZ3          46.0        87.0          72         142          78   \n",
       "\n",
       "        Sample_581  Sample_582  Sample_588  Sample_590  Sample_608  \n",
       "A1BG             0         0.5           0        12.0         1.0  \n",
       "A2M              1         0.0           0        11.0        26.0  \n",
       "A4GALT           0         1.0           0         0.0         0.0  \n",
       "AAAS            14        36.5           0       105.0        93.0  \n",
       "AAK1           114      4121.0           0       232.0       300.0  \n",
       "...            ...         ...         ...         ...         ...  \n",
       "ZXDC            22        11.5           0        79.0        58.0  \n",
       "ZYG11B          31      1689.5           0        90.0        88.0  \n",
       "ZYX            452      7690.5           9      1582.0       648.0  \n",
       "ZZEF1          159       875.0           0       530.0       316.0  \n",
       "ZZZ3            15         0.5           0        66.0        97.0  \n",
       "\n",
       "[7704 rows x 157 columns]"
      ]
     },
     "execution_count": 309,
     "metadata": {},
     "output_type": "execute_result"
    }
   ],
   "source": [
    "ROSMAPFrame"
   ]
  },
  {
   "cell_type": "code",
   "execution_count": 310,
   "id": "84b73176",
   "metadata": {},
   "outputs": [
    {
     "name": "stdout",
     "output_type": "stream",
     "text": [
      "Number of overlapped gene is \u001b[31m2785\u001b[0m\n"
     ]
    }
   ],
   "source": [
    "# log transform ROSMAP\n",
    "#ROSMAPFrame = np.log(ROSMAPFrame+1)\n",
    "\n",
    "# gene overlap between ROSMAP and ANMerge\n",
    "OverlapGene = list(set(ROSMAPGeneID) & set(ANMergeGeneID))\n",
    "print(\"Number of overlapped gene is\", colored(len(OverlapGene), 'red'))"
   ]
  },
  {
   "cell_type": "markdown",
   "id": "0a14fc4e",
   "metadata": {},
   "source": [
    "## 1.1 Aligned dataframe to make their gene aligned"
   ]
  },
  {
   "cell_type": "code",
   "execution_count": 311,
   "id": "37b0c6f9",
   "metadata": {},
   "outputs": [],
   "source": [
    "ROSMAPFrame = ROSMAPFrame.loc[OverlapGene,:]\n",
    "ANMergeFrame = ANMergeFrame.loc[OverlapGene,:]"
   ]
  },
  {
   "cell_type": "code",
   "execution_count": 312,
   "id": "1e1bb9f6-2dcc-4ef5-85d2-29ffab33b839",
   "metadata": {
    "tags": []
   },
   "outputs": [
    {
     "data": {
      "text/plain": [
       "Index(['Sample_003', 'Sample_004', 'Sample_014', 'Sample_021', 'Sample_031',\n",
       "       'Sample_037', 'Sample_040', 'Sample_050', 'Sample_057', 'Sample_058',\n",
       "       ...\n",
       "       'Sample_563', 'Sample_572', 'Sample_573', 'Sample_578', 'Sample_580',\n",
       "       'Sample_581', 'Sample_582', 'Sample_588', 'Sample_590', 'Sample_608'],\n",
       "      dtype='object', length=157)"
      ]
     },
     "execution_count": 312,
     "metadata": {},
     "output_type": "execute_result"
    }
   ],
   "source": [
    "ROSMAPFrame.columns"
   ]
  },
  {
   "cell_type": "code",
   "execution_count": 313,
   "id": "5286c363-c1f2-43fb-bbdf-a6db0d06a7cc",
   "metadata": {
    "tags": []
   },
   "outputs": [],
   "source": [
    "anndata_ROSMAP = ad.AnnData(ROSMAPFrame.values)\n",
    "anndata_ROSMAP = anndata_ROSMAP.T\n",
    "anndata_ROSMAP.obs_names = list(ROSMAPFrame.columns)\n",
    "anndata_ROSMAP.var_names = list(ROSMAPFrame.index)"
   ]
  },
  {
   "cell_type": "code",
   "execution_count": 314,
   "id": "c66f7fdb-6185-4caf-94e7-1cd60e1e5089",
   "metadata": {
    "tags": []
   },
   "outputs": [],
   "source": [
    "anndata_Target = ad.AnnData(ANMergeFrame.values)\n",
    "anndata_Target = anndata_Target.T\n",
    "anndata_Target.obs_names = list(ANMergeFrame.columns)\n",
    "anndata_Target.var_names = list(ANMergeFrame.index)"
   ]
  },
  {
   "cell_type": "code",
   "execution_count": null,
   "id": "d47ce2af-ea00-4319-8854-0779b0e9a041",
   "metadata": {},
   "outputs": [],
   "source": []
  },
  {
   "cell_type": "markdown",
   "id": "01fec633",
   "metadata": {},
   "source": [
    "## 1.2 Read in labels"
   ]
  },
  {
   "cell_type": "code",
   "execution_count": 315,
   "id": "e33c02ce",
   "metadata": {},
   "outputs": [],
   "source": [
    "# read in label\n",
    "ROSMAP_Info = pd.read_csv(\"../../../Data/ROSMAP_blood_clinical_monocyte_ACTL_04172023.csv\",header=0, index_col=0)\n",
    "\n",
    "# read in label\n",
    "ANMerge_Info = pd.read_csv(\"../../../Data/ANMerge_NewModel_NewLabel_Clinical_Info.csv\",header=0, index_col=0)\n",
    "    "
   ]
  },
  {
   "cell_type": "code",
   "execution_count": 316,
   "id": "18d34f73-cc24-485a-b0cf-e9b730382e49",
   "metadata": {
    "tags": []
   },
   "outputs": [
    {
     "data": {
      "text/html": [
       "<div>\n",
       "<style scoped>\n",
       "    .dataframe tbody tr th:only-of-type {\n",
       "        vertical-align: middle;\n",
       "    }\n",
       "\n",
       "    .dataframe tbody tr th {\n",
       "        vertical-align: top;\n",
       "    }\n",
       "\n",
       "    .dataframe thead th {\n",
       "        text-align: right;\n",
       "    }\n",
       "</style>\n",
       "<table border=\"1\" class=\"dataframe\">\n",
       "  <thead>\n",
       "    <tr style=\"text-align: right;\">\n",
       "      <th></th>\n",
       "      <th>individualID</th>\n",
       "      <th>projid</th>\n",
       "      <th>msex</th>\n",
       "      <th>race</th>\n",
       "      <th>apoe_genotype</th>\n",
       "      <th>age_at_visit_max</th>\n",
       "      <th>age_death</th>\n",
       "      <th>cts_mmse30_lv</th>\n",
       "      <th>pmi</th>\n",
       "      <th>braaksc</th>\n",
       "      <th>ceradsc</th>\n",
       "      <th>cogdx</th>\n",
       "      <th>dcfdx_lv</th>\n",
       "      <th>Group1</th>\n",
       "      <th>Group2</th>\n",
       "      <th>specimenID</th>\n",
       "    </tr>\n",
       "  </thead>\n",
       "  <tbody>\n",
       "    <tr>\n",
       "      <th>1</th>\n",
       "      <td>R1528689</td>\n",
       "      <td>402800</td>\n",
       "      <td>0</td>\n",
       "      <td>1</td>\n",
       "      <td>34.0</td>\n",
       "      <td>79.701574264202605</td>\n",
       "      <td>80.65708418891171</td>\n",
       "      <td>13.0</td>\n",
       "      <td>5.500000</td>\n",
       "      <td>5</td>\n",
       "      <td>1</td>\n",
       "      <td>4</td>\n",
       "      <td>4</td>\n",
       "      <td>Typical AD</td>\n",
       "      <td>Typical.AD</td>\n",
       "      <td>Sample_003</td>\n",
       "    </tr>\n",
       "    <tr>\n",
       "      <th>2</th>\n",
       "      <td>R3978789</td>\n",
       "      <td>482428</td>\n",
       "      <td>0</td>\n",
       "      <td>1</td>\n",
       "      <td>23.0</td>\n",
       "      <td>82.321697467488022</td>\n",
       "      <td>83.690622861054067</td>\n",
       "      <td>30.0</td>\n",
       "      <td>3.933333</td>\n",
       "      <td>4</td>\n",
       "      <td>4</td>\n",
       "      <td>1</td>\n",
       "      <td>1</td>\n",
       "      <td>Asym AD</td>\n",
       "      <td>Asym.AD</td>\n",
       "      <td>Sample_004</td>\n",
       "    </tr>\n",
       "  </tbody>\n",
       "</table>\n",
       "</div>"
      ],
      "text/plain": [
       "  individualID  projid  msex  race  apoe_genotype    age_at_visit_max  \\\n",
       "1     R1528689  402800     0     1           34.0  79.701574264202605   \n",
       "2     R3978789  482428     0     1           23.0  82.321697467488022   \n",
       "\n",
       "            age_death  cts_mmse30_lv       pmi  braaksc  ceradsc  cogdx  \\\n",
       "1   80.65708418891171           13.0  5.500000        5        1      4   \n",
       "2  83.690622861054067           30.0  3.933333        4        4      1   \n",
       "\n",
       "   dcfdx_lv      Group1      Group2  specimenID  \n",
       "1         4  Typical AD  Typical.AD  Sample_003  \n",
       "2         1     Asym AD     Asym.AD  Sample_004  "
      ]
     },
     "execution_count": 316,
     "metadata": {},
     "output_type": "execute_result"
    }
   ],
   "source": [
    "ROSMAP_Info.head(2)"
   ]
  },
  {
   "cell_type": "code",
   "execution_count": 317,
   "id": "166c828a",
   "metadata": {},
   "outputs": [],
   "source": [
    "import collections\n",
    "\n",
    "ROSMAP_SID = list(ROSMAP_Info.loc[:,'specimenID'])\n",
    "ROSMAP_Class = list(ROSMAP_Info.loc[:,'Group1'])\n",
    "ROSMAP_braaksc = list(ROSMAP_Info.loc[:,'braaksc'])\n",
    "\n",
    "Mapping_ROSMAP_SID_Class = dict(zip(ROSMAP_SID, ROSMAP_Class))\n",
    "Mapping_ROSMAP_SID_braak = dict(zip(ROSMAP_SID, ROSMAP_braaksc))\n",
    "\n",
    "SID = anndata_ROSMAP.obs_names\n",
    "ClassList = list()\n",
    "BraakList = list()\n",
    "for st in SID:\n",
    "    ClassList.append(Mapping_ROSMAP_SID_Class[st])\n",
    "    BraakList.append(Mapping_ROSMAP_SID_braak[st])\n",
    "    \n",
    "anndata_ROSMAP.obs['Label'] = ClassList\n",
    "anndata_ROSMAP.obs['braaksc'] = BraakList\n"
   ]
  },
  {
   "cell_type": "code",
   "execution_count": 318,
   "id": "60464196-600b-4549-8c8e-ec949026fa5e",
   "metadata": {
    "tags": []
   },
   "outputs": [
    {
     "data": {
      "text/html": [
       "<div>\n",
       "<style scoped>\n",
       "    .dataframe tbody tr th:only-of-type {\n",
       "        vertical-align: middle;\n",
       "    }\n",
       "\n",
       "    .dataframe tbody tr th {\n",
       "        vertical-align: top;\n",
       "    }\n",
       "\n",
       "    .dataframe thead th {\n",
       "        text-align: right;\n",
       "    }\n",
       "</style>\n",
       "<table border=\"1\" class=\"dataframe\">\n",
       "  <thead>\n",
       "    <tr style=\"text-align: right;\">\n",
       "      <th></th>\n",
       "      <th>Label</th>\n",
       "      <th>braaksc</th>\n",
       "    </tr>\n",
       "  </thead>\n",
       "  <tbody>\n",
       "    <tr>\n",
       "      <th>Sample_003</th>\n",
       "      <td>Typical AD</td>\n",
       "      <td>5</td>\n",
       "    </tr>\n",
       "    <tr>\n",
       "      <th>Sample_004</th>\n",
       "      <td>Asym AD</td>\n",
       "      <td>4</td>\n",
       "    </tr>\n",
       "  </tbody>\n",
       "</table>\n",
       "</div>"
      ],
      "text/plain": [
       "                 Label  braaksc\n",
       "Sample_003  Typical AD        5\n",
       "Sample_004     Asym AD        4"
      ]
     },
     "execution_count": 318,
     "metadata": {},
     "output_type": "execute_result"
    }
   ],
   "source": [
    "anndata_ROSMAP.obs.head(2)"
   ]
  },
  {
   "cell_type": "code",
   "execution_count": 319,
   "id": "8b570e96-2649-406a-b08f-37a825594cf0",
   "metadata": {
    "tags": []
   },
   "outputs": [
    {
     "data": {
      "text/html": [
       "<div>\n",
       "<style scoped>\n",
       "    .dataframe tbody tr th:only-of-type {\n",
       "        vertical-align: middle;\n",
       "    }\n",
       "\n",
       "    .dataframe tbody tr th {\n",
       "        vertical-align: top;\n",
       "    }\n",
       "\n",
       "    .dataframe thead th {\n",
       "        text-align: right;\n",
       "    }\n",
       "</style>\n",
       "<table border=\"1\" class=\"dataframe\">\n",
       "  <thead>\n",
       "    <tr style=\"text-align: right;\">\n",
       "      <th></th>\n",
       "      <th>Gender</th>\n",
       "      <th>Age</th>\n",
       "      <th>DX</th>\n",
       "      <th>Site</th>\n",
       "      <th>Batch</th>\n",
       "      <th>OnsetAge</th>\n",
       "      <th>OnsetPattern</th>\n",
       "      <th>MMSE</th>\n",
       "      <th>CDRSOB</th>\n",
       "      <th>CDRTotal</th>\n",
       "      <th>n_counts_all</th>\n",
       "      <th>braaksc_trans</th>\n",
       "      <th>NewLabel</th>\n",
       "    </tr>\n",
       "  </thead>\n",
       "  <tbody>\n",
       "    <tr>\n",
       "      <th>DCR00001_1</th>\n",
       "      <td>Female</td>\n",
       "      <td>80.0</td>\n",
       "      <td>AD</td>\n",
       "      <td>DCR</td>\n",
       "      <td>2</td>\n",
       "      <td>80.0</td>\n",
       "      <td>Sudden</td>\n",
       "      <td>21.0</td>\n",
       "      <td>5.0</td>\n",
       "      <td>1.0</td>\n",
       "      <td>42117.785151</td>\n",
       "      <td>4.0</td>\n",
       "      <td>Typical AD</td>\n",
       "    </tr>\n",
       "    <tr>\n",
       "      <th>DCR00004_1</th>\n",
       "      <td>Male</td>\n",
       "      <td>78.0</td>\n",
       "      <td>MCI</td>\n",
       "      <td>DCR</td>\n",
       "      <td>2</td>\n",
       "      <td>inf</td>\n",
       "      <td>NaN</td>\n",
       "      <td>27.0</td>\n",
       "      <td>0.5</td>\n",
       "      <td>0.5</td>\n",
       "      <td>42250.311047</td>\n",
       "      <td>4.0</td>\n",
       "      <td>Asym AD</td>\n",
       "    </tr>\n",
       "  </tbody>\n",
       "</table>\n",
       "</div>"
      ],
      "text/plain": [
       "            Gender   Age   DX Site  Batch  OnsetAge OnsetPattern  MMSE  \\\n",
       "DCR00001_1  Female  80.0   AD  DCR      2      80.0       Sudden  21.0   \n",
       "DCR00004_1    Male  78.0  MCI  DCR      2       inf          NaN  27.0   \n",
       "\n",
       "            CDRSOB  CDRTotal  n_counts_all  braaksc_trans    NewLabel  \n",
       "DCR00001_1     5.0       1.0  42117.785151            4.0  Typical AD  \n",
       "DCR00004_1     0.5       0.5  42250.311047            4.0     Asym AD  "
      ]
     },
     "execution_count": 319,
     "metadata": {},
     "output_type": "execute_result"
    }
   ],
   "source": [
    "ANMerge_Info.head(2)"
   ]
  },
  {
   "cell_type": "code",
   "execution_count": 320,
   "id": "cb75618e-021c-43a6-84a5-754fa54d0dde",
   "metadata": {
    "tags": []
   },
   "outputs": [],
   "source": [
    "ANMerge_SID = list(ANMerge_Info.index)\n",
    "ANMerge_Class = list(ANMerge_Info.loc[:,'DX'])\n",
    "ANMerge_CDRSB = list(ANMerge_Info.loc[:,'CDRSOB'])\n",
    "\n",
    "Mapping_Target_SID_Class = dict(zip(ANMerge_SID, ANMerge_Class))\n",
    "Mapping_Target_SID_CDRSB = dict(zip(ANMerge_SID, ANMerge_CDRSB))\n",
    "\n",
    "SID = anndata_Target.obs_names\n",
    "DXlist = list()\n",
    "CDRlist = list()\n",
    "for st in SID:\n",
    "    DXlist.append(Mapping_Target_SID_Class[st])\n",
    "    CDRlist.append(Mapping_Target_SID_CDRSB[st])\n",
    "    \n",
    "\n",
    "anndata_Target.obs['DX'] = DXlist\n",
    "anndata_Target.obs['CDRSOB'] = CDRlist"
   ]
  },
  {
   "cell_type": "code",
   "execution_count": 321,
   "id": "4b5c5588",
   "metadata": {},
   "outputs": [
    {
     "data": {
      "text/html": [
       "<div>\n",
       "<style scoped>\n",
       "    .dataframe tbody tr th:only-of-type {\n",
       "        vertical-align: middle;\n",
       "    }\n",
       "\n",
       "    .dataframe tbody tr th {\n",
       "        vertical-align: top;\n",
       "    }\n",
       "\n",
       "    .dataframe thead th {\n",
       "        text-align: right;\n",
       "    }\n",
       "</style>\n",
       "<table border=\"1\" class=\"dataframe\">\n",
       "  <thead>\n",
       "    <tr style=\"text-align: right;\">\n",
       "      <th></th>\n",
       "      <th>DX</th>\n",
       "      <th>CDRSOB</th>\n",
       "    </tr>\n",
       "  </thead>\n",
       "  <tbody>\n",
       "    <tr>\n",
       "      <th>DCR00001_1</th>\n",
       "      <td>AD</td>\n",
       "      <td>5.0</td>\n",
       "    </tr>\n",
       "    <tr>\n",
       "      <th>DCR00004_1</th>\n",
       "      <td>MCI</td>\n",
       "      <td>0.5</td>\n",
       "    </tr>\n",
       "    <tr>\n",
       "      <th>DCR00009_1</th>\n",
       "      <td>CTL</td>\n",
       "      <td>0.0</td>\n",
       "    </tr>\n",
       "    <tr>\n",
       "      <th>DCR00013_1</th>\n",
       "      <td>CTL</td>\n",
       "      <td>0.0</td>\n",
       "    </tr>\n",
       "    <tr>\n",
       "      <th>DCR00014_1</th>\n",
       "      <td>CTL</td>\n",
       "      <td>inf</td>\n",
       "    </tr>\n",
       "    <tr>\n",
       "      <th>...</th>\n",
       "      <td>...</td>\n",
       "      <td>...</td>\n",
       "    </tr>\n",
       "    <tr>\n",
       "      <th>TLSMCI607_1</th>\n",
       "      <td>MCI</td>\n",
       "      <td>1.0</td>\n",
       "    </tr>\n",
       "    <tr>\n",
       "      <th>TLSMCI608_1</th>\n",
       "      <td>MCI</td>\n",
       "      <td>1.0</td>\n",
       "    </tr>\n",
       "    <tr>\n",
       "      <th>TLSMCI609_1</th>\n",
       "      <td>MCI</td>\n",
       "      <td>0.5</td>\n",
       "    </tr>\n",
       "    <tr>\n",
       "      <th>TLSMCI611_1</th>\n",
       "      <td>MCI</td>\n",
       "      <td>1.0</td>\n",
       "    </tr>\n",
       "    <tr>\n",
       "      <th>TLSMCI612_1</th>\n",
       "      <td>MCI</td>\n",
       "      <td>0.5</td>\n",
       "    </tr>\n",
       "  </tbody>\n",
       "</table>\n",
       "<p>691 rows × 2 columns</p>\n",
       "</div>"
      ],
      "text/plain": [
       "              DX  CDRSOB\n",
       "DCR00001_1    AD     5.0\n",
       "DCR00004_1   MCI     0.5\n",
       "DCR00009_1   CTL     0.0\n",
       "DCR00013_1   CTL     0.0\n",
       "DCR00014_1   CTL     inf\n",
       "...          ...     ...\n",
       "TLSMCI607_1  MCI     1.0\n",
       "TLSMCI608_1  MCI     1.0\n",
       "TLSMCI609_1  MCI     0.5\n",
       "TLSMCI611_1  MCI     1.0\n",
       "TLSMCI612_1  MCI     0.5\n",
       "\n",
       "[691 rows x 2 columns]"
      ]
     },
     "execution_count": 321,
     "metadata": {},
     "output_type": "execute_result"
    }
   ],
   "source": [
    "anndata_Target.obs"
   ]
  },
  {
   "cell_type": "code",
   "execution_count": null,
   "id": "f28f5f2b",
   "metadata": {},
   "outputs": [],
   "source": []
  },
  {
   "cell_type": "markdown",
   "id": "cb965113",
   "metadata": {},
   "source": [
    "# 2 Run MMD-MA"
   ]
  },
  {
   "cell_type": "code",
   "execution_count": 322,
   "id": "ae269732",
   "metadata": {},
   "outputs": [],
   "source": [
    "from scipy.spatial.distance import pdist, squareform\n",
    "from sklearn.metrics.pairwise import linear_kernel\n",
    "import scipy as scip"
   ]
  },
  {
   "cell_type": "markdown",
   "id": "a8109c0a",
   "metadata": {},
   "source": [
    "## 2.1 compute  Gaussian Kernel "
   ]
  },
  {
   "cell_type": "code",
   "execution_count": 323,
   "id": "bf03cd8e",
   "metadata": {},
   "outputs": [],
   "source": [
    "# s is the parameter for the Gaussian kernel\n",
    "s1 = 100\n",
    "s2 = 100\n",
    "\n",
    "# K1 is the Gaussian Kernel for ROSMAP\n",
    "# XR should be an NxD matrix, where N is number of obs and D its features\n",
    "XR = anndata_ROSMAP.X #ROSMAPFrame.values.T\n",
    "pairwise_sq_dists = squareform(pdist(XR, 'sqeuclidean'))\n",
    "K1 = np.exp(-pairwise_sq_dists / s1**2)\n",
    "\n",
    "# K2 is the Gaussian Kernel for ANMerge\n",
    "# XR should be an NxD matrix, where N is number of obs and D its features\n",
    "XA = anndata_Target.X #ANMergeFrame.values.T\n",
    "pairwise_sq_dists = squareform(pdist(XA, 'sqeuclidean'))\n",
    "K2 = np.exp(-pairwise_sq_dists / s2**2)"
   ]
  },
  {
   "cell_type": "code",
   "execution_count": 324,
   "id": "e4e1248c",
   "metadata": {},
   "outputs": [
    {
     "data": {
      "text/plain": [
       "<matplotlib.colorbar.Colorbar at 0x2e1cd6c10>"
      ]
     },
     "execution_count": 324,
     "metadata": {},
     "output_type": "execute_result"
    },
    {
     "data": {
      "image/png": "[encoded data removed]",
      "text/plain": [
       "<Figure size 640x480 with 4 Axes>"
      ]
     },
     "metadata": {},
     "output_type": "display_data"
    }
   ],
   "source": [
    "# draw the plot to better choose s1 and s2\n",
    "import matplotlib.pyplot as plt\n",
    "fig, ax = plt.subplots(1,2)\n",
    "im = ax[0].imshow(K1)\n",
    "fig.colorbar(im,ax=ax[0])\n",
    "im2 = ax[1].imshow(K2)\n",
    "fig.colorbar(im2,ax=ax[1])"
   ]
  },
  {
   "cell_type": "markdown",
   "id": "f79759ab",
   "metadata": {},
   "source": [
    "## 1.2 MMD-MA"
   ]
  },
  {
   "cell_type": "code",
   "execution_count": 325,
   "id": "7bf134a2",
   "metadata": {},
   "outputs": [],
   "source": [
    "def compute_pairwise_distances(x, y):\n",
    "    \"\"\"Computes the squared pairwise Euclidean distances between x and y.\n",
    "  Args:\n",
    "    x: a tensor of shape [num_x_samples, num_features]\n",
    "    y: a tensor of shape [num_y_samples, num_features]\n",
    "  Returns:\n",
    "    a distance matrix of dimensions [num_x_samples, num_y_samples].\n",
    "  Raises:\n",
    "    ValueError: if the inputs do no matched the specified dimensions.\n",
    "  \"\"\"\n",
    "\n",
    "    if not len(x.get_shape()) == len(y.get_shape()) == 2:\n",
    "        raise ValueError('Both inputs should be matrices.')\n",
    "\n",
    "    if x.get_shape().as_list()[1] != y.get_shape().as_list()[1]:\n",
    "        raise ValueError('The number of features should be the same.')\n",
    "\n",
    "    norm = lambda x: tf.reduce_sum(tf.square(x), 1)\n",
    "\n",
    "  # By making the `inner' dimensions of the two matrices equal to 1 using\n",
    "  # broadcasting then we are essentially substracting every pair of rows\n",
    "  # of x and y.\n",
    "  # x will be num_samples x num_features x 1,\n",
    "  # and y will be 1 x num_features x num_samples (after broadcasting).\n",
    "  # After the substraction we will get a\n",
    "  # num_x_samples x num_features x num_y_samples matrix.\n",
    "  # The resulting dist will be of shape num_y_samples x num_x_samples.\n",
    "  # and thus we need to transpose it again.\n",
    "    return tf.transpose(norm(tf.expand_dims(x, 2) - tf.transpose(y)))\n",
    "\n",
    "def gaussian_kernel_matrix(x, y, sigmas):\n",
    "    \"\"\"Computes a Guassian Radial Basis Kernel between the samples of x and y.\n",
    "  We create a sum of multiple gaussian kernels each having a width sigma_i.\n",
    "  Args:\n",
    "    x: a tensor of shape [num_samples, num_features]\n",
    "    y: a tensor of shape [num_samples, num_features]\n",
    "    sigmas: a tensor of floats which denote the widths of each of the\n",
    "      gaussians in the kernel.\n",
    "  Returns:\n",
    "    A tensor of shape [num_samples{x}, num_samples{y}] with the RBF kernel.\n",
    "  \"\"\"\n",
    "    beta = 1. / (2. * (tf.expand_dims(sigmas, 1)))\n",
    "    dist = compute_pairwise_distances(x, y)\n",
    "    s = tf.matmul(beta, tf.reshape(dist, (1, -1)))\n",
    "\n",
    "    return tf.reshape(tf.reduce_sum(tf.exp(-s), 0), tf.shape(dist))\n",
    "\n",
    "def maximum_mean_discrepancy(x, y, kernel=gaussian_kernel_matrix, bandwidth=1.0):\n",
    "    \"\"\"Computes the Maximum Mean Discrepancy (MMD) of two samples: x and y.\n",
    "  Maximum Mean Discrepancy (MMD) is a distance-measure between the samples of\n",
    "  the distributions of x and y. Here we use the kernel two sample estimate\n",
    "  using the empirical mean of the two distributions.\n",
    "  MMD^2(P, Q) = || \\E{\\phi(x)} - \\E{\\phi(y)} ||^2\n",
    "              = \\E{ K(x, x) } + \\E{ K(y, y) } - 2 \\E{ K(x, y) },\n",
    "  where K = <\\phi(x), \\phi(y)>,\n",
    "    is the desired kernel function, in this case a radial basis kernel.\n",
    "  Args:\n",
    "      x: a tensor of shape [num_samples, num_features]\n",
    "      y: a tensor of shape [num_samples, num_features]\n",
    "      kernel: a function which computes the kernel in MMD. Defaults to the\n",
    "              GaussianKernelMatrix.\n",
    "  Returns:\n",
    "      a scalar denoting the squared maximum mean discrepancy loss.\n",
    "  \"\"\"\n",
    "    with tf.name_scope('MaximumMeanDiscrepancy'):\n",
    "        # \\E{ K(x, x) } + \\E{ K(y, y) } - 2 \\E{ K(x, y) }\n",
    "        cost = tf.reduce_mean(kernel(x, x, tf.constant([bandwidth])))\n",
    "        cost += tf.reduce_mean(kernel(y, y, tf.constant([bandwidth])))\n",
    "        cost -= 2 * tf.reduce_mean(kernel(x, y, tf.constant([bandwidth])))\n",
    "\n",
    "        # We do not allow the loss to become negative.\n",
    "        cost = tf.where(cost > 0, cost, 0, name='value')\n",
    "    return cost"
   ]
  },
  {
   "cell_type": "code",
   "execution_count": 326,
   "id": "4a71426d",
   "metadata": {},
   "outputs": [],
   "source": [
    "k1_matrix = K1\n",
    "k2_matrix = K2\n",
    "n1 = k1_matrix.shape[0]\n",
    "n2 = k2_matrix.shape[0]\n",
    "K1 = tf.constant(k1_matrix, dtype=tf.float32)\n",
    "K2 = tf.constant(k2_matrix, dtype=tf.float32)\n",
    "\n",
    "p = 10 # embeded dim \n",
    "k = 100 # random seed\n",
    "training_rate = 0.00005\n",
    "bandwidth = 1.0\n",
    "tradeoff2 = 0.01\n",
    "tradeoff3 = 0.001\n",
    "I_p=tf.eye(p)"
   ]
  },
  {
   "cell_type": "code",
   "execution_count": 327,
   "id": "e8a16ef0",
   "metadata": {},
   "outputs": [
    {
     "name": "stderr",
     "output_type": "stream",
     "text": [
      "WARNING:absl:At this time, the v2.11+ optimizer `tf.keras.optimizers.Adam` runs slowly on M1/M2 Macs, please use the legacy Keras optimizer instead, located at `tf.keras.optimizers.legacy.Adam`.\n"
     ]
    },
    {
     "name": "stdout",
     "output_type": "stream",
     "text": [
      "100\t0\t7296.6206\t1.4583635\t111.073746\t7184.0884\n",
      "100\t1\t7281.9917\t1.4586926\t110.85104\t7169.682\n",
      "100\t2\t7267.379\t1.4590218\t110.628555\t7155.2915\n",
      "100\t3\t7252.782\t1.4593515\t110.40632\t7140.9165\n",
      "100\t4\t7238.199\t1.4596817\t110.18431\t7126.555\n",
      "100\t5\t7223.633\t1.4600122\t109.96255\t7112.2104\n",
      "100\t6\t7209.0825\t1.460343\t109.74102\t7097.8813\n",
      "100\t7\t7194.549\t1.460674\t109.51975\t7083.5684\n",
      "100\t8\t7180.0317\t1.4610057\t109.298744\t7069.272\n",
      "100\t9\t7165.5312\t1.4613374\t109.07799\t7054.9917\n",
      "100\t10\t7151.0483\t1.4616697\t108.857475\t7040.729\n"
     ]
    }
   ],
   "source": [
    "alpha = tf.Variable(tf.random.uniform([n1, p], minval=0.0, maxval=0.1, seed=k))\n",
    "beta = tf.Variable(tf.random.uniform([n2, p], minval=0.0, maxval=0.1, seed=k))\n",
    "\n",
    "optimizer = tf.keras.optimizers.Adam(learning_rate=training_rate)\n",
    "objbest = 1e20\n",
    "for i in range(11):\n",
    "    with tf.GradientTape() as tape:\n",
    "        mmd_part = maximum_mean_discrepancy(tf.matmul(K1, alpha), tf.matmul(K2, beta), bandwidth=bandwidth)\n",
    "        penalty_part = tradeoff2 * (tf.norm(tf.subtract(tf.matmul(tf.transpose(alpha), tf.matmul(K1, alpha)), I_p), ord=2) + tf.norm(tf.subtract(tf.matmul(tf.transpose(beta), tf.matmul(K2, beta)), I_p), ord=2))\n",
    "        distortion_part = tradeoff3 * (tf.norm(tf.subtract(tf.matmul(tf.matmul(K1, alpha), tf.matmul(tf.transpose(alpha), tf.transpose(K1))), K1), ord=2) + tf.norm(tf.subtract(tf.matmul(tf.matmul(K2, beta), tf.matmul(tf.transpose(beta), tf.transpose(K2))), K2), ord=2))\n",
    "        myFunction = mmd_part + penalty_part + distortion_part\n",
    "\n",
    "    gradients = tape.gradient(myFunction, [alpha, beta])\n",
    "    optimizer.apply_gradients(zip(gradients, [alpha, beta]))\n",
    "\n",
    "    #if i % 100 == 0:\n",
    "    if objbest > myFunction.numpy():\n",
    "        objbest = myFunction.numpy()\n",
    "        alpha_best = alpha.numpy()\n",
    "        beta_best = beta.numpy()\n",
    "        besti = i\n",
    "        rec = '\\t'.join([str(k), str(i), str(myFunction.numpy()), str(mmd_part.numpy()), str(penalty_part.numpy()), str(distortion_part.numpy())])\n",
    "        print(rec)\n",
    "        #record.write(rec + '\\n')\n",
    "\n",
    "np.savetxt(\"alpha_hat_\" + str(k) + \"_\" + str(besti) + \".txt\", alpha_best)\n",
    "np.savetxt(\"beta_hat_\" + str(k) + \"_\" + str(besti) + \".txt\", beta_best)"
   ]
  },
  {
   "cell_type": "code",
   "execution_count": 328,
   "id": "4341644a",
   "metadata": {},
   "outputs": [
    {
     "data": {
      "text/plain": [
       "(157, 10)"
      ]
     },
     "execution_count": 328,
     "metadata": {},
     "output_type": "execute_result"
    }
   ],
   "source": [
    "np.shape(alpha_best)"
   ]
  },
  {
   "cell_type": "code",
   "execution_count": 329,
   "id": "495c60b5",
   "metadata": {},
   "outputs": [
    {
     "data": {
      "text/plain": [
       "(691, 10)"
      ]
     },
     "execution_count": 329,
     "metadata": {},
     "output_type": "execute_result"
    }
   ],
   "source": [
    "np.shape(beta_best)"
   ]
  },
  {
   "cell_type": "markdown",
   "id": "9e74c8df",
   "metadata": {},
   "source": [
    "# 3 UMAP Plot"
   ]
  },
  {
   "cell_type": "code",
   "execution_count": 330,
   "id": "096d359c",
   "metadata": {},
   "outputs": [],
   "source": [
    "import umap\n",
    "import sklearn.datasets\n",
    "import umap.plot"
   ]
  },
  {
   "cell_type": "code",
   "execution_count": 331,
   "id": "464ce6a3",
   "metadata": {},
   "outputs": [],
   "source": [
    "# Umap need a matrix obs by features\n",
    "Embed_Stack = np.vstack((alpha_best,beta_best))\n",
    "\n",
    "# label\n",
    "N_K1 = np.shape(alpha_best)[0]\n",
    "Label = np.zeros(np.shape(Embed_Stack)[0])\n",
    "Label[N_K1:] = 1\n",
    "\n",
    "mapper = umap.UMAP().fit(Embed_Stack)"
   ]
  },
  {
   "cell_type": "code",
   "execution_count": 332,
   "id": "a6f4c229",
   "metadata": {},
   "outputs": [
    {
     "data": {
      "text/plain": [
       "<Axes: >"
      ]
     },
     "execution_count": 332,
     "metadata": {},
     "output_type": "execute_result"
    },
    {
     "data": {
      "image/png": "[encoded data removed]",
      "text/plain": [
       "<Figure size 800x800 with 1 Axes>"
      ]
     },
     "metadata": {},
     "output_type": "display_data"
    }
   ],
   "source": [
    "umap.plot.points(mapper, labels=Label)"
   ]
  },
  {
   "cell_type": "markdown",
   "id": "f45f6865",
   "metadata": {},
   "source": [
    "## 3.1 KNN to transfer labels"
   ]
  },
  {
   "cell_type": "code",
   "execution_count": 333,
   "id": "d2ee94f3",
   "metadata": {},
   "outputs": [
    {
     "data": {
      "text/html": [
       "<style>#sk-container-id-8 {color: black;}#sk-container-id-8 pre{padding: 0;}#sk-container-id-8 div.sk-toggleable {background-color: white;}#sk-container-id-8 label.sk-toggleable__label {cursor: pointer;display: block;width: 100%;margin-bottom: 0;padding: 0.3em;box-sizing: border-box;text-align: center;}#sk-container-id-8 label.sk-toggleable__label-arrow:before {content: \"▸\";float: left;margin-right: 0.25em;color: #696969;}#sk-container-id-8 label.sk-toggleable__label-arrow:hover:before {color: black;}#sk-container-id-8 div.sk-estimator:hover label.sk-toggleable__label-arrow:before {color: black;}#sk-container-id-8 div.sk-toggleable__content {max-height: 0;max-width: 0;overflow: hidden;text-align: left;background-color: #f0f8ff;}#sk-container-id-8 div.sk-toggleable__content pre {margin: 0.2em;color: black;border-radius: 0.25em;background-color: #f0f8ff;}#sk-container-id-8 input.sk-toggleable__control:checked~div.sk-toggleable__content {max-height: 200px;max-width: 100%;overflow: auto;}#sk-container-id-8 input.sk-toggleable__control:checked~label.sk-toggleable__label-arrow:before {content: \"▾\";}#sk-container-id-8 div.sk-estimator input.sk-toggleable__control:checked~label.sk-toggleable__label {background-color: #d4ebff;}#sk-container-id-8 div.sk-label input.sk-toggleable__control:checked~label.sk-toggleable__label {background-color: #d4ebff;}#sk-container-id-8 input.sk-hidden--visually {border: 0;clip: rect(1px 1px 1px 1px);clip: rect(1px, 1px, 1px, 1px);height: 1px;margin: -1px;overflow: hidden;padding: 0;position: absolute;width: 1px;}#sk-container-id-8 div.sk-estimator {font-family: monospace;background-color: #f0f8ff;border: 1px dotted black;border-radius: 0.25em;box-sizing: border-box;margin-bottom: 0.5em;}#sk-container-id-8 div.sk-estimator:hover {background-color: #d4ebff;}#sk-container-id-8 div.sk-parallel-item::after {content: \"\";width: 100%;border-bottom: 1px solid gray;flex-grow: 1;}#sk-container-id-8 div.sk-label:hover label.sk-toggleable__label {background-color: #d4ebff;}#sk-container-id-8 div.sk-serial::before {content: \"\";position: absolute;border-left: 1px solid gray;box-sizing: border-box;top: 0;bottom: 0;left: 50%;z-index: 0;}#sk-container-id-8 div.sk-serial {display: flex;flex-direction: column;align-items: center;background-color: white;padding-right: 0.2em;padding-left: 0.2em;position: relative;}#sk-container-id-8 div.sk-item {position: relative;z-index: 1;}#sk-container-id-8 div.sk-parallel {display: flex;align-items: stretch;justify-content: center;background-color: white;position: relative;}#sk-container-id-8 div.sk-item::before, #sk-container-id-8 div.sk-parallel-item::before {content: \"\";position: absolute;border-left: 1px solid gray;box-sizing: border-box;top: 0;bottom: 0;left: 50%;z-index: -1;}#sk-container-id-8 div.sk-parallel-item {display: flex;flex-direction: column;z-index: 1;position: relative;background-color: white;}#sk-container-id-8 div.sk-parallel-item:first-child::after {align-self: flex-end;width: 50%;}#sk-container-id-8 div.sk-parallel-item:last-child::after {align-self: flex-start;width: 50%;}#sk-container-id-8 div.sk-parallel-item:only-child::after {width: 0;}#sk-container-id-8 div.sk-dashed-wrapped {border: 1px dashed gray;margin: 0 0.4em 0.5em 0.4em;box-sizing: border-box;padding-bottom: 0.4em;background-color: white;}#sk-container-id-8 div.sk-label label {font-family: monospace;font-weight: bold;display: inline-block;line-height: 1.2em;}#sk-container-id-8 div.sk-label-container {text-align: center;}#sk-container-id-8 div.sk-container {/* jupyter's `normalize.less` sets `[hidden] { display: none; }` but bootstrap.min.css set `[hidden] { display: none !important; }` so we also need the `!important` here to be able to override the default hidden behavior on the sphinx rendered scikit-learn.org. See: https://github.com/scikit-learn/scikit-learn/issues/21755 */display: inline-block !important;position: relative;}#sk-container-id-8 div.sk-text-repr-fallback {display: none;}</style><div id=\"sk-container-id-8\" class=\"sk-top-container\"><div class=\"sk-text-repr-fallback\"><pre>KNeighborsClassifier(n_neighbors=1)</pre><b>In a Jupyter environment, please rerun this cell to show the HTML representation or trust the notebook. <br />On GitHub, the HTML representation is unable to render, please try loading this page with nbviewer.org.</b></div><div class=\"sk-container\" hidden><div class=\"sk-item\"><div class=\"sk-estimator sk-toggleable\"><input class=\"sk-toggleable__control sk-hidden--visually\" id=\"sk-estimator-id-8\" type=\"checkbox\" checked><label for=\"sk-estimator-id-8\" class=\"sk-toggleable__label sk-toggleable__label-arrow\">KNeighborsClassifier</label><div class=\"sk-toggleable__content\"><pre>KNeighborsClassifier(n_neighbors=1)</pre></div></div></div></div></div>"
      ],
      "text/plain": [
       "KNeighborsClassifier(n_neighbors=1)"
      ]
     },
     "execution_count": 333,
     "metadata": {},
     "output_type": "execute_result"
    }
   ],
   "source": [
    "from sklearn.neighbors import KNeighborsClassifier\n",
    "Braak = anndata_ROSMAP.obs['braaksc']\n",
    "neigh = KNeighborsClassifier(n_neighbors=1)\n",
    "neigh.fit(alpha_best,Braak)"
   ]
  },
  {
   "cell_type": "code",
   "execution_count": 334,
   "id": "7af8ca59",
   "metadata": {},
   "outputs": [],
   "source": [
    "y_pred = np.zeros(len(ANMergeSampleID))\n",
    "y_pred = -1+y_pred\n",
    "\n",
    "for i in range(len(ANMergeSampleID)):\n",
    "    y_pred[i] = neigh.predict([beta_best[i,:]])"
   ]
  },
  {
   "cell_type": "code",
   "execution_count": 335,
   "id": "bb8f3f17",
   "metadata": {},
   "outputs": [],
   "source": [
    "anndata_Target.obs['braaksc_trans'] = y_pred"
   ]
  },
  {
   "cell_type": "code",
   "execution_count": 336,
   "id": "d6bdbe5b-42b5-4541-a4e9-290a216e6074",
   "metadata": {
    "tags": []
   },
   "outputs": [
    {
     "data": {
      "text/html": [
       "<div>\n",
       "<style scoped>\n",
       "    .dataframe tbody tr th:only-of-type {\n",
       "        vertical-align: middle;\n",
       "    }\n",
       "\n",
       "    .dataframe tbody tr th {\n",
       "        vertical-align: top;\n",
       "    }\n",
       "\n",
       "    .dataframe thead th {\n",
       "        text-align: right;\n",
       "    }\n",
       "</style>\n",
       "<table border=\"1\" class=\"dataframe\">\n",
       "  <thead>\n",
       "    <tr style=\"text-align: right;\">\n",
       "      <th></th>\n",
       "      <th>DX</th>\n",
       "      <th>CDRSOB</th>\n",
       "      <th>braaksc_trans</th>\n",
       "    </tr>\n",
       "  </thead>\n",
       "  <tbody>\n",
       "    <tr>\n",
       "      <th>DCR00001_1</th>\n",
       "      <td>AD</td>\n",
       "      <td>5.0</td>\n",
       "      <td>5.0</td>\n",
       "    </tr>\n",
       "    <tr>\n",
       "      <th>DCR00004_1</th>\n",
       "      <td>MCI</td>\n",
       "      <td>0.5</td>\n",
       "      <td>5.0</td>\n",
       "    </tr>\n",
       "    <tr>\n",
       "      <th>DCR00009_1</th>\n",
       "      <td>CTL</td>\n",
       "      <td>0.0</td>\n",
       "      <td>4.0</td>\n",
       "    </tr>\n",
       "    <tr>\n",
       "      <th>DCR00013_1</th>\n",
       "      <td>CTL</td>\n",
       "      <td>0.0</td>\n",
       "      <td>5.0</td>\n",
       "    </tr>\n",
       "    <tr>\n",
       "      <th>DCR00014_1</th>\n",
       "      <td>CTL</td>\n",
       "      <td>inf</td>\n",
       "      <td>4.0</td>\n",
       "    </tr>\n",
       "  </tbody>\n",
       "</table>\n",
       "</div>"
      ],
      "text/plain": [
       "             DX  CDRSOB  braaksc_trans\n",
       "DCR00001_1   AD     5.0            5.0\n",
       "DCR00004_1  MCI     0.5            5.0\n",
       "DCR00009_1  CTL     0.0            4.0\n",
       "DCR00013_1  CTL     0.0            5.0\n",
       "DCR00014_1  CTL     inf            4.0"
      ]
     },
     "execution_count": 336,
     "metadata": {},
     "output_type": "execute_result"
    }
   ],
   "source": [
    "anndata_Target.obs.head(5)"
   ]
  },
  {
   "cell_type": "code",
   "execution_count": null,
   "id": "b4e66358-22e6-4162-ae2d-be7df4fe8f6f",
   "metadata": {},
   "outputs": [],
   "source": []
  },
  {
   "cell_type": "markdown",
   "id": "c6bd7ffc-232b-4494-ae67-c85f1012812a",
   "metadata": {},
   "source": [
    "# Classify"
   ]
  },
  {
   "cell_type": "code",
   "execution_count": 337,
   "id": "3acc783e-d3e2-4144-9ac0-d312bf169c3c",
   "metadata": {
    "tags": []
   },
   "outputs": [],
   "source": [
    "Label = list()\n",
    "SID = list(anndata_Target.obs.index)\n",
    "\n",
    "for gt in SID:\n",
    "    CRD = anndata_Target.obs.loc[gt,:].CDRSOB\n",
    "    Braak = anndata_Target.obs.loc[gt,:].braaksc_trans\n",
    "    Dx = anndata_Target.obs.loc[gt,:].DX\n",
    "    if CRD > 4 and Braak >=4:\n",
    "        Label.append(\"Typical AD\")\n",
    "    elif CRD <= 4 and Braak >=4 and CRD > 0:\n",
    "        Label.append(\"Asym AD\")\n",
    "    elif CRD > 4 and Braak <=2:\n",
    "        Label.append(\"Low-NFT AD\")\n",
    "    elif CRD <= 0.5 and Braak <=2:\n",
    "        Label.append(\"Control\")\n",
    "    else:\n",
    "        Label.append(\"Others\")"
   ]
  },
  {
   "cell_type": "code",
   "execution_count": 338,
   "id": "84421837-3693-416d-b88e-8a94c645fd3b",
   "metadata": {
    "tags": []
   },
   "outputs": [],
   "source": [
    "anndata_Target.obs['NewLabel'] = Label"
   ]
  },
  {
   "cell_type": "code",
   "execution_count": 339,
   "id": "82ddabf5-16b5-4463-9464-e513966cb62a",
   "metadata": {
    "tags": []
   },
   "outputs": [
    {
     "name": "stdout",
     "output_type": "stream",
     "text": [
      "Counter({'MCI': 174, 'AD': 40, 'CTL': 30})\n",
      "Asym AD transfer accuracy is  0.8360655737704918\n"
     ]
    }
   ],
   "source": [
    "df = anndata_Target.obs[anndata_Target.obs.NewLabel=='Asym AD']\n",
    "counter = collections.Counter(df['DX'])\n",
    "print(counter)\n",
    "Acc_Asym = (counter['CTL'] + counter['MCI']) / df.shape[0]\n",
    "print(\"Asym AD transfer accuracy is \", Acc_Asym)"
   ]
  },
  {
   "cell_type": "code",
   "execution_count": 340,
   "id": "ae4f1f7a-124d-4fff-9054-2df165757d89",
   "metadata": {
    "tags": []
   },
   "outputs": [
    {
     "name": "stdout",
     "output_type": "stream",
     "text": [
      "Counter({'AD': 153, 'CTL': 14, 'MCI': 14})\n",
      "Typical AD transfer accuracy is  0.9226519337016574\n"
     ]
    }
   ],
   "source": [
    "df = anndata_Target.obs[anndata_Target.obs.NewLabel=='Typical AD']\n",
    "counter = collections.Counter(df['DX'])\n",
    "print(counter)\n",
    "Acc_TAD = (counter['AD'] + counter['MCI']) / df.shape[0]\n",
    "print(\"Typical AD transfer accuracy is \", Acc_TAD)"
   ]
  },
  {
   "cell_type": "code",
   "execution_count": 341,
   "id": "38047ce0-4718-4ada-9ab5-dd4f1b9710f4",
   "metadata": {
    "tags": []
   },
   "outputs": [
    {
     "name": "stdout",
     "output_type": "stream",
     "text": [
      "Counter({'AD': 21, 'CTL': 6, 'MCI': 2})\n",
      "Low-NFT AD transfer accuracy is  0.7931034482758621\n"
     ]
    }
   ],
   "source": [
    "df = anndata_Target.obs[anndata_Target.obs.NewLabel=='Low-NFT AD']\n",
    "counter = collections.Counter(df['DX'])\n",
    "print(counter)\n",
    "Acc_LTau = (counter['AD'] + counter['MCI']) / df.shape[0]\n",
    "print(\"Low-NFT AD transfer accuracy is \", Acc_LTau)"
   ]
  },
  {
   "cell_type": "code",
   "execution_count": 342,
   "id": "7a04dfca-b2d6-4b56-a494-dff693e58f51",
   "metadata": {
    "tags": []
   },
   "outputs": [
    {
     "name": "stdout",
     "output_type": "stream",
     "text": [
      "Counter({'CTL': 30, 'MCI': 9, 'AD': 1})\n",
      "Control transfer accuracy is  0.75\n"
     ]
    }
   ],
   "source": [
    "df = anndata_Target.obs[anndata_Target.obs.NewLabel=='Control']\n",
    "counter = collections.Counter(df['DX'])\n",
    "print(counter)\n",
    "Acc_CN = (counter['CTL']) / df.shape[0]\n",
    "print(\"Control transfer accuracy is \", Acc_CN)"
   ]
  },
  {
   "cell_type": "code",
   "execution_count": 343,
   "id": "ee6d7e9d-1ac9-49a2-8819-f43854008071",
   "metadata": {
    "tags": []
   },
   "outputs": [
    {
     "name": "stdout",
     "output_type": "stream",
     "text": [
      "Counter({'CTL': 169, 'MCI': 20, 'AD': 8})\n"
     ]
    }
   ],
   "source": [
    "df = anndata_Target.obs[anndata_Target.obs.NewLabel=='Others']\n",
    "counter = collections.Counter(df['DX'])\n",
    "print(counter)"
   ]
  },
  {
   "cell_type": "code",
   "execution_count": 344,
   "id": "de0d6547-4a07-435d-8441-864e935778cd",
   "metadata": {
    "tags": []
   },
   "outputs": [
    {
     "name": "stdout",
     "output_type": "stream",
     "text": [
      "Avg acc is  0.8254552389370029\n"
     ]
    }
   ],
   "source": [
    "Acc_Avg = (Acc_Asym + Acc_CN + Acc_LTau + Acc_TAD)/4\n",
    "print(\"Avg acc is \", Acc_Avg)"
   ]
  },
  {
   "cell_type": "code",
   "execution_count": 345,
   "id": "cee404c6-1cb5-4faa-b185-b63e90a58c81",
   "metadata": {
    "tags": []
   },
   "outputs": [
    {
     "name": "stdout",
     "output_type": "stream",
     "text": [
      "Counter({'Asym AD': 244, 'Others': 197, 'Typical AD': 181, 'Control': 40, 'Low-NFT AD': 29})\n"
     ]
    }
   ],
   "source": [
    "counter = collections.Counter(Label)\n",
    "print(counter)"
   ]
  },
  {
   "cell_type": "code",
   "execution_count": 346,
   "id": "a3cd49a2-e8e4-4ad1-93d3-62fe1f3e8b1e",
   "metadata": {
    "tags": []
   },
   "outputs": [
    {
     "data": {
      "text/plain": [
       "444"
      ]
     },
     "execution_count": 346,
     "metadata": {},
     "output_type": "execute_result"
    }
   ],
   "source": [
    "len(Label)-247"
   ]
  },
  {
   "cell_type": "code",
   "execution_count": null,
   "id": "bd35a36a-85d1-4c87-b101-97ab9bf2e122",
   "metadata": {},
   "outputs": [],
   "source": []
  },
  {
   "cell_type": "code",
   "execution_count": null,
   "id": "0f043b31-dfaa-4340-b7d6-fa2b8d114312",
   "metadata": {},
   "outputs": [],
   "source": []
  },
  {
   "cell_type": "code",
   "execution_count": null,
   "id": "f381675c-77b4-4f0f-89d7-1f48274fb927",
   "metadata": {},
   "outputs": [],
   "source": []
  },
  {
   "cell_type": "code",
   "execution_count": null,
   "id": "e0180d0c-89d4-4f0b-b79e-f9f5ac8d92a5",
   "metadata": {},
   "outputs": [],
   "source": []
  },
  {
   "cell_type": "code",
   "execution_count": null,
   "id": "3982d1dd-bbc4-42c0-9ce7-4ccf12ae8ad6",
   "metadata": {},
   "outputs": [],
   "source": []
  },
  {
   "cell_type": "code",
   "execution_count": null,
   "id": "1a0b33e9-44e5-4afc-a6fb-6bc5bb40591b",
   "metadata": {},
   "outputs": [],
   "source": []
  },
  {
   "cell_type": "code",
   "execution_count": null,
   "id": "e05dae9e-8212-44b3-960c-119a0b4393d0",
   "metadata": {},
   "outputs": [],
   "source": []
  },
  {
   "cell_type": "code",
   "execution_count": null,
   "id": "9f0c23f0-8e84-4fc4-9d4b-3d9ac66ade2e",
   "metadata": {},
   "outputs": [],
   "source": []
  },
  {
   "cell_type": "code",
   "execution_count": null,
   "id": "a3b82557-de50-4ed6-8442-5b7ece9bebb6",
   "metadata": {},
   "outputs": [],
   "source": []
  },
  {
   "cell_type": "code",
   "execution_count": null,
   "id": "93ddf1e6-1b3c-4077-a2a1-079718bc7434",
   "metadata": {},
   "outputs": [],
   "source": []
  },
  {
   "cell_type": "code",
   "execution_count": null,
   "id": "0f43cac1-eb9d-475d-8595-01ffa885b827",
   "metadata": {},
   "outputs": [],
   "source": []
  },
  {
   "cell_type": "code",
   "execution_count": null,
   "id": "1886bbde-657d-43b7-9da4-6055a22cbc09",
   "metadata": {},
   "outputs": [],
   "source": []
  },
  {
   "cell_type": "code",
   "execution_count": null,
   "id": "076c2c93-6961-487f-b563-f3aaf9b08ff8",
   "metadata": {},
   "outputs": [],
   "source": []
  },
  {
   "cell_type": "code",
   "execution_count": null,
   "id": "38d53f1a-a777-4258-b247-1d0c9f7ccac4",
   "metadata": {},
   "outputs": [],
   "source": []
  },
  {
   "cell_type": "markdown",
   "id": "5cbedeb3",
   "metadata": {},
   "source": [
    "## 3.2 Evaulation"
   ]
  },
  {
   "cell_type": "code",
   "execution_count": 20,
   "id": "73fe4353",
   "metadata": {},
   "outputs": [
    {
     "name": "stdout",
     "output_type": "stream",
     "text": [
      "precision of TAD is  0.6859903381642513\n",
      "precision of AAD  is  0.854679802955665\n",
      "precision of CN  is  0.8584905660377359\n",
      "precision of LowTau is  0.68\n"
     ]
    }
   ],
   "source": [
    "#Mapping = {'Control': 0, 'Typical.AD': 1, 'Asym.AD': 2, 'LowNFT.AD': 3}\n",
    "#Mapping = {'CTL': 0, 'AD': 1, 'MCI': 2}\n",
    "\n",
    "\n",
    "pred_ind_cn = np.where(y_pred==0)[0]\n",
    "true_ind_cn = np.where(y_true==0)[0]\n",
    "overlap = list(set(pred_ind_cn) & set(true_ind_cn))\n",
    "\n",
    "pred_ind_aad = np.where(y_pred==2)[0]\n",
    "true_ind_aad = np.where(y_true==2)[0]\n",
    "overlap = list(set(pred_ind_aad) & set(true_ind_aad))\n",
    "\n",
    "pred_ind_tad = np.where(y_pred==1)[0]\n",
    "true_ind_tad = np.where(y_true==1)[0]\n",
    "true_ind_tad_aad = list(true_ind_aad) + list(true_ind_tad)\n",
    "overlap = list(set(pred_ind_tad) & set(true_ind_tad_aad))\n",
    "print(\"precision of TAD is \", len(overlap)/len(pred_ind_tad))\n",
    "\n",
    "pred_ind_aad_cn = list(pred_ind_aad) #+ list(pred_ind_cn)\n",
    "true_ind_aad_cn = list(true_ind_cn) + list(true_ind_aad)\n",
    "overlap = list(set(pred_ind_aad_cn) & set(true_ind_aad_cn))\n",
    "print(\"precision of AAD  is \", len(overlap)/len(pred_ind_aad_cn))\n",
    "\n",
    "pred_ind_aad_cn = list(pred_ind_cn) #list(pred_ind_aad) + \n",
    "true_ind_aad_cn = list(true_ind_cn) + list(true_ind_aad)\n",
    "overlap = list(set(pred_ind_aad_cn) & set(true_ind_aad_cn))\n",
    "if len(pred_ind_aad_cn) == 0:\n",
    "    print(\"precision of CN  is 0\")\n",
    "else:\n",
    "    print(\"precision of CN  is \", len(overlap)/len(pred_ind_aad_cn))\n",
    "\n",
    "pred_ind_lt = np.where(y_pred==3)[0]\n",
    "true_ind_lt = np.where(y_true==1)[0]\n",
    "true_ind_lt_aad = list(true_ind_aad) + list(true_ind_lt)\n",
    "overlap = list(set(pred_ind_lt) & set(true_ind_lt_aad))\n",
    "if len(pred_ind_lt) == 0:\n",
    "    print(\"precision of LowTau is 0\")\n",
    "else:\n",
    "    print(\"precision of LowTau is \", len(overlap)/len(pred_ind_lt))\n"
   ]
  },
  {
   "cell_type": "code",
   "execution_count": null,
   "id": "53822620",
   "metadata": {},
   "outputs": [],
   "source": []
  }
 ],
 "metadata": {
  "kernelspec": {
   "display_name": "Python (tf)",
   "language": "python",
   "name": "myenv"
  },
  "language_info": {
   "codemirror_mode": {
    "name": "ipython",
    "version": 3
   },
   "file_extension": ".py",
   "mimetype": "text/x-python",
   "name": "python",
   "nbconvert_exporter": "python",
   "pygments_lexer": "ipython3",
   "version": "3.11.3"
  }
 },
 "nbformat": 4,
 "nbformat_minor": 5
}
