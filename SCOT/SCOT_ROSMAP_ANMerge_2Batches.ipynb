{
 "cells": [
  {
   "cell_type": "code",
   "execution_count": 1,
   "id": "cbb5c327",
   "metadata": {
    "tags": []
   },
   "outputs": [
    {
     "name": "stderr",
     "output_type": "stream",
     "text": [
      "/Users/yijwang-admin/anaconda3/lib/python3.10/site-packages/tqdm/auto.py:22: TqdmWarning: IProgress not found. Please update jupyter and ipywidgets. See https://ipywidgets.readthedocs.io/en/stable/user_install.html\n",
      "  from .autonotebook import tqdm as notebook_tqdm\n"
     ]
    }
   ],
   "source": [
    "import numpy as np          \n",
    "import argparse\n",
    "import pandas as pd\n",
    "#from termcolor import colored\n",
    "import sys\n",
    "sys.path.insert(1, './src/')\n",
    "from scotv1 import *"
   ]
  },
  {
   "cell_type": "markdown",
   "id": "f8ea7519",
   "metadata": {},
   "source": [
    "# 1 Read in data"
   ]
  },
  {
   "cell_type": "code",
   "execution_count": 2,
   "id": "1f7cd502",
   "metadata": {},
   "outputs": [],
   "source": [
    "# Blood ROSMAP\n",
    "ROSMAPFrame = pd.read_csv(\"../../../Data/ROSMAP_blood_gene_expression_monocyte_ACTL_04172023.csv\",header=0, index_col=0)\n",
    "ROSMAPSampleID = list(ROSMAPFrame.columns.values)\n",
    "ROSMAPGeneID = list(ROSMAPFrame.index.values)\n",
    "\n",
    "# Blood ANMerge\n",
    "ANMergeFrame = pd.read_csv(\"../../../Data/ANMerge_blood_rna_gene_expr_processed_XH_10112023.csv\",header=0, index_col=0)\n",
    "ANMergeGeneID = list(ANMergeFrame.index.values)\n",
    "ANMergeSampleID = list(ANMergeFrame.columns.values)"
   ]
  },
  {
   "cell_type": "code",
   "execution_count": 3,
   "id": "67150cee",
   "metadata": {},
   "outputs": [],
   "source": [
    "# log transform ROSMAP\n",
    "#ROSMAPFrame = np.log(ROSMAPFrame+1)"
   ]
  },
  {
   "cell_type": "code",
   "execution_count": 4,
   "id": "557167b8",
   "metadata": {},
   "outputs": [
    {
     "name": "stdout",
     "output_type": "stream",
     "text": [
      "Number of overlapped gene is 2785\n"
     ]
    }
   ],
   "source": [
    "# log transform ROSMAP\n",
    "ROSMAPFrame = np.log(ROSMAPFrame+1)\n",
    "\n",
    "# gene overlap between ROSMAP and ANMerge\n",
    "OverlapGene = list(set(ROSMAPGeneID) & set(ANMergeGeneID))\n",
    "print(\"Number of overlapped gene is\", len(OverlapGene))"
   ]
  },
  {
   "cell_type": "markdown",
   "id": "eed544b3",
   "metadata": {},
   "source": [
    "## 1.1 Aligned dataframe to make their gene aligned"
   ]
  },
  {
   "cell_type": "code",
   "execution_count": 5,
   "id": "d1eaf5c3",
   "metadata": {},
   "outputs": [],
   "source": [
    "ROSMAPFrame = ROSMAPFrame.loc[OverlapGene,:]\n",
    "ANMergeFrame = ANMergeFrame.loc[OverlapGene,:]"
   ]
  },
  {
   "cell_type": "code",
   "execution_count": 6,
   "id": "aff19bdf",
   "metadata": {},
   "outputs": [
    {
     "data": {
      "text/html": [
       "<div>\n",
       "<style scoped>\n",
       "    .dataframe tbody tr th:only-of-type {\n",
       "        vertical-align: middle;\n",
       "    }\n",
       "\n",
       "    .dataframe tbody tr th {\n",
       "        vertical-align: top;\n",
       "    }\n",
       "\n",
       "    .dataframe thead th {\n",
       "        text-align: right;\n",
       "    }\n",
       "</style>\n",
       "<table border=\"1\" class=\"dataframe\">\n",
       "  <thead>\n",
       "    <tr style=\"text-align: right;\">\n",
       "      <th></th>\n",
       "      <th>Sample_003</th>\n",
       "      <th>Sample_004</th>\n",
       "      <th>Sample_014</th>\n",
       "      <th>Sample_021</th>\n",
       "      <th>Sample_031</th>\n",
       "      <th>Sample_037</th>\n",
       "      <th>Sample_040</th>\n",
       "      <th>Sample_050</th>\n",
       "      <th>Sample_057</th>\n",
       "      <th>Sample_058</th>\n",
       "      <th>...</th>\n",
       "      <th>Sample_563</th>\n",
       "      <th>Sample_572</th>\n",
       "      <th>Sample_573</th>\n",
       "      <th>Sample_578</th>\n",
       "      <th>Sample_580</th>\n",
       "      <th>Sample_581</th>\n",
       "      <th>Sample_582</th>\n",
       "      <th>Sample_588</th>\n",
       "      <th>Sample_590</th>\n",
       "      <th>Sample_608</th>\n",
       "    </tr>\n",
       "  </thead>\n",
       "  <tbody>\n",
       "    <tr>\n",
       "      <th>PDCD4</th>\n",
       "      <td>6.126869</td>\n",
       "      <td>6.608001</td>\n",
       "      <td>1.386294</td>\n",
       "      <td>6.520621</td>\n",
       "      <td>6.492240</td>\n",
       "      <td>5.799093</td>\n",
       "      <td>5.902633</td>\n",
       "      <td>6.670766</td>\n",
       "      <td>6.126869</td>\n",
       "      <td>5.560682</td>\n",
       "      <td>...</td>\n",
       "      <td>5.843544</td>\n",
       "      <td>5.683580</td>\n",
       "      <td>5.638355</td>\n",
       "      <td>6.089045</td>\n",
       "      <td>6.562444</td>\n",
       "      <td>5.093750</td>\n",
       "      <td>1.504077</td>\n",
       "      <td>0.693147</td>\n",
       "      <td>6.001415</td>\n",
       "      <td>5.874931</td>\n",
       "    </tr>\n",
       "    <tr>\n",
       "      <th>TAPBP</th>\n",
       "      <td>7.891705</td>\n",
       "      <td>7.834392</td>\n",
       "      <td>10.776850</td>\n",
       "      <td>8.200563</td>\n",
       "      <td>8.030735</td>\n",
       "      <td>7.539559</td>\n",
       "      <td>7.586296</td>\n",
       "      <td>7.773594</td>\n",
       "      <td>8.112827</td>\n",
       "      <td>7.736744</td>\n",
       "      <td>...</td>\n",
       "      <td>7.266827</td>\n",
       "      <td>7.681560</td>\n",
       "      <td>7.427144</td>\n",
       "      <td>7.544332</td>\n",
       "      <td>7.608374</td>\n",
       "      <td>6.536692</td>\n",
       "      <td>9.757855</td>\n",
       "      <td>2.079442</td>\n",
       "      <td>7.766417</td>\n",
       "      <td>7.797291</td>\n",
       "    </tr>\n",
       "    <tr>\n",
       "      <th>SH2D3C</th>\n",
       "      <td>6.095825</td>\n",
       "      <td>5.921578</td>\n",
       "      <td>8.073403</td>\n",
       "      <td>6.068426</td>\n",
       "      <td>6.502790</td>\n",
       "      <td>5.877736</td>\n",
       "      <td>5.509388</td>\n",
       "      <td>5.978886</td>\n",
       "      <td>3.850148</td>\n",
       "      <td>5.455321</td>\n",
       "      <td>...</td>\n",
       "      <td>5.252273</td>\n",
       "      <td>5.568345</td>\n",
       "      <td>5.886104</td>\n",
       "      <td>5.869297</td>\n",
       "      <td>5.459586</td>\n",
       "      <td>4.204693</td>\n",
       "      <td>4.624973</td>\n",
       "      <td>0.000000</td>\n",
       "      <td>5.762051</td>\n",
       "      <td>5.433722</td>\n",
       "    </tr>\n",
       "    <tr>\n",
       "      <th>ADAT1</th>\n",
       "      <td>4.304065</td>\n",
       "      <td>3.713572</td>\n",
       "      <td>4.406719</td>\n",
       "      <td>4.532599</td>\n",
       "      <td>4.110874</td>\n",
       "      <td>4.189655</td>\n",
       "      <td>4.382027</td>\n",
       "      <td>3.178054</td>\n",
       "      <td>3.091042</td>\n",
       "      <td>3.555348</td>\n",
       "      <td>...</td>\n",
       "      <td>2.197225</td>\n",
       "      <td>3.784190</td>\n",
       "      <td>4.442651</td>\n",
       "      <td>3.583519</td>\n",
       "      <td>2.397895</td>\n",
       "      <td>1.609438</td>\n",
       "      <td>3.828641</td>\n",
       "      <td>0.000000</td>\n",
       "      <td>4.290459</td>\n",
       "      <td>4.304065</td>\n",
       "    </tr>\n",
       "    <tr>\n",
       "      <th>SERINC3</th>\n",
       "      <td>6.447306</td>\n",
       "      <td>5.981414</td>\n",
       "      <td>7.344073</td>\n",
       "      <td>7.092574</td>\n",
       "      <td>6.167516</td>\n",
       "      <td>6.761573</td>\n",
       "      <td>6.648985</td>\n",
       "      <td>6.008813</td>\n",
       "      <td>5.631212</td>\n",
       "      <td>6.222576</td>\n",
       "      <td>...</td>\n",
       "      <td>5.111988</td>\n",
       "      <td>6.338594</td>\n",
       "      <td>5.929589</td>\n",
       "      <td>6.437752</td>\n",
       "      <td>5.849325</td>\n",
       "      <td>4.499810</td>\n",
       "      <td>3.817712</td>\n",
       "      <td>1.098612</td>\n",
       "      <td>6.519147</td>\n",
       "      <td>6.614726</td>\n",
       "    </tr>\n",
       "    <tr>\n",
       "      <th>...</th>\n",
       "      <td>...</td>\n",
       "      <td>...</td>\n",
       "      <td>...</td>\n",
       "      <td>...</td>\n",
       "      <td>...</td>\n",
       "      <td>...</td>\n",
       "      <td>...</td>\n",
       "      <td>...</td>\n",
       "      <td>...</td>\n",
       "      <td>...</td>\n",
       "      <td>...</td>\n",
       "      <td>...</td>\n",
       "      <td>...</td>\n",
       "      <td>...</td>\n",
       "      <td>...</td>\n",
       "      <td>...</td>\n",
       "      <td>...</td>\n",
       "      <td>...</td>\n",
       "      <td>...</td>\n",
       "      <td>...</td>\n",
       "      <td>...</td>\n",
       "    </tr>\n",
       "    <tr>\n",
       "      <th>RRAS</th>\n",
       "      <td>3.828641</td>\n",
       "      <td>1.945910</td>\n",
       "      <td>2.397895</td>\n",
       "      <td>3.332205</td>\n",
       "      <td>3.295837</td>\n",
       "      <td>3.850148</td>\n",
       "      <td>3.295837</td>\n",
       "      <td>2.197225</td>\n",
       "      <td>3.218876</td>\n",
       "      <td>2.708050</td>\n",
       "      <td>...</td>\n",
       "      <td>3.135494</td>\n",
       "      <td>3.496508</td>\n",
       "      <td>3.891820</td>\n",
       "      <td>3.295837</td>\n",
       "      <td>2.772589</td>\n",
       "      <td>2.484907</td>\n",
       "      <td>0.693147</td>\n",
       "      <td>0.000000</td>\n",
       "      <td>3.761200</td>\n",
       "      <td>3.784190</td>\n",
       "    </tr>\n",
       "    <tr>\n",
       "      <th>NDUFAF3</th>\n",
       "      <td>5.420535</td>\n",
       "      <td>4.204693</td>\n",
       "      <td>6.440947</td>\n",
       "      <td>5.147494</td>\n",
       "      <td>5.164786</td>\n",
       "      <td>5.030438</td>\n",
       "      <td>4.605170</td>\n",
       "      <td>4.867534</td>\n",
       "      <td>4.219508</td>\n",
       "      <td>5.093750</td>\n",
       "      <td>...</td>\n",
       "      <td>4.219508</td>\n",
       "      <td>5.164786</td>\n",
       "      <td>5.451038</td>\n",
       "      <td>4.828314</td>\n",
       "      <td>3.401197</td>\n",
       "      <td>4.174387</td>\n",
       "      <td>1.871802</td>\n",
       "      <td>0.000000</td>\n",
       "      <td>5.023881</td>\n",
       "      <td>5.105945</td>\n",
       "    </tr>\n",
       "    <tr>\n",
       "      <th>NUDT5</th>\n",
       "      <td>4.897840</td>\n",
       "      <td>3.850148</td>\n",
       "      <td>5.693732</td>\n",
       "      <td>5.288267</td>\n",
       "      <td>4.605170</td>\n",
       "      <td>4.859812</td>\n",
       "      <td>4.997212</td>\n",
       "      <td>4.262680</td>\n",
       "      <td>3.931826</td>\n",
       "      <td>4.927254</td>\n",
       "      <td>...</td>\n",
       "      <td>3.663562</td>\n",
       "      <td>4.248495</td>\n",
       "      <td>4.997212</td>\n",
       "      <td>4.859812</td>\n",
       "      <td>3.951244</td>\n",
       "      <td>3.496508</td>\n",
       "      <td>1.386294</td>\n",
       "      <td>0.000000</td>\n",
       "      <td>4.644391</td>\n",
       "      <td>4.875197</td>\n",
       "    </tr>\n",
       "    <tr>\n",
       "      <th>B3GALT4</th>\n",
       "      <td>3.871201</td>\n",
       "      <td>3.688879</td>\n",
       "      <td>5.710427</td>\n",
       "      <td>4.094345</td>\n",
       "      <td>3.178054</td>\n",
       "      <td>3.850148</td>\n",
       "      <td>3.610918</td>\n",
       "      <td>1.386294</td>\n",
       "      <td>2.302585</td>\n",
       "      <td>3.044522</td>\n",
       "      <td>...</td>\n",
       "      <td>2.772589</td>\n",
       "      <td>3.806662</td>\n",
       "      <td>3.931826</td>\n",
       "      <td>3.663562</td>\n",
       "      <td>2.639057</td>\n",
       "      <td>1.609438</td>\n",
       "      <td>0.693147</td>\n",
       "      <td>0.000000</td>\n",
       "      <td>3.583519</td>\n",
       "      <td>3.850148</td>\n",
       "    </tr>\n",
       "    <tr>\n",
       "      <th>PSMB2</th>\n",
       "      <td>5.963579</td>\n",
       "      <td>5.843544</td>\n",
       "      <td>8.630700</td>\n",
       "      <td>6.527958</td>\n",
       "      <td>5.771441</td>\n",
       "      <td>5.891644</td>\n",
       "      <td>5.831882</td>\n",
       "      <td>5.808142</td>\n",
       "      <td>5.717028</td>\n",
       "      <td>5.783825</td>\n",
       "      <td>...</td>\n",
       "      <td>4.997212</td>\n",
       "      <td>5.831882</td>\n",
       "      <td>5.743003</td>\n",
       "      <td>5.971262</td>\n",
       "      <td>5.978886</td>\n",
       "      <td>4.804021</td>\n",
       "      <td>8.185350</td>\n",
       "      <td>1.386294</td>\n",
       "      <td>6.037871</td>\n",
       "      <td>6.102559</td>\n",
       "    </tr>\n",
       "  </tbody>\n",
       "</table>\n",
       "<p>2785 rows × 157 columns</p>\n",
       "</div>"
      ],
      "text/plain": [
       "         Sample_003  Sample_004  Sample_014  Sample_021  Sample_031  \\\n",
       "PDCD4      6.126869    6.608001    1.386294    6.520621    6.492240   \n",
       "TAPBP      7.891705    7.834392   10.776850    8.200563    8.030735   \n",
       "SH2D3C     6.095825    5.921578    8.073403    6.068426    6.502790   \n",
       "ADAT1      4.304065    3.713572    4.406719    4.532599    4.110874   \n",
       "SERINC3    6.447306    5.981414    7.344073    7.092574    6.167516   \n",
       "...             ...         ...         ...         ...         ...   \n",
       "RRAS       3.828641    1.945910    2.397895    3.332205    3.295837   \n",
       "NDUFAF3    5.420535    4.204693    6.440947    5.147494    5.164786   \n",
       "NUDT5      4.897840    3.850148    5.693732    5.288267    4.605170   \n",
       "B3GALT4    3.871201    3.688879    5.710427    4.094345    3.178054   \n",
       "PSMB2      5.963579    5.843544    8.630700    6.527958    5.771441   \n",
       "\n",
       "         Sample_037  Sample_040  Sample_050  Sample_057  Sample_058  ...  \\\n",
       "PDCD4      5.799093    5.902633    6.670766    6.126869    5.560682  ...   \n",
       "TAPBP      7.539559    7.586296    7.773594    8.112827    7.736744  ...   \n",
       "SH2D3C     5.877736    5.509388    5.978886    3.850148    5.455321  ...   \n",
       "ADAT1      4.189655    4.382027    3.178054    3.091042    3.555348  ...   \n",
       "SERINC3    6.761573    6.648985    6.008813    5.631212    6.222576  ...   \n",
       "...             ...         ...         ...         ...         ...  ...   \n",
       "RRAS       3.850148    3.295837    2.197225    3.218876    2.708050  ...   \n",
       "NDUFAF3    5.030438    4.605170    4.867534    4.219508    5.093750  ...   \n",
       "NUDT5      4.859812    4.997212    4.262680    3.931826    4.927254  ...   \n",
       "B3GALT4    3.850148    3.610918    1.386294    2.302585    3.044522  ...   \n",
       "PSMB2      5.891644    5.831882    5.808142    5.717028    5.783825  ...   \n",
       "\n",
       "         Sample_563  Sample_572  Sample_573  Sample_578  Sample_580  \\\n",
       "PDCD4      5.843544    5.683580    5.638355    6.089045    6.562444   \n",
       "TAPBP      7.266827    7.681560    7.427144    7.544332    7.608374   \n",
       "SH2D3C     5.252273    5.568345    5.886104    5.869297    5.459586   \n",
       "ADAT1      2.197225    3.784190    4.442651    3.583519    2.397895   \n",
       "SERINC3    5.111988    6.338594    5.929589    6.437752    5.849325   \n",
       "...             ...         ...         ...         ...         ...   \n",
       "RRAS       3.135494    3.496508    3.891820    3.295837    2.772589   \n",
       "NDUFAF3    4.219508    5.164786    5.451038    4.828314    3.401197   \n",
       "NUDT5      3.663562    4.248495    4.997212    4.859812    3.951244   \n",
       "B3GALT4    2.772589    3.806662    3.931826    3.663562    2.639057   \n",
       "PSMB2      4.997212    5.831882    5.743003    5.971262    5.978886   \n",
       "\n",
       "         Sample_581  Sample_582  Sample_588  Sample_590  Sample_608  \n",
       "PDCD4      5.093750    1.504077    0.693147    6.001415    5.874931  \n",
       "TAPBP      6.536692    9.757855    2.079442    7.766417    7.797291  \n",
       "SH2D3C     4.204693    4.624973    0.000000    5.762051    5.433722  \n",
       "ADAT1      1.609438    3.828641    0.000000    4.290459    4.304065  \n",
       "SERINC3    4.499810    3.817712    1.098612    6.519147    6.614726  \n",
       "...             ...         ...         ...         ...         ...  \n",
       "RRAS       2.484907    0.693147    0.000000    3.761200    3.784190  \n",
       "NDUFAF3    4.174387    1.871802    0.000000    5.023881    5.105945  \n",
       "NUDT5      3.496508    1.386294    0.000000    4.644391    4.875197  \n",
       "B3GALT4    1.609438    0.693147    0.000000    3.583519    3.850148  \n",
       "PSMB2      4.804021    8.185350    1.386294    6.037871    6.102559  \n",
       "\n",
       "[2785 rows x 157 columns]"
      ]
     },
     "execution_count": 6,
     "metadata": {},
     "output_type": "execute_result"
    }
   ],
   "source": [
    "ROSMAPFrame"
   ]
  },
  {
   "cell_type": "code",
   "execution_count": 7,
   "id": "7cb8c19a",
   "metadata": {},
   "outputs": [
    {
     "data": {
      "text/html": [
       "<div>\n",
       "<style scoped>\n",
       "    .dataframe tbody tr th:only-of-type {\n",
       "        vertical-align: middle;\n",
       "    }\n",
       "\n",
       "    .dataframe tbody tr th {\n",
       "        vertical-align: top;\n",
       "    }\n",
       "\n",
       "    .dataframe thead th {\n",
       "        text-align: right;\n",
       "    }\n",
       "</style>\n",
       "<table border=\"1\" class=\"dataframe\">\n",
       "  <thead>\n",
       "    <tr style=\"text-align: right;\">\n",
       "      <th></th>\n",
       "      <th>DCR00001_1</th>\n",
       "      <th>DCR00004_1</th>\n",
       "      <th>DCR00009_1</th>\n",
       "      <th>DCR00013_1</th>\n",
       "      <th>DCR00014_1</th>\n",
       "      <th>DCR00015_1</th>\n",
       "      <th>DCR00018_1</th>\n",
       "      <th>DCR00020_1</th>\n",
       "      <th>DCR00021_1</th>\n",
       "      <th>DCR00025_1</th>\n",
       "      <th>...</th>\n",
       "      <th>TLSMCI602_1</th>\n",
       "      <th>TLSMCI603_1</th>\n",
       "      <th>TLSMCI604_1</th>\n",
       "      <th>TLSMCI605_1</th>\n",
       "      <th>TLSMCI606_1</th>\n",
       "      <th>TLSMCI607_1</th>\n",
       "      <th>TLSMCI608_1</th>\n",
       "      <th>TLSMCI609_1</th>\n",
       "      <th>TLSMCI611_1</th>\n",
       "      <th>TLSMCI612_1</th>\n",
       "    </tr>\n",
       "  </thead>\n",
       "  <tbody>\n",
       "    <tr>\n",
       "      <th>PDCD4</th>\n",
       "      <td>9.666724</td>\n",
       "      <td>9.489170</td>\n",
       "      <td>9.456045</td>\n",
       "      <td>9.719077</td>\n",
       "      <td>9.707032</td>\n",
       "      <td>9.501511</td>\n",
       "      <td>9.669455</td>\n",
       "      <td>9.900310</td>\n",
       "      <td>9.873016</td>\n",
       "      <td>10.037292</td>\n",
       "      <td>...</td>\n",
       "      <td>10.806184</td>\n",
       "      <td>10.917969</td>\n",
       "      <td>10.981394</td>\n",
       "      <td>10.797741</td>\n",
       "      <td>10.540448</td>\n",
       "      <td>11.422199</td>\n",
       "      <td>10.638308</td>\n",
       "      <td>9.909283</td>\n",
       "      <td>10.028400</td>\n",
       "      <td>10.809318</td>\n",
       "    </tr>\n",
       "    <tr>\n",
       "      <th>TAPBP</th>\n",
       "      <td>9.802898</td>\n",
       "      <td>9.585494</td>\n",
       "      <td>9.788007</td>\n",
       "      <td>10.186495</td>\n",
       "      <td>9.988576</td>\n",
       "      <td>9.484389</td>\n",
       "      <td>9.321027</td>\n",
       "      <td>9.885931</td>\n",
       "      <td>9.452979</td>\n",
       "      <td>10.097645</td>\n",
       "      <td>...</td>\n",
       "      <td>12.296335</td>\n",
       "      <td>12.311713</td>\n",
       "      <td>12.164747</td>\n",
       "      <td>12.247327</td>\n",
       "      <td>12.039702</td>\n",
       "      <td>11.675367</td>\n",
       "      <td>12.225795</td>\n",
       "      <td>9.536540</td>\n",
       "      <td>9.997186</td>\n",
       "      <td>12.218359</td>\n",
       "    </tr>\n",
       "    <tr>\n",
       "      <th>SH2D3C</th>\n",
       "      <td>8.155350</td>\n",
       "      <td>8.112471</td>\n",
       "      <td>8.186673</td>\n",
       "      <td>8.294352</td>\n",
       "      <td>8.264717</td>\n",
       "      <td>8.321705</td>\n",
       "      <td>8.315589</td>\n",
       "      <td>8.091578</td>\n",
       "      <td>8.485724</td>\n",
       "      <td>8.394500</td>\n",
       "      <td>...</td>\n",
       "      <td>10.857382</td>\n",
       "      <td>11.275413</td>\n",
       "      <td>10.854380</td>\n",
       "      <td>10.755587</td>\n",
       "      <td>10.729418</td>\n",
       "      <td>10.533654</td>\n",
       "      <td>11.036596</td>\n",
       "      <td>8.185351</td>\n",
       "      <td>8.575757</td>\n",
       "      <td>11.097175</td>\n",
       "    </tr>\n",
       "    <tr>\n",
       "      <th>ADAT1</th>\n",
       "      <td>6.983868</td>\n",
       "      <td>6.723652</td>\n",
       "      <td>7.025120</td>\n",
       "      <td>6.904492</td>\n",
       "      <td>7.231316</td>\n",
       "      <td>6.275629</td>\n",
       "      <td>6.530243</td>\n",
       "      <td>6.666324</td>\n",
       "      <td>6.704142</td>\n",
       "      <td>7.225351</td>\n",
       "      <td>...</td>\n",
       "      <td>8.701606</td>\n",
       "      <td>8.877474</td>\n",
       "      <td>8.692814</td>\n",
       "      <td>8.954537</td>\n",
       "      <td>8.791807</td>\n",
       "      <td>8.336717</td>\n",
       "      <td>8.708600</td>\n",
       "      <td>6.547596</td>\n",
       "      <td>7.082892</td>\n",
       "      <td>8.429439</td>\n",
       "    </tr>\n",
       "    <tr>\n",
       "      <th>SERINC3</th>\n",
       "      <td>8.777196</td>\n",
       "      <td>8.508892</td>\n",
       "      <td>8.225063</td>\n",
       "      <td>8.591892</td>\n",
       "      <td>8.857465</td>\n",
       "      <td>8.452497</td>\n",
       "      <td>8.278887</td>\n",
       "      <td>8.471589</td>\n",
       "      <td>8.473399</td>\n",
       "      <td>8.341000</td>\n",
       "      <td>...</td>\n",
       "      <td>10.688867</td>\n",
       "      <td>10.477657</td>\n",
       "      <td>10.242423</td>\n",
       "      <td>10.508763</td>\n",
       "      <td>9.928667</td>\n",
       "      <td>10.182840</td>\n",
       "      <td>10.605249</td>\n",
       "      <td>8.231788</td>\n",
       "      <td>8.736326</td>\n",
       "      <td>10.743378</td>\n",
       "    </tr>\n",
       "    <tr>\n",
       "      <th>...</th>\n",
       "      <td>...</td>\n",
       "      <td>...</td>\n",
       "      <td>...</td>\n",
       "      <td>...</td>\n",
       "      <td>...</td>\n",
       "      <td>...</td>\n",
       "      <td>...</td>\n",
       "      <td>...</td>\n",
       "      <td>...</td>\n",
       "      <td>...</td>\n",
       "      <td>...</td>\n",
       "      <td>...</td>\n",
       "      <td>...</td>\n",
       "      <td>...</td>\n",
       "      <td>...</td>\n",
       "      <td>...</td>\n",
       "      <td>...</td>\n",
       "      <td>...</td>\n",
       "      <td>...</td>\n",
       "      <td>...</td>\n",
       "      <td>...</td>\n",
       "    </tr>\n",
       "    <tr>\n",
       "      <th>RRAS</th>\n",
       "      <td>6.735914</td>\n",
       "      <td>7.007327</td>\n",
       "      <td>6.653804</td>\n",
       "      <td>6.675457</td>\n",
       "      <td>6.656387</td>\n",
       "      <td>6.759820</td>\n",
       "      <td>7.185844</td>\n",
       "      <td>7.001453</td>\n",
       "      <td>6.623266</td>\n",
       "      <td>6.346754</td>\n",
       "      <td>...</td>\n",
       "      <td>8.934505</td>\n",
       "      <td>8.826179</td>\n",
       "      <td>8.997185</td>\n",
       "      <td>9.279064</td>\n",
       "      <td>9.261760</td>\n",
       "      <td>8.877437</td>\n",
       "      <td>8.235489</td>\n",
       "      <td>6.531499</td>\n",
       "      <td>6.778742</td>\n",
       "      <td>9.038030</td>\n",
       "    </tr>\n",
       "    <tr>\n",
       "      <th>NDUFAF3</th>\n",
       "      <td>9.925172</td>\n",
       "      <td>9.416198</td>\n",
       "      <td>9.648668</td>\n",
       "      <td>9.767938</td>\n",
       "      <td>10.020697</td>\n",
       "      <td>9.758066</td>\n",
       "      <td>10.033777</td>\n",
       "      <td>9.920710</td>\n",
       "      <td>9.970285</td>\n",
       "      <td>9.391729</td>\n",
       "      <td>...</td>\n",
       "      <td>11.230427</td>\n",
       "      <td>11.332477</td>\n",
       "      <td>11.116741</td>\n",
       "      <td>11.260328</td>\n",
       "      <td>11.410548</td>\n",
       "      <td>11.321582</td>\n",
       "      <td>10.993751</td>\n",
       "      <td>9.974317</td>\n",
       "      <td>10.043242</td>\n",
       "      <td>11.289128</td>\n",
       "    </tr>\n",
       "    <tr>\n",
       "      <th>NUDT5</th>\n",
       "      <td>7.435803</td>\n",
       "      <td>7.375122</td>\n",
       "      <td>7.929059</td>\n",
       "      <td>7.544095</td>\n",
       "      <td>7.411956</td>\n",
       "      <td>7.554349</td>\n",
       "      <td>7.830068</td>\n",
       "      <td>7.444933</td>\n",
       "      <td>7.756725</td>\n",
       "      <td>7.242004</td>\n",
       "      <td>...</td>\n",
       "      <td>8.863005</td>\n",
       "      <td>9.227862</td>\n",
       "      <td>9.111104</td>\n",
       "      <td>8.921706</td>\n",
       "      <td>8.918222</td>\n",
       "      <td>8.587799</td>\n",
       "      <td>9.144412</td>\n",
       "      <td>7.561625</td>\n",
       "      <td>7.469832</td>\n",
       "      <td>8.575904</td>\n",
       "    </tr>\n",
       "    <tr>\n",
       "      <th>B3GALT4</th>\n",
       "      <td>7.027055</td>\n",
       "      <td>5.953712</td>\n",
       "      <td>6.256543</td>\n",
       "      <td>6.696325</td>\n",
       "      <td>6.617007</td>\n",
       "      <td>6.352697</td>\n",
       "      <td>6.210020</td>\n",
       "      <td>6.370031</td>\n",
       "      <td>6.244541</td>\n",
       "      <td>6.460623</td>\n",
       "      <td>...</td>\n",
       "      <td>8.303973</td>\n",
       "      <td>8.225434</td>\n",
       "      <td>8.015621</td>\n",
       "      <td>8.369483</td>\n",
       "      <td>8.769124</td>\n",
       "      <td>8.255490</td>\n",
       "      <td>8.727461</td>\n",
       "      <td>5.917983</td>\n",
       "      <td>6.432554</td>\n",
       "      <td>8.855276</td>\n",
       "    </tr>\n",
       "    <tr>\n",
       "      <th>PSMB2</th>\n",
       "      <td>8.016712</td>\n",
       "      <td>7.622965</td>\n",
       "      <td>8.035463</td>\n",
       "      <td>8.224876</td>\n",
       "      <td>7.804817</td>\n",
       "      <td>8.007592</td>\n",
       "      <td>7.761597</td>\n",
       "      <td>8.009156</td>\n",
       "      <td>7.911892</td>\n",
       "      <td>7.840634</td>\n",
       "      <td>...</td>\n",
       "      <td>9.265254</td>\n",
       "      <td>9.493301</td>\n",
       "      <td>9.654719</td>\n",
       "      <td>9.707278</td>\n",
       "      <td>9.621530</td>\n",
       "      <td>9.385209</td>\n",
       "      <td>9.207499</td>\n",
       "      <td>7.965658</td>\n",
       "      <td>8.158484</td>\n",
       "      <td>9.634662</td>\n",
       "    </tr>\n",
       "  </tbody>\n",
       "</table>\n",
       "<p>2785 rows × 691 columns</p>\n",
       "</div>"
      ],
      "text/plain": [
       "         DCR00001_1  DCR00004_1  DCR00009_1  DCR00013_1  DCR00014_1  \\\n",
       "PDCD4      9.666724    9.489170    9.456045    9.719077    9.707032   \n",
       "TAPBP      9.802898    9.585494    9.788007   10.186495    9.988576   \n",
       "SH2D3C     8.155350    8.112471    8.186673    8.294352    8.264717   \n",
       "ADAT1      6.983868    6.723652    7.025120    6.904492    7.231316   \n",
       "SERINC3    8.777196    8.508892    8.225063    8.591892    8.857465   \n",
       "...             ...         ...         ...         ...         ...   \n",
       "RRAS       6.735914    7.007327    6.653804    6.675457    6.656387   \n",
       "NDUFAF3    9.925172    9.416198    9.648668    9.767938   10.020697   \n",
       "NUDT5      7.435803    7.375122    7.929059    7.544095    7.411956   \n",
       "B3GALT4    7.027055    5.953712    6.256543    6.696325    6.617007   \n",
       "PSMB2      8.016712    7.622965    8.035463    8.224876    7.804817   \n",
       "\n",
       "         DCR00015_1  DCR00018_1  DCR00020_1  DCR00021_1  DCR00025_1  ...  \\\n",
       "PDCD4      9.501511    9.669455    9.900310    9.873016   10.037292  ...   \n",
       "TAPBP      9.484389    9.321027    9.885931    9.452979   10.097645  ...   \n",
       "SH2D3C     8.321705    8.315589    8.091578    8.485724    8.394500  ...   \n",
       "ADAT1      6.275629    6.530243    6.666324    6.704142    7.225351  ...   \n",
       "SERINC3    8.452497    8.278887    8.471589    8.473399    8.341000  ...   \n",
       "...             ...         ...         ...         ...         ...  ...   \n",
       "RRAS       6.759820    7.185844    7.001453    6.623266    6.346754  ...   \n",
       "NDUFAF3    9.758066   10.033777    9.920710    9.970285    9.391729  ...   \n",
       "NUDT5      7.554349    7.830068    7.444933    7.756725    7.242004  ...   \n",
       "B3GALT4    6.352697    6.210020    6.370031    6.244541    6.460623  ...   \n",
       "PSMB2      8.007592    7.761597    8.009156    7.911892    7.840634  ...   \n",
       "\n",
       "         TLSMCI602_1  TLSMCI603_1  TLSMCI604_1  TLSMCI605_1  TLSMCI606_1  \\\n",
       "PDCD4      10.806184    10.917969    10.981394    10.797741    10.540448   \n",
       "TAPBP      12.296335    12.311713    12.164747    12.247327    12.039702   \n",
       "SH2D3C     10.857382    11.275413    10.854380    10.755587    10.729418   \n",
       "ADAT1       8.701606     8.877474     8.692814     8.954537     8.791807   \n",
       "SERINC3    10.688867    10.477657    10.242423    10.508763     9.928667   \n",
       "...              ...          ...          ...          ...          ...   \n",
       "RRAS        8.934505     8.826179     8.997185     9.279064     9.261760   \n",
       "NDUFAF3    11.230427    11.332477    11.116741    11.260328    11.410548   \n",
       "NUDT5       8.863005     9.227862     9.111104     8.921706     8.918222   \n",
       "B3GALT4     8.303973     8.225434     8.015621     8.369483     8.769124   \n",
       "PSMB2       9.265254     9.493301     9.654719     9.707278     9.621530   \n",
       "\n",
       "         TLSMCI607_1  TLSMCI608_1  TLSMCI609_1  TLSMCI611_1  TLSMCI612_1  \n",
       "PDCD4      11.422199    10.638308     9.909283    10.028400    10.809318  \n",
       "TAPBP      11.675367    12.225795     9.536540     9.997186    12.218359  \n",
       "SH2D3C     10.533654    11.036596     8.185351     8.575757    11.097175  \n",
       "ADAT1       8.336717     8.708600     6.547596     7.082892     8.429439  \n",
       "SERINC3    10.182840    10.605249     8.231788     8.736326    10.743378  \n",
       "...              ...          ...          ...          ...          ...  \n",
       "RRAS        8.877437     8.235489     6.531499     6.778742     9.038030  \n",
       "NDUFAF3    11.321582    10.993751     9.974317    10.043242    11.289128  \n",
       "NUDT5       8.587799     9.144412     7.561625     7.469832     8.575904  \n",
       "B3GALT4     8.255490     8.727461     5.917983     6.432554     8.855276  \n",
       "PSMB2       9.385209     9.207499     7.965658     8.158484     9.634662  \n",
       "\n",
       "[2785 rows x 691 columns]"
      ]
     },
     "execution_count": 7,
     "metadata": {},
     "output_type": "execute_result"
    }
   ],
   "source": [
    "ANMergeFrame"
   ]
  },
  {
   "cell_type": "markdown",
   "id": "cf64417e",
   "metadata": {},
   "source": [
    "## 1.2 Read in labels"
   ]
  },
  {
   "cell_type": "code",
   "execution_count": 8,
   "id": "2033dab8",
   "metadata": {},
   "outputs": [],
   "source": [
    "# read in label\n",
    "ROSMAP_Info = pd.read_csv(\"../../../Data/ROSMAP_blood_clinical_monocyte_ACTL_04172023.csv\",header=0, index_col=0)\n",
    "\n",
    "# read in label\n",
    "ANMerge_Info = pd.read_csv(\"../../../Data/ANMerge_blood_rna_clinical_processed_XH_10112023.csv\",header=0, index_col=0)\n",
    "    "
   ]
  },
  {
   "cell_type": "code",
   "execution_count": 9,
   "id": "d12087d4",
   "metadata": {},
   "outputs": [
    {
     "data": {
      "text/html": [
       "<div>\n",
       "<style scoped>\n",
       "    .dataframe tbody tr th:only-of-type {\n",
       "        vertical-align: middle;\n",
       "    }\n",
       "\n",
       "    .dataframe tbody tr th {\n",
       "        vertical-align: top;\n",
       "    }\n",
       "\n",
       "    .dataframe thead th {\n",
       "        text-align: right;\n",
       "    }\n",
       "</style>\n",
       "<table border=\"1\" class=\"dataframe\">\n",
       "  <thead>\n",
       "    <tr style=\"text-align: right;\">\n",
       "      <th></th>\n",
       "      <th>Visit</th>\n",
       "      <th>Month</th>\n",
       "      <th>Site</th>\n",
       "      <th>Diagnosis</th>\n",
       "      <th>Sex</th>\n",
       "      <th>Age</th>\n",
       "      <th>APOE</th>\n",
       "      <th>MMSE</th>\n",
       "      <th>Gexp_batch</th>\n",
       "    </tr>\n",
       "  </thead>\n",
       "  <tbody>\n",
       "    <tr>\n",
       "      <th>DCR00001_1</th>\n",
       "      <td>1</td>\n",
       "      <td>0</td>\n",
       "      <td>DCR</td>\n",
       "      <td>AD</td>\n",
       "      <td>Female</td>\n",
       "      <td>80.0</td>\n",
       "      <td>E3E4</td>\n",
       "      <td>21.0</td>\n",
       "      <td>2</td>\n",
       "    </tr>\n",
       "    <tr>\n",
       "      <th>DCR00004_1</th>\n",
       "      <td>1</td>\n",
       "      <td>0</td>\n",
       "      <td>DCR</td>\n",
       "      <td>MCI</td>\n",
       "      <td>Male</td>\n",
       "      <td>78.0</td>\n",
       "      <td>E4E4</td>\n",
       "      <td>27.0</td>\n",
       "      <td>2</td>\n",
       "    </tr>\n",
       "    <tr>\n",
       "      <th>DCR00009_1</th>\n",
       "      <td>1</td>\n",
       "      <td>0</td>\n",
       "      <td>DCR</td>\n",
       "      <td>CTL</td>\n",
       "      <td>Female</td>\n",
       "      <td>69.0</td>\n",
       "      <td>E3E3</td>\n",
       "      <td>30.0</td>\n",
       "      <td>2</td>\n",
       "    </tr>\n",
       "    <tr>\n",
       "      <th>DCR00013_1</th>\n",
       "      <td>1</td>\n",
       "      <td>0</td>\n",
       "      <td>DCR</td>\n",
       "      <td>CTL</td>\n",
       "      <td>Male</td>\n",
       "      <td>82.0</td>\n",
       "      <td>E3E3</td>\n",
       "      <td>30.0</td>\n",
       "      <td>2</td>\n",
       "    </tr>\n",
       "    <tr>\n",
       "      <th>DCR00014_1</th>\n",
       "      <td>1</td>\n",
       "      <td>0</td>\n",
       "      <td>DCR</td>\n",
       "      <td>CTL</td>\n",
       "      <td>Female</td>\n",
       "      <td>75.0</td>\n",
       "      <td>E2E3</td>\n",
       "      <td>30.0</td>\n",
       "      <td>2</td>\n",
       "    </tr>\n",
       "    <tr>\n",
       "      <th>...</th>\n",
       "      <td>...</td>\n",
       "      <td>...</td>\n",
       "      <td>...</td>\n",
       "      <td>...</td>\n",
       "      <td>...</td>\n",
       "      <td>...</td>\n",
       "      <td>...</td>\n",
       "      <td>...</td>\n",
       "      <td>...</td>\n",
       "    </tr>\n",
       "    <tr>\n",
       "      <th>TLSMCI607_1</th>\n",
       "      <td>1</td>\n",
       "      <td>0</td>\n",
       "      <td>Toulouse</td>\n",
       "      <td>MCI</td>\n",
       "      <td>Female</td>\n",
       "      <td>72.0</td>\n",
       "      <td>E3E3</td>\n",
       "      <td>29.0</td>\n",
       "      <td>1</td>\n",
       "    </tr>\n",
       "    <tr>\n",
       "      <th>TLSMCI608_1</th>\n",
       "      <td>1</td>\n",
       "      <td>0</td>\n",
       "      <td>Toulouse</td>\n",
       "      <td>MCI</td>\n",
       "      <td>Male</td>\n",
       "      <td>73.0</td>\n",
       "      <td>E3E3</td>\n",
       "      <td>28.0</td>\n",
       "      <td>1</td>\n",
       "    </tr>\n",
       "    <tr>\n",
       "      <th>TLSMCI609_1</th>\n",
       "      <td>1</td>\n",
       "      <td>0</td>\n",
       "      <td>Toulouse</td>\n",
       "      <td>MCI</td>\n",
       "      <td>Female</td>\n",
       "      <td>63.0</td>\n",
       "      <td>E3E3</td>\n",
       "      <td>28.0</td>\n",
       "      <td>2</td>\n",
       "    </tr>\n",
       "    <tr>\n",
       "      <th>TLSMCI611_1</th>\n",
       "      <td>1</td>\n",
       "      <td>0</td>\n",
       "      <td>Toulouse</td>\n",
       "      <td>MCI</td>\n",
       "      <td>Female</td>\n",
       "      <td>78.0</td>\n",
       "      <td>E3E3</td>\n",
       "      <td>30.0</td>\n",
       "      <td>2</td>\n",
       "    </tr>\n",
       "    <tr>\n",
       "      <th>TLSMCI612_1</th>\n",
       "      <td>1</td>\n",
       "      <td>0</td>\n",
       "      <td>Toulouse</td>\n",
       "      <td>MCI</td>\n",
       "      <td>Female</td>\n",
       "      <td>79.0</td>\n",
       "      <td>E3E3</td>\n",
       "      <td>28.0</td>\n",
       "      <td>1</td>\n",
       "    </tr>\n",
       "  </tbody>\n",
       "</table>\n",
       "<p>691 rows × 9 columns</p>\n",
       "</div>"
      ],
      "text/plain": [
       "             Visit  Month      Site Diagnosis     Sex   Age  APOE  MMSE  \\\n",
       "DCR00001_1       1      0       DCR        AD  Female  80.0  E3E4  21.0   \n",
       "DCR00004_1       1      0       DCR       MCI    Male  78.0  E4E4  27.0   \n",
       "DCR00009_1       1      0       DCR       CTL  Female  69.0  E3E3  30.0   \n",
       "DCR00013_1       1      0       DCR       CTL    Male  82.0  E3E3  30.0   \n",
       "DCR00014_1       1      0       DCR       CTL  Female  75.0  E2E3  30.0   \n",
       "...            ...    ...       ...       ...     ...   ...   ...   ...   \n",
       "TLSMCI607_1      1      0  Toulouse       MCI  Female  72.0  E3E3  29.0   \n",
       "TLSMCI608_1      1      0  Toulouse       MCI    Male  73.0  E3E3  28.0   \n",
       "TLSMCI609_1      1      0  Toulouse       MCI  Female  63.0  E3E3  28.0   \n",
       "TLSMCI611_1      1      0  Toulouse       MCI  Female  78.0  E3E3  30.0   \n",
       "TLSMCI612_1      1      0  Toulouse       MCI  Female  79.0  E3E3  28.0   \n",
       "\n",
       "             Gexp_batch  \n",
       "DCR00001_1            2  \n",
       "DCR00004_1            2  \n",
       "DCR00009_1            2  \n",
       "DCR00013_1            2  \n",
       "DCR00014_1            2  \n",
       "...                 ...  \n",
       "TLSMCI607_1           1  \n",
       "TLSMCI608_1           1  \n",
       "TLSMCI609_1           2  \n",
       "TLSMCI611_1           2  \n",
       "TLSMCI612_1           1  \n",
       "\n",
       "[691 rows x 9 columns]"
      ]
     },
     "execution_count": 9,
     "metadata": {},
     "output_type": "execute_result"
    }
   ],
   "source": [
    "ANMerge_Info"
   ]
  },
  {
   "cell_type": "code",
   "execution_count": 10,
   "id": "9709654f",
   "metadata": {
    "tags": []
   },
   "outputs": [],
   "source": [
    "import collections\n",
    "\n",
    "ROSMAP_SID = list(ROSMAP_Info.loc[:,'specimenID'])\n",
    "ROSMAP_Class = list(ROSMAP_Info.loc[:,'Group2'])\n",
    "Mapping = {'Control': 0, 'Typical.AD': 1, 'Asym.AD': 2, 'LowNFT.AD': 3}\n",
    "DigitClass = list()\n",
    "for i in range(len(ROSMAP_SID)):\n",
    "    tmp = Mapping[ROSMAP_Class[i]]\n",
    "    DigitClass.append(tmp)\n",
    "\n",
    "\n",
    "ANMerge_SID = list(ANMerge_Info.index.values)\n",
    "ANMerge_Class = list(ANMerge_Info.loc[:,'Diagnosis'])\n",
    "ANMerge_Batch = list(ANMerge_Info.loc[:,'Gexp_batch'])\n",
    "Mapping = {'CTL': 0, 'AD': 1, 'MCI': 2}\n",
    "Mapping_SID_Class = {}\n",
    "Mapping_SID_Batch = {}\n",
    "Batch1_SID = list()\n",
    "Batch2_SID = list()\n",
    "for i in range(len(ANMerge_SID)):\n",
    "    Mapping_SID_Class[ANMerge_SID[i]] = ANMerge_Class[i]\n",
    "    Mapping_SID_Batch[ANMerge_SID[i]] = ANMerge_Batch[i]\n",
    "    if ANMerge_Batch[i] == 1:\n",
    "        Batch1_SID.append(ANMerge_SID[i])\n",
    "    else:\n",
    "        Batch2_SID.append(ANMerge_SID[i])\n",
    "\n",
    "# used in section 3.1\n",
    "y_true = np.zeros(len(ANMergeSampleID))\n",
    "for i in range(len(ANMergeSampleID)):\n",
    "    y_true[i] = Mapping[Mapping_SID_Class[ANMergeSampleID[i]]]\n"
   ]
  },
  {
   "cell_type": "code",
   "execution_count": 11,
   "id": "6e84ee6b",
   "metadata": {
    "tags": []
   },
   "outputs": [
    {
     "data": {
      "text/plain": [
       "array([1., 2., 0., 0., 0., 0., 0., 1., 1., 1., 1., 1., 1., 1., 2., 0., 1.,\n",
       "       0., 0., 0., 1., 0., 0., 0., 1., 0., 0., 0., 1., 0., 1., 0., 0., 2.,\n",
       "       0., 0., 0., 1., 0., 0., 0., 1., 2., 1., 0., 0., 0., 1., 1., 2., 1.,\n",
       "       0., 0., 0., 0., 1., 0., 1., 2., 0., 1., 0., 2., 0., 2., 0., 0., 0.,\n",
       "       0., 0., 2., 1., 0., 0., 0., 2., 0., 0., 0., 2., 0., 0., 0., 0., 1.,\n",
       "       0., 0., 1., 0., 0., 0., 0., 1., 0., 1., 1., 2., 1., 0., 2., 0., 2.,\n",
       "       2., 2., 2., 2., 2., 2., 2., 2., 2., 0., 2., 2., 1., 1., 1., 1., 1.,\n",
       "       1., 1., 1., 1., 1., 1., 1., 1., 1., 1., 1., 1., 1., 1., 1., 1., 1.,\n",
       "       1., 1., 1., 1., 1., 1., 1., 1., 1., 1., 1., 1., 1., 1., 1., 1., 1.,\n",
       "       1., 1., 1., 1., 1., 1., 0., 0., 0., 0., 0., 0., 0., 0., 0., 0., 0.,\n",
       "       0., 0., 0., 0., 0., 0., 0., 0., 0., 0., 0., 0., 0., 0., 0., 0., 0.,\n",
       "       0., 0., 0., 0., 0., 0., 0., 0., 0., 0., 0., 0., 0., 0., 0., 0., 0.,\n",
       "       2., 2., 2., 2., 2., 2., 2., 2., 2., 2., 2., 2., 2., 2., 2., 2., 2.,\n",
       "       2., 2., 2., 2., 2., 2., 2., 2., 2., 2., 2., 2., 2., 2., 2., 2., 2.,\n",
       "       2., 2., 2., 2., 2., 2., 2., 2., 2., 2., 2., 2., 2., 1., 1., 1., 1.,\n",
       "       1., 1., 1., 1., 1., 1., 1., 1., 1., 1., 1., 1., 1., 1., 1., 1., 1.,\n",
       "       1., 1., 1., 1., 1., 1., 1., 1., 1., 1., 1., 1., 1., 1., 1., 1., 1.,\n",
       "       1., 0., 0., 0., 0., 0., 0., 0., 0., 0., 0., 0., 0., 0., 0., 0., 0.,\n",
       "       0., 0., 0., 0., 0., 0., 0., 0., 0., 2., 2., 2., 2., 2., 2., 2., 2.,\n",
       "       2., 2., 2., 2., 2., 2., 2., 2., 2., 2., 2., 2., 2., 2., 2., 2., 1.,\n",
       "       1., 1., 1., 1., 1., 1., 1., 1., 1., 1., 1., 1., 1., 1., 1., 1., 1.,\n",
       "       1., 1., 1., 0., 0., 0., 0., 0., 0., 0., 0., 0., 0., 0., 0., 0., 0.,\n",
       "       0., 0., 0., 0., 0., 0., 0., 0., 0., 0., 0., 0., 0., 0., 0., 0., 0.,\n",
       "       0., 0., 0., 0., 0., 0., 0., 0., 0., 0., 2., 2., 2., 2., 2., 2., 2.,\n",
       "       2., 2., 2., 2., 2., 2., 2., 2., 2., 2., 2., 2., 2., 2., 2., 2., 2.,\n",
       "       0., 0., 2., 2., 2., 2., 2., 2., 1., 1., 1., 1., 1., 1., 1., 1., 1.,\n",
       "       1., 1., 1., 1., 1., 1., 1., 1., 1., 1., 1., 1., 1., 1., 1., 1., 1.,\n",
       "       1., 1., 1., 1., 1., 1., 1., 1., 1., 1., 1., 1., 1., 1., 1., 1., 1.,\n",
       "       1., 1., 1., 1., 1., 1., 0., 0., 0., 0., 0., 0., 0., 0., 0., 0., 0.,\n",
       "       0., 0., 0., 0., 0., 0., 0., 0., 0., 0., 0., 0., 0., 0., 0., 0., 0.,\n",
       "       0., 0., 0., 0., 0., 0., 0., 0., 0., 0., 0., 0., 0., 0., 0., 0., 0.,\n",
       "       0., 2., 2., 2., 2., 2., 2., 2., 2., 2., 2., 2., 2., 2., 2., 2., 2.,\n",
       "       2., 2., 2., 2., 2., 2., 2., 2., 2., 2., 2., 2., 2., 2., 2., 2., 2.,\n",
       "       2., 2., 2., 2., 2., 2., 2., 2., 2., 2., 2., 2., 2., 2., 2., 2., 2.,\n",
       "       2., 1., 1., 1., 1., 1., 1., 1., 1., 1., 1., 1., 1., 1., 1., 1., 1.,\n",
       "       1., 1., 1., 1., 1., 1., 1., 1., 1., 0., 0., 0., 0., 0., 0., 0., 0.,\n",
       "       0., 0., 0., 2., 2., 2., 2., 2., 2., 2., 2., 2., 2., 2., 2., 2., 2.,\n",
       "       2., 2., 2., 2., 2., 2., 2., 2., 2., 2., 2., 2., 2., 2., 2., 2., 2.,\n",
       "       1., 1., 1., 1., 1., 1., 1., 1., 1., 1., 1., 1., 1., 1., 1., 0., 0.,\n",
       "       0., 0., 0., 0., 0., 0., 0., 0., 0., 0., 0., 0., 0., 0., 0., 0., 0.,\n",
       "       2., 2., 2., 2., 2., 2., 2., 2., 2., 2., 2.])"
      ]
     },
     "execution_count": 11,
     "metadata": {},
     "output_type": "execute_result"
    }
   ],
   "source": [
    "y_true"
   ]
  },
  {
   "cell_type": "code",
   "execution_count": null,
   "id": "25494029-9b57-4327-b0a6-c5bd4f36a876",
   "metadata": {},
   "outputs": [],
   "source": []
  },
  {
   "cell_type": "markdown",
   "id": "9b1f0a42-176e-4fb4-92a7-16bc2862da74",
   "metadata": {},
   "source": [
    "# 2. Run SCOT on ROSMAP and ANMerge Batch 1"
   ]
  },
  {
   "cell_type": "code",
   "execution_count": 12,
   "id": "d4cc6612-e265-4353-949a-1adc555e7208",
   "metadata": {
    "tags": []
   },
   "outputs": [],
   "source": [
    "ANMergeFrame_B1 = ANMergeFrame.loc[:, Batch1_SID]"
   ]
  },
  {
   "cell_type": "code",
   "execution_count": 13,
   "id": "44f00e86-dcd4-4296-a7e4-d0dddf074a7b",
   "metadata": {
    "tags": []
   },
   "outputs": [],
   "source": [
    "ROSMAP_T = ROSMAPFrame.values.T\n",
    "ANMerge_T = ANMergeFrame_B1.values.T"
   ]
  },
  {
   "cell_type": "code",
   "execution_count": 14,
   "id": "fed3db0a-3a1b-4d54-80df-8a817f563c32",
   "metadata": {
    "tags": []
   },
   "outputs": [
    {
     "name": "stdout",
     "output_type": "stream",
     "text": [
      "0.9043623335318404\n",
      "(157, 25)\n",
      "0.8327727155961041\n",
      "(341, 50)\n"
     ]
    }
   ],
   "source": [
    "from sklearn.decomposition import PCA\n",
    "# PCA\n",
    "pca = PCA(n_components=25)\n",
    "pca.fit(ROSMAP_T)\n",
    "print(np.sum(pca.explained_variance_ratio_))\n",
    "ROSMAP_PCA = pca.fit_transform(ROSMAP_T)\n",
    "print(np.shape(ROSMAP_PCA))\n",
    "\n",
    "pca = PCA(n_components=50)\n",
    "pca.fit(ANMerge_T)\n",
    "print(np.sum(pca.explained_variance_ratio_))\n",
    "ANMerge_PCA = pca.fit_transform(ANMerge_T)\n",
    "print(np.shape(ANMerge_PCA))"
   ]
  },
  {
   "cell_type": "code",
   "execution_count": 15,
   "id": "16a3def1-4fd4-436f-bb51-bcdc1e6c57d1",
   "metadata": {
    "tags": []
   },
   "outputs": [],
   "source": [
    "ROSMAP = ROSMAP_T#ROSMAP_PCA#ROSMAPFrame.values.T\n",
    "ANMerge = ANMerge_T#ANMerge_PCA#ANMergeFrame.values.T\n",
    "\n",
    "IndR = np.tile(np.arange(157), 5)\n",
    "ROSMAP = ROSMAP[IndR[0:len(Batch1_SID)],:]"
   ]
  },
  {
   "cell_type": "code",
   "execution_count": 16,
   "id": "b9e06ff3-0c8c-462d-a931-ec01e5857b7a",
   "metadata": {
    "tags": []
   },
   "outputs": [
    {
     "data": {
      "text/plain": [
       "((341, 2785), (341, 2785))"
      ]
     },
     "execution_count": 16,
     "metadata": {},
     "output_type": "execute_result"
    }
   ],
   "source": [
    "np.shape(ROSMAP), np.shape(ANMerge)"
   ]
  },
  {
   "cell_type": "code",
   "execution_count": 17,
   "id": "cf01d8cf-f8f0-4a42-8325-473e1cef92d2",
   "metadata": {
    "tags": []
   },
   "outputs": [],
   "source": [
    "scot=SCOT(ROSMAP, ANMerge)"
   ]
  },
  {
   "cell_type": "code",
   "execution_count": 18,
   "id": "ded0d33a-b3f2-4460-8e3b-f68fa2ceefc0",
   "metadata": {
    "tags": []
   },
   "outputs": [
    {
     "name": "stdout",
     "output_type": "stream",
     "text": [
      "It.  |Err         \n",
      "-------------------\n",
      "    0|5.193770e-03|\n"
     ]
    },
    {
     "name": "stderr",
     "output_type": "stream",
     "text": [
      "/Users/yijwang-admin/anaconda3/lib/python3.10/site-packages/ot/bregman.py:535: UserWarning: Sinkhorn did not converge. You might want to increase the number of iterations `numItermax` or the regularization parameter `reg`.\n",
      "  warnings.warn(\"Sinkhorn did not converge. You might want to \"\n"
     ]
    },
    {
     "name": "stdout",
     "output_type": "stream",
     "text": [
      "   10|1.618000e-03|\n",
      "   20|4.517897e-04|\n",
      "   30|3.121806e-04|\n",
      "   40|1.886289e-04|\n",
      "   50|1.122483e-04|\n",
      "   60|1.057358e-04|\n",
      "   70|1.385888e-04|\n",
      "   80|2.122379e-04|\n",
      "   90|3.696052e-04|\n",
      "  100|2.680669e-04|\n",
      "  110|3.534816e-04|\n",
      "  120|7.959675e-04|\n",
      "  130|3.633704e-04|\n",
      "  140|8.065419e-05|\n",
      "  150|1.705833e-05|\n",
      "  160|5.344734e-06|\n",
      "  170|2.321736e-06|\n",
      "  180|1.093406e-06|\n",
      "  190|5.207142e-07|\n",
      "It.  |Err         \n",
      "-------------------\n",
      "  200|2.482390e-07|\n",
      "  210|1.183340e-07|\n",
      "  220|5.640341e-08|\n",
      "  230|2.688311e-08|\n",
      "  240|1.281280e-08|\n",
      "  250|6.106668e-09|\n",
      "  260|2.910467e-09|\n",
      "  270|1.387139e-09|\n",
      "  280|6.611142e-10|\n"
     ]
    }
   ],
   "source": [
    "ROSMAP_new, ANMerge_new = scot.align(k=40, e=1e-3,  normalize=True, norm=\"l2\")"
   ]
  },
  {
   "cell_type": "code",
   "execution_count": 19,
   "id": "7e706041-a8a8-4774-8e9f-501720190426",
   "metadata": {
    "tags": []
   },
   "outputs": [],
   "source": [
    "ROSMAP_new_ = ROSMAP_new[0:157,:]"
   ]
  },
  {
   "cell_type": "markdown",
   "id": "f3d97f2f-f190-4962-b0e0-de882ce54e24",
   "metadata": {},
   "source": [
    "## 2.1 UMAP"
   ]
  },
  {
   "cell_type": "code",
   "execution_count": 20,
   "id": "636df0c9-4e91-4c80-8236-9ae245d9a97d",
   "metadata": {
    "tags": []
   },
   "outputs": [],
   "source": [
    "import umap\n",
    "import sklearn.datasets\n",
    "import umap.plot"
   ]
  },
  {
   "cell_type": "code",
   "execution_count": 21,
   "id": "8f416d4b-d478-4cce-90fd-d33da8db19e8",
   "metadata": {
    "tags": []
   },
   "outputs": [],
   "source": [
    "# Umap need a matrix obs by features\n",
    "Embed_Stack = np.vstack((ROSMAP_new_,ANMerge_new))\n",
    "\n",
    "# label\n",
    "N_K1 = np.shape(ROSMAP_new_)[0]\n",
    "Label = np.zeros(np.shape(Embed_Stack)[0])\n",
    "Label[N_K1:] = 4\n",
    "Label[0:N_K1] = DigitClass\n",
    "\n",
    "mapper = umap.UMAP().fit(Embed_Stack)"
   ]
  },
  {
   "cell_type": "code",
   "execution_count": 22,
   "id": "6e0d0ae3-0438-41fd-89f5-ae08b4cb9cbc",
   "metadata": {
    "tags": []
   },
   "outputs": [
    {
     "data": {
      "text/plain": [
       "<Axes: >"
      ]
     },
     "execution_count": 22,
     "metadata": {},
     "output_type": "execute_result"
    },
    {
     "data": {
      "image/png": "[encoded data removed]",
      "text/plain": [
       "<Figure size 800x800 with 1 Axes>"
      ]
     },
     "metadata": {},
     "output_type": "display_data"
    }
   ],
   "source": [
    "umap.plot.points(mapper, labels=Label)"
   ]
  },
  {
   "cell_type": "code",
   "execution_count": null,
   "id": "09de0d4f-9e18-4004-96e4-408760e85497",
   "metadata": {},
   "outputs": [],
   "source": []
  },
  {
   "cell_type": "markdown",
   "id": "6533da1a-c980-4285-a271-267d3ad92ef7",
   "metadata": {},
   "source": [
    "## 2.2 KNN"
   ]
  },
  {
   "cell_type": "code",
   "execution_count": 23,
   "id": "1ce892e1-d78e-48ce-b3dd-773db37c9fac",
   "metadata": {
    "tags": []
   },
   "outputs": [
    {
     "data": {
      "text/html": [
       "<style>#sk-container-id-1 {color: black;background-color: white;}#sk-container-id-1 pre{padding: 0;}#sk-container-id-1 div.sk-toggleable {background-color: white;}#sk-container-id-1 label.sk-toggleable__label {cursor: pointer;display: block;width: 100%;margin-bottom: 0;padding: 0.3em;box-sizing: border-box;text-align: center;}#sk-container-id-1 label.sk-toggleable__label-arrow:before {content: \"▸\";float: left;margin-right: 0.25em;color: #696969;}#sk-container-id-1 label.sk-toggleable__label-arrow:hover:before {color: black;}#sk-container-id-1 div.sk-estimator:hover label.sk-toggleable__label-arrow:before {color: black;}#sk-container-id-1 div.sk-toggleable__content {max-height: 0;max-width: 0;overflow: hidden;text-align: left;background-color: #f0f8ff;}#sk-container-id-1 div.sk-toggleable__content pre {margin: 0.2em;color: black;border-radius: 0.25em;background-color: #f0f8ff;}#sk-container-id-1 input.sk-toggleable__control:checked~div.sk-toggleable__content {max-height: 200px;max-width: 100%;overflow: auto;}#sk-container-id-1 input.sk-toggleable__control:checked~label.sk-toggleable__label-arrow:before {content: \"▾\";}#sk-container-id-1 div.sk-estimator input.sk-toggleable__control:checked~label.sk-toggleable__label {background-color: #d4ebff;}#sk-container-id-1 div.sk-label input.sk-toggleable__control:checked~label.sk-toggleable__label {background-color: #d4ebff;}#sk-container-id-1 input.sk-hidden--visually {border: 0;clip: rect(1px 1px 1px 1px);clip: rect(1px, 1px, 1px, 1px);height: 1px;margin: -1px;overflow: hidden;padding: 0;position: absolute;width: 1px;}#sk-container-id-1 div.sk-estimator {font-family: monospace;background-color: #f0f8ff;border: 1px dotted black;border-radius: 0.25em;box-sizing: border-box;margin-bottom: 0.5em;}#sk-container-id-1 div.sk-estimator:hover {background-color: #d4ebff;}#sk-container-id-1 div.sk-parallel-item::after {content: \"\";width: 100%;border-bottom: 1px solid gray;flex-grow: 1;}#sk-container-id-1 div.sk-label:hover label.sk-toggleable__label {background-color: #d4ebff;}#sk-container-id-1 div.sk-serial::before {content: \"\";position: absolute;border-left: 1px solid gray;box-sizing: border-box;top: 0;bottom: 0;left: 50%;z-index: 0;}#sk-container-id-1 div.sk-serial {display: flex;flex-direction: column;align-items: center;background-color: white;padding-right: 0.2em;padding-left: 0.2em;position: relative;}#sk-container-id-1 div.sk-item {position: relative;z-index: 1;}#sk-container-id-1 div.sk-parallel {display: flex;align-items: stretch;justify-content: center;background-color: white;position: relative;}#sk-container-id-1 div.sk-item::before, #sk-container-id-1 div.sk-parallel-item::before {content: \"\";position: absolute;border-left: 1px solid gray;box-sizing: border-box;top: 0;bottom: 0;left: 50%;z-index: -1;}#sk-container-id-1 div.sk-parallel-item {display: flex;flex-direction: column;z-index: 1;position: relative;background-color: white;}#sk-container-id-1 div.sk-parallel-item:first-child::after {align-self: flex-end;width: 50%;}#sk-container-id-1 div.sk-parallel-item:last-child::after {align-self: flex-start;width: 50%;}#sk-container-id-1 div.sk-parallel-item:only-child::after {width: 0;}#sk-container-id-1 div.sk-dashed-wrapped {border: 1px dashed gray;margin: 0 0.4em 0.5em 0.4em;box-sizing: border-box;padding-bottom: 0.4em;background-color: white;}#sk-container-id-1 div.sk-label label {font-family: monospace;font-weight: bold;display: inline-block;line-height: 1.2em;}#sk-container-id-1 div.sk-label-container {text-align: center;}#sk-container-id-1 div.sk-container {/* jupyter's `normalize.less` sets `[hidden] { display: none; }` but bootstrap.min.css set `[hidden] { display: none !important; }` so we also need the `!important` here to be able to override the default hidden behavior on the sphinx rendered scikit-learn.org. See: https://github.com/scikit-learn/scikit-learn/issues/21755 */display: inline-block !important;position: relative;}#sk-container-id-1 div.sk-text-repr-fallback {display: none;}</style><div id=\"sk-container-id-1\" class=\"sk-top-container\"><div class=\"sk-text-repr-fallback\"><pre>KNeighborsClassifier(n_neighbors=1)</pre><b>In a Jupyter environment, please rerun this cell to show the HTML representation or trust the notebook. <br />On GitHub, the HTML representation is unable to render, please try loading this page with nbviewer.org.</b></div><div class=\"sk-container\" hidden><div class=\"sk-item\"><div class=\"sk-estimator sk-toggleable\"><input class=\"sk-toggleable__control sk-hidden--visually\" id=\"sk-estimator-id-1\" type=\"checkbox\" checked><label for=\"sk-estimator-id-1\" class=\"sk-toggleable__label sk-toggleable__label-arrow\">KNeighborsClassifier</label><div class=\"sk-toggleable__content\"><pre>KNeighborsClassifier(n_neighbors=1)</pre></div></div></div></div></div>"
      ],
      "text/plain": [
       "KNeighborsClassifier(n_neighbors=1)"
      ]
     },
     "execution_count": 23,
     "metadata": {},
     "output_type": "execute_result"
    }
   ],
   "source": [
    "from sklearn.neighbors import KNeighborsClassifier\n",
    "\n",
    "ROSMAP_new_ = ROSMAP_new[0:157,:]\n",
    "neigh = KNeighborsClassifier(n_neighbors=1)\n",
    "neigh.fit(ROSMAP_new_,DigitClass)"
   ]
  },
  {
   "cell_type": "code",
   "execution_count": 24,
   "id": "8ff0212c-aeb0-45e6-95c0-1d853d6be6cd",
   "metadata": {
    "tags": []
   },
   "outputs": [],
   "source": [
    "ANMergeSampleID_B1 = list(ANMergeFrame_B1.columns)\n",
    "\n",
    "y_pred = np.zeros(len(ANMergeSampleID_B1))\n",
    "y_pred = -1+y_pred\n",
    "\n",
    "Mapping_SID_PID_B1 = {}\n",
    "for i in range(len(ANMergeSampleID_B1)):\n",
    "    y_pred[i] = neigh.predict([ANMerge_new[i,:]])\n",
    "    Mapping_SID_PID_B1[ANMergeSampleID_B1[i]] = y_pred[i]\n",
    "    "
   ]
  },
  {
   "cell_type": "code",
   "execution_count": null,
   "id": "ea159dc5-5a38-4564-ab5c-ce312e0e51e4",
   "metadata": {},
   "outputs": [],
   "source": []
  },
  {
   "cell_type": "code",
   "execution_count": null,
   "id": "699bb916-7d22-40da-a3ac-f70ef6185121",
   "metadata": {},
   "outputs": [],
   "source": []
  },
  {
   "cell_type": "markdown",
   "id": "c84028f2-57d1-455f-9f86-dcac3efa7119",
   "metadata": {},
   "source": [
    "# 3. Run SCOT on ROSMAP and ANMerge Batch 2"
   ]
  },
  {
   "cell_type": "code",
   "execution_count": 25,
   "id": "c1ce4d33-3998-4384-9d4d-7f813904aa32",
   "metadata": {
    "tags": []
   },
   "outputs": [],
   "source": [
    "ANMergeFrame_B2 = ANMergeFrame.loc[:, Batch2_SID]"
   ]
  },
  {
   "cell_type": "code",
   "execution_count": 26,
   "id": "59ef39a8-e87a-4f1b-8422-891f53d771f7",
   "metadata": {
    "tags": []
   },
   "outputs": [],
   "source": [
    "ROSMAP_T = ROSMAPFrame.values.T\n",
    "ANMerge_T = ANMergeFrame_B2.values.T"
   ]
  },
  {
   "cell_type": "code",
   "execution_count": 27,
   "id": "228e7fe2-b750-4ffa-a134-c7b63607c8f0",
   "metadata": {
    "tags": []
   },
   "outputs": [
    {
     "name": "stdout",
     "output_type": "stream",
     "text": [
      "0.9043709078705724\n",
      "(157, 25)\n",
      "0.7999018634544027\n",
      "(350, 50)\n"
     ]
    }
   ],
   "source": [
    "from sklearn.decomposition import PCA\n",
    "# PCA\n",
    "pca = PCA(n_components=25)\n",
    "pca.fit(ROSMAP_T)\n",
    "print(np.sum(pca.explained_variance_ratio_))\n",
    "ROSMAP_PCA = pca.fit_transform(ROSMAP_T)\n",
    "print(np.shape(ROSMAP_PCA))\n",
    "\n",
    "pca = PCA(n_components=50)\n",
    "pca.fit(ANMerge_T)\n",
    "print(np.sum(pca.explained_variance_ratio_))\n",
    "ANMerge_PCA = pca.fit_transform(ANMerge_T)\n",
    "print(np.shape(ANMerge_PCA))"
   ]
  },
  {
   "cell_type": "code",
   "execution_count": 28,
   "id": "33abe8aa-be93-4169-8564-2dfb057b9969",
   "metadata": {
    "tags": []
   },
   "outputs": [],
   "source": [
    "ROSMAP = ROSMAP_T#ROSMAP_PCA#ROSMAPFrame.values.T\n",
    "ANMerge = ANMerge_T#ANMerge_PCA#ANMergeFrame.values.T\n",
    "\n",
    "IndR = np.tile(np.arange(157), 5)\n",
    "ROSMAP = ROSMAP[IndR[0:len(Batch2_SID)],:]"
   ]
  },
  {
   "cell_type": "code",
   "execution_count": 29,
   "id": "061643c4-cad5-4352-872c-052b30645c70",
   "metadata": {
    "tags": []
   },
   "outputs": [
    {
     "data": {
      "text/plain": [
       "((350, 2785), (350, 2785))"
      ]
     },
     "execution_count": 29,
     "metadata": {},
     "output_type": "execute_result"
    }
   ],
   "source": [
    "np.shape(ROSMAP), np.shape(ANMerge)"
   ]
  },
  {
   "cell_type": "code",
   "execution_count": 30,
   "id": "6a77014b-ae08-49b0-a674-846947d18058",
   "metadata": {
    "tags": []
   },
   "outputs": [],
   "source": [
    "scot=SCOT(ROSMAP, ANMerge)"
   ]
  },
  {
   "cell_type": "code",
   "execution_count": 31,
   "id": "89c0f341-fb60-4d50-be7a-d177937ad85f",
   "metadata": {
    "tags": []
   },
   "outputs": [
    {
     "name": "stderr",
     "output_type": "stream",
     "text": [
      "/Users/yijwang-admin/anaconda3/lib/python3.10/site-packages/ot/bregman.py:535: UserWarning: Sinkhorn did not converge. You might want to increase the number of iterations `numItermax` or the regularization parameter `reg`.\n",
      "  warnings.warn(\"Sinkhorn did not converge. You might want to \"\n"
     ]
    },
    {
     "name": "stdout",
     "output_type": "stream",
     "text": [
      "It.  |Err         \n",
      "-------------------\n",
      "    0|5.151348e-03|\n",
      "   10|1.809740e-03|\n",
      "   20|6.071304e-04|\n",
      "   30|1.813281e-04|\n",
      "   40|9.373849e-05|\n",
      "   50|4.662953e-05|\n",
      "   60|2.407086e-05|\n",
      "   70|1.238547e-05|\n",
      "   80|6.334534e-06|\n",
      "   90|3.232035e-06|\n",
      "  100|1.647235e-06|\n",
      "  110|8.389473e-07|\n",
      "  120|4.270815e-07|\n",
      "  130|2.173467e-07|\n",
      "  140|1.105886e-07|\n",
      "  150|5.626197e-08|\n",
      "  160|2.862115e-08|\n",
      "  170|1.455926e-08|\n",
      "  180|7.405918e-09|\n",
      "  190|3.767131e-09|\n",
      "It.  |Err         \n",
      "-------------------\n",
      "  200|1.916185e-09|\n",
      "  210|9.746769e-10|\n"
     ]
    }
   ],
   "source": [
    "ROSMAP_new, ANMerge_new = scot.align(k=40, e=1e-3,  normalize=True, norm=\"l2\")"
   ]
  },
  {
   "cell_type": "code",
   "execution_count": 32,
   "id": "2930a27c-d3b9-4aaf-932a-5b322cc5e402",
   "metadata": {
    "tags": []
   },
   "outputs": [],
   "source": [
    "ROSMAP_new_ = ROSMAP_new[0:157,:]"
   ]
  },
  {
   "cell_type": "markdown",
   "id": "9274f97e-d8f7-4004-963c-210a00cdc412",
   "metadata": {},
   "source": [
    "## 3.1 UMAP"
   ]
  },
  {
   "cell_type": "code",
   "execution_count": 33,
   "id": "e9a283fd-9493-47f1-8b6f-b941563d6280",
   "metadata": {
    "tags": []
   },
   "outputs": [],
   "source": [
    "import umap\n",
    "import sklearn.datasets\n",
    "import umap.plot"
   ]
  },
  {
   "cell_type": "code",
   "execution_count": 34,
   "id": "a555f0a8-41bd-46ab-8fa7-a18035e79026",
   "metadata": {
    "tags": []
   },
   "outputs": [],
   "source": [
    "# Umap need a matrix obs by features\n",
    "Embed_Stack = np.vstack((ROSMAP_new_,ANMerge_new))\n",
    "\n",
    "# label\n",
    "N_K1 = np.shape(ROSMAP_new_)[0]\n",
    "Label = np.zeros(np.shape(Embed_Stack)[0])\n",
    "Label[N_K1:] = 4\n",
    "Label[0:N_K1] = DigitClass\n",
    "\n",
    "mapper = umap.UMAP().fit(Embed_Stack)"
   ]
  },
  {
   "cell_type": "code",
   "execution_count": 35,
   "id": "c02752dd-fd13-4a40-96fe-84ec6f7687e6",
   "metadata": {
    "tags": []
   },
   "outputs": [
    {
     "data": {
      "text/plain": [
       "<Axes: >"
      ]
     },
     "execution_count": 35,
     "metadata": {},
     "output_type": "execute_result"
    },
    {
     "data": {
      "image/png": "[encoded data removed]",
      "text/plain": [
       "<Figure size 800x800 with 1 Axes>"
      ]
     },
     "metadata": {},
     "output_type": "display_data"
    }
   ],
   "source": [
    "umap.plot.points(mapper, labels=Label)"
   ]
  },
  {
   "cell_type": "code",
   "execution_count": null,
   "id": "2c9d1ebf-dba5-4d49-a2d9-cc72689cc2b8",
   "metadata": {},
   "outputs": [],
   "source": []
  },
  {
   "cell_type": "markdown",
   "id": "384de624-68aa-4b5f-8345-9bd789661d86",
   "metadata": {},
   "source": [
    "## 3.2 KNN"
   ]
  },
  {
   "cell_type": "code",
   "execution_count": 36,
   "id": "43ed53d2-57d7-4236-8827-0501ea104fad",
   "metadata": {
    "tags": []
   },
   "outputs": [
    {
     "data": {
      "text/html": [
       "<style>#sk-container-id-2 {color: black;background-color: white;}#sk-container-id-2 pre{padding: 0;}#sk-container-id-2 div.sk-toggleable {background-color: white;}#sk-container-id-2 label.sk-toggleable__label {cursor: pointer;display: block;width: 100%;margin-bottom: 0;padding: 0.3em;box-sizing: border-box;text-align: center;}#sk-container-id-2 label.sk-toggleable__label-arrow:before {content: \"▸\";float: left;margin-right: 0.25em;color: #696969;}#sk-container-id-2 label.sk-toggleable__label-arrow:hover:before {color: black;}#sk-container-id-2 div.sk-estimator:hover label.sk-toggleable__label-arrow:before {color: black;}#sk-container-id-2 div.sk-toggleable__content {max-height: 0;max-width: 0;overflow: hidden;text-align: left;background-color: #f0f8ff;}#sk-container-id-2 div.sk-toggleable__content pre {margin: 0.2em;color: black;border-radius: 0.25em;background-color: #f0f8ff;}#sk-container-id-2 input.sk-toggleable__control:checked~div.sk-toggleable__content {max-height: 200px;max-width: 100%;overflow: auto;}#sk-container-id-2 input.sk-toggleable__control:checked~label.sk-toggleable__label-arrow:before {content: \"▾\";}#sk-container-id-2 div.sk-estimator input.sk-toggleable__control:checked~label.sk-toggleable__label {background-color: #d4ebff;}#sk-container-id-2 div.sk-label input.sk-toggleable__control:checked~label.sk-toggleable__label {background-color: #d4ebff;}#sk-container-id-2 input.sk-hidden--visually {border: 0;clip: rect(1px 1px 1px 1px);clip: rect(1px, 1px, 1px, 1px);height: 1px;margin: -1px;overflow: hidden;padding: 0;position: absolute;width: 1px;}#sk-container-id-2 div.sk-estimator {font-family: monospace;background-color: #f0f8ff;border: 1px dotted black;border-radius: 0.25em;box-sizing: border-box;margin-bottom: 0.5em;}#sk-container-id-2 div.sk-estimator:hover {background-color: #d4ebff;}#sk-container-id-2 div.sk-parallel-item::after {content: \"\";width: 100%;border-bottom: 1px solid gray;flex-grow: 1;}#sk-container-id-2 div.sk-label:hover label.sk-toggleable__label {background-color: #d4ebff;}#sk-container-id-2 div.sk-serial::before {content: \"\";position: absolute;border-left: 1px solid gray;box-sizing: border-box;top: 0;bottom: 0;left: 50%;z-index: 0;}#sk-container-id-2 div.sk-serial {display: flex;flex-direction: column;align-items: center;background-color: white;padding-right: 0.2em;padding-left: 0.2em;position: relative;}#sk-container-id-2 div.sk-item {position: relative;z-index: 1;}#sk-container-id-2 div.sk-parallel {display: flex;align-items: stretch;justify-content: center;background-color: white;position: relative;}#sk-container-id-2 div.sk-item::before, #sk-container-id-2 div.sk-parallel-item::before {content: \"\";position: absolute;border-left: 1px solid gray;box-sizing: border-box;top: 0;bottom: 0;left: 50%;z-index: -1;}#sk-container-id-2 div.sk-parallel-item {display: flex;flex-direction: column;z-index: 1;position: relative;background-color: white;}#sk-container-id-2 div.sk-parallel-item:first-child::after {align-self: flex-end;width: 50%;}#sk-container-id-2 div.sk-parallel-item:last-child::after {align-self: flex-start;width: 50%;}#sk-container-id-2 div.sk-parallel-item:only-child::after {width: 0;}#sk-container-id-2 div.sk-dashed-wrapped {border: 1px dashed gray;margin: 0 0.4em 0.5em 0.4em;box-sizing: border-box;padding-bottom: 0.4em;background-color: white;}#sk-container-id-2 div.sk-label label {font-family: monospace;font-weight: bold;display: inline-block;line-height: 1.2em;}#sk-container-id-2 div.sk-label-container {text-align: center;}#sk-container-id-2 div.sk-container {/* jupyter's `normalize.less` sets `[hidden] { display: none; }` but bootstrap.min.css set `[hidden] { display: none !important; }` so we also need the `!important` here to be able to override the default hidden behavior on the sphinx rendered scikit-learn.org. See: https://github.com/scikit-learn/scikit-learn/issues/21755 */display: inline-block !important;position: relative;}#sk-container-id-2 div.sk-text-repr-fallback {display: none;}</style><div id=\"sk-container-id-2\" class=\"sk-top-container\"><div class=\"sk-text-repr-fallback\"><pre>KNeighborsClassifier(n_neighbors=1)</pre><b>In a Jupyter environment, please rerun this cell to show the HTML representation or trust the notebook. <br />On GitHub, the HTML representation is unable to render, please try loading this page with nbviewer.org.</b></div><div class=\"sk-container\" hidden><div class=\"sk-item\"><div class=\"sk-estimator sk-toggleable\"><input class=\"sk-toggleable__control sk-hidden--visually\" id=\"sk-estimator-id-2\" type=\"checkbox\" checked><label for=\"sk-estimator-id-2\" class=\"sk-toggleable__label sk-toggleable__label-arrow\">KNeighborsClassifier</label><div class=\"sk-toggleable__content\"><pre>KNeighborsClassifier(n_neighbors=1)</pre></div></div></div></div></div>"
      ],
      "text/plain": [
       "KNeighborsClassifier(n_neighbors=1)"
      ]
     },
     "execution_count": 36,
     "metadata": {},
     "output_type": "execute_result"
    }
   ],
   "source": [
    "from sklearn.neighbors import KNeighborsClassifier\n",
    "\n",
    "ROSMAP_new_ = ROSMAP_new[0:157,:]\n",
    "neigh = KNeighborsClassifier(n_neighbors=1)\n",
    "neigh.fit(ROSMAP_new_,DigitClass)"
   ]
  },
  {
   "cell_type": "code",
   "execution_count": 37,
   "id": "8f1f8bfb-0994-4d04-a7ad-fa9e0808ef44",
   "metadata": {
    "tags": []
   },
   "outputs": [],
   "source": [
    "ANMergeSampleID_B2 = list(ANMergeFrame_B2.columns)\n",
    "\n",
    "y_pred = np.zeros(len(ANMergeSampleID_B2))\n",
    "y_pred = -1+y_pred\n",
    "\n",
    "Mapping_SID_PID_B2 = {}\n",
    "for i in range(len(ANMergeSampleID_B2)):\n",
    "    y_pred[i] = neigh.predict([ANMerge_new[i,:]])\n",
    "    Mapping_SID_PID_B2[ANMergeSampleID_B2[i]] = y_pred[i]\n",
    "    "
   ]
  },
  {
   "cell_type": "code",
   "execution_count": null,
   "id": "c3dc929e-354a-48f7-95b4-ce35f7e6589d",
   "metadata": {},
   "outputs": [],
   "source": []
  },
  {
   "cell_type": "markdown",
   "id": "cd5d2a88-5d83-4d2e-b7f5-3b673b0ef044",
   "metadata": {},
   "source": [
    "# 4. Combine result"
   ]
  },
  {
   "cell_type": "code",
   "execution_count": 38,
   "id": "5f01c242-fd52-4330-87b8-b9a01daf94f8",
   "metadata": {
    "tags": []
   },
   "outputs": [],
   "source": [
    "y_pred = np.zeros(len(ANMergeSampleID))\n",
    "y_pred = -1+y_pred\n",
    "\n",
    "for i in range(len(ANMergeSampleID)):\n",
    "    if ANMergeSampleID[i] in Mapping_SID_PID_B1.keys():\n",
    "        y_pred[i] = Mapping_SID_PID_B1[ANMergeSampleID[i]]\n",
    "        \n",
    "    if ANMergeSampleID[i] in Mapping_SID_PID_B2.keys():\n",
    "        y_pred[i] = Mapping_SID_PID_B2[ANMergeSampleID[i]]\n"
   ]
  },
  {
   "cell_type": "code",
   "execution_count": 39,
   "id": "c79d61d1-4155-46ad-92d1-ad82ec0bf57a",
   "metadata": {
    "tags": []
   },
   "outputs": [
    {
     "data": {
      "text/plain": [
       "array([3., 1., 2., 2., 0., 2., 2., 2., 2., 2., 0., 0., 3., 2., 2., 2., 0.,\n",
       "       2., 2., 2., 1., 2., 2., 2., 1., 1., 2., 2., 1., 2., 1., 2., 2., 2.,\n",
       "       2., 2., 2., 2., 1., 2., 0., 2., 2., 2., 2., 1., 0., 1., 2., 1., 2.,\n",
       "       1., 0., 2., 2., 1., 1., 2., 2., 2., 2., 1., 2., 2., 1., 2., 1., 2.,\n",
       "       1., 2., 2., 1., 1., 2., 2., 2., 2., 1., 2., 2., 2., 0., 2., 2., 1.,\n",
       "       2., 2., 1., 2., 1., 1., 2., 2., 2., 1., 2., 2., 1., 1., 2., 1., 2.,\n",
       "       2., 1., 2., 0., 2., 0., 2., 1., 2., 1., 1., 2., 2., 2., 2., 1., 3.,\n",
       "       3., 1., 2., 2., 1., 1., 0., 2., 1., 2., 2., 2., 1., 1., 2., 3., 3.,\n",
       "       2., 2., 2., 0., 2., 1., 2., 1., 2., 2., 1., 2., 1., 2., 2., 1., 1.,\n",
       "       2., 3., 1., 2., 1., 1., 0., 0., 0., 1., 2., 2., 2., 1., 0., 2., 1.,\n",
       "       2., 2., 2., 2., 1., 2., 2., 2., 2., 1., 2., 2., 1., 1., 2., 1., 1.,\n",
       "       1., 2., 2., 1., 2., 2., 2., 1., 2., 2., 2., 0., 0., 2., 2., 2., 2.,\n",
       "       2., 1., 1., 1., 2., 1., 1., 2., 0., 2., 1., 2., 2., 1., 2., 0., 2.,\n",
       "       2., 2., 1., 2., 0., 2., 2., 2., 2., 2., 2., 2., 2., 2., 2., 0., 2.,\n",
       "       2., 0., 1., 2., 2., 1., 2., 2., 2., 2., 2., 2., 2., 2., 2., 2., 1.,\n",
       "       2., 2., 1., 2., 0., 1., 1., 2., 2., 1., 2., 3., 1., 1., 2., 2., 1.,\n",
       "       2., 2., 1., 1., 2., 2., 1., 3., 2., 2., 2., 1., 1., 1., 1., 2., 1.,\n",
       "       2., 2., 0., 2., 2., 1., 0., 2., 2., 2., 0., 2., 1., 1., 0., 0., 1.,\n",
       "       1., 2., 1., 2., 1., 0., 2., 1., 0., 1., 1., 2., 2., 1., 0., 2., 2.,\n",
       "       1., 0., 2., 2., 1., 1., 0., 2., 0., 2., 3., 2., 2., 2., 0., 1., 2.,\n",
       "       2., 2., 2., 2., 2., 2., 2., 2., 2., 1., 2., 2., 2., 2., 0., 0., 1.,\n",
       "       2., 0., 2., 1., 2., 1., 1., 2., 1., 1., 2., 2., 1., 1., 1., 2., 2.,\n",
       "       1., 0., 2., 1., 2., 2., 2., 2., 2., 2., 2., 2., 2., 2., 2., 2., 0.,\n",
       "       2., 0., 2., 2., 2., 2., 1., 2., 2., 0., 1., 2., 0., 1., 1., 1., 1.,\n",
       "       2., 0., 2., 1., 2., 2., 2., 0., 2., 0., 2., 1., 0., 1., 2., 2., 0.,\n",
       "       1., 2., 0., 1., 0., 2., 1., 1., 2., 2., 2., 1., 2., 0., 2., 1., 1.,\n",
       "       2., 2., 2., 1., 2., 2., 1., 2., 0., 2., 2., 2., 2., 1., 2., 1., 2.,\n",
       "       2., 2., 2., 2., 0., 3., 2., 2., 2., 2., 2., 2., 2., 1., 2., 2., 1.,\n",
       "       1., 2., 0., 2., 0., 3., 2., 1., 2., 2., 1., 2., 1., 2., 1., 2., 2.,\n",
       "       0., 2., 2., 2., 2., 2., 0., 2., 2., 2., 1., 2., 1., 2., 2., 2., 1.,\n",
       "       2., 2., 0., 2., 2., 2., 2., 2., 2., 2., 1., 2., 2., 0., 2., 0., 2.,\n",
       "       1., 2., 2., 1., 1., 2., 2., 2., 2., 0., 1., 2., 1., 2., 2., 2., 2.,\n",
       "       2., 1., 1., 0., 2., 0., 1., 2., 2., 1., 0., 1., 1., 1., 2., 2., 2.,\n",
       "       2., 1., 2., 0., 2., 1., 2., 0., 2., 1., 1., 3., 2., 0., 2., 2., 2.,\n",
       "       2., 2., 2., 2., 2., 2., 0., 3., 2., 2., 2., 2., 2., 2., 1., 2., 1.,\n",
       "       2., 2., 2., 2., 1., 2., 1., 0., 2., 1., 1., 0., 1., 0., 2., 1., 3.,\n",
       "       2., 1., 2., 2., 0., 2., 2., 2., 2., 0., 2., 1., 1., 2., 2., 2., 2.,\n",
       "       2., 2., 0., 0., 2., 2., 1., 2., 1., 2., 1., 2., 2., 1., 2., 2., 2.,\n",
       "       2., 2., 2., 1., 2., 1., 2., 2., 2., 1., 2., 0., 0., 0., 2., 3., 2.,\n",
       "       0., 3., 1., 2., 1., 2., 1., 2., 1., 1., 1., 1., 2., 2., 2., 1., 2.,\n",
       "       2., 2., 2., 2., 2., 1., 2., 2., 1., 2., 2.])"
      ]
     },
     "execution_count": 39,
     "metadata": {},
     "output_type": "execute_result"
    }
   ],
   "source": [
    "y_pred"
   ]
  },
  {
   "cell_type": "code",
   "execution_count": null,
   "id": "6334540a-389c-406b-98ef-d10195a597f4",
   "metadata": {},
   "outputs": [],
   "source": []
  },
  {
   "cell_type": "markdown",
   "id": "a20e492c-1020-49c5-a5c6-b13acd0e6b20",
   "metadata": {},
   "source": [
    "# 5. Evaluation"
   ]
  },
  {
   "cell_type": "code",
   "execution_count": 40,
   "id": "b88567fd-7933-4621-849c-f9d1a3ed19ae",
   "metadata": {
    "tags": []
   },
   "outputs": [
    {
     "name": "stdout",
     "output_type": "stream",
     "text": [
      "precision of TAD is  0.6329787234042553\n",
      "precision of AAD  is  0.6798029556650246\n",
      "precision of CN  is  0.7625\n",
      "precision of LowTau is  0.8235294117647058\n",
      "Avg Acc is  0.7247027727084965\n"
     ]
    }
   ],
   "source": [
    "#Mapping = {'Control': 0, 'Typical.AD': 1, 'Asym.AD': 2, 'LowNFT.AD': 3}\n",
    "#Mapping = {'CTL': 0, 'AD': 1, 'MCI': 2}\n",
    "\n",
    "#avg pre\n",
    "Avg_Acc = 0\n",
    "pred_ind_cn = np.where(y_pred==0)[0]\n",
    "true_ind_cn = np.where(y_true==0)[0]\n",
    "overlap = list(set(pred_ind_cn) & set(true_ind_cn))\n",
    "\n",
    "pred_ind_aad = np.where(y_pred==2)[0]\n",
    "true_ind_aad = np.where(y_true==2)[0]\n",
    "overlap = list(set(pred_ind_aad) & set(true_ind_aad))\n",
    "\n",
    "pred_ind_tad = np.where(y_pred==1)[0]\n",
    "true_ind_tad = np.where(y_true==1)[0]\n",
    "true_ind_tad_aad = list(true_ind_aad) + list(true_ind_tad)\n",
    "overlap = list(set(pred_ind_tad) & set(true_ind_tad_aad))\n",
    "print(\"precision of TAD is \", len(overlap)/len(pred_ind_tad))\n",
    "Avg_Acc = Avg_Acc + len(overlap)/len(pred_ind_tad)\n",
    "\n",
    "pred_ind_aad_cn = list(pred_ind_aad) #+ list(pred_ind_cn)\n",
    "true_ind_aad_cn = list(true_ind_cn) + list(true_ind_aad)\n",
    "overlap = list(set(pred_ind_aad_cn) & set(true_ind_aad_cn))\n",
    "print(\"precision of AAD  is \", len(overlap)/len(pred_ind_aad_cn))\n",
    "Avg_Acc = Avg_Acc + len(overlap)/len(pred_ind_aad_cn)\n",
    "\n",
    "pred_ind_aad_cn = list(pred_ind_cn) #list(pred_ind_aad) + \n",
    "true_ind_aad_cn = list(true_ind_cn) + list(true_ind_aad)\n",
    "overlap = list(set(pred_ind_aad_cn) & set(true_ind_aad_cn))\n",
    "if len(pred_ind_aad_cn) == 0:\n",
    "    print(\"precision of CN  is 0\")\n",
    "else:\n",
    "    print(\"precision of CN  is \", len(overlap)/len(pred_ind_aad_cn))\n",
    "    Avg_Acc = Avg_Acc + len(overlap)/len(pred_ind_aad_cn)\n",
    "\n",
    "pred_ind_lt = np.where(y_pred==3)[0]\n",
    "true_ind_lt = np.where(y_true==1)[0]\n",
    "true_ind_lt_aad = list(true_ind_aad) + list(true_ind_lt)\n",
    "overlap = list(set(pred_ind_lt) & set(true_ind_lt_aad))\n",
    "if len(pred_ind_lt) == 0:\n",
    "    print(\"precision of LowTau is 0\")\n",
    "else:\n",
    "    print(\"precision of LowTau is \", len(overlap)/len(pred_ind_lt))\n",
    "    Avg_Acc = Avg_Acc + len(overlap)/len(pred_ind_lt)\n",
    "    \n",
    "print(\"Avg Acc is \", Avg_Acc/4.)"
   ]
  },
  {
   "cell_type": "code",
   "execution_count": null,
   "id": "25d4e7e9-2155-4bf0-bbc7-8bd73070b74e",
   "metadata": {},
   "outputs": [],
   "source": []
  },
  {
   "cell_type": "code",
   "execution_count": null,
   "id": "36c9df9e-9541-45a9-95dc-69703e20b8a1",
   "metadata": {},
   "outputs": [],
   "source": []
  },
  {
   "cell_type": "code",
   "execution_count": 41,
   "id": "01bb8307-0cb6-4074-8b02-ca259ba8f0b5",
   "metadata": {
    "tags": []
   },
   "outputs": [
    {
     "name": "stdout",
     "output_type": "stream",
     "text": [
      "691\n"
     ]
    }
   ],
   "source": [
    "# output Mapping\n",
    "ReverseMapping = {0:'Control', 1:'Typical AD', 2: 'Asym AD', 3: 'Low-NFT AD'}\n",
    "ADNI_SID = ANMergeFrame.columns.values\n",
    "print(len(ADNI_SID))\n",
    "fname =\"./ANMerge_2Batch_Transfered_Label_overlap_log.csv\"\n",
    "fh = open(fname, 'w')\n",
    "fh.write(\"Sample_ID,Label\\n\")\n",
    "for i in range(len(ADNI_SID)):\n",
    "    fh.write(\"%s,%s\\n\" % (ADNI_SID[i], ReverseMapping[y_pred[i]]))\n",
    "fh.close()"
   ]
  },
  {
   "cell_type": "code",
   "execution_count": null,
   "id": "6d7eec46-600c-4cf1-a53c-71942bebe32c",
   "metadata": {},
   "outputs": [],
   "source": []
  },
  {
   "cell_type": "code",
   "execution_count": null,
   "id": "5e27b5e8-c1ea-4e11-8e1b-63627aee1622",
   "metadata": {},
   "outputs": [],
   "source": []
  },
  {
   "cell_type": "code",
   "execution_count": null,
   "id": "3b987c82-f95e-401d-8ab2-37c1bf13ca74",
   "metadata": {},
   "outputs": [],
   "source": []
  },
  {
   "cell_type": "code",
   "execution_count": null,
   "id": "a9329c18-4147-4743-8666-43adeda50f4f",
   "metadata": {},
   "outputs": [],
   "source": []
  },
  {
   "cell_type": "code",
   "execution_count": null,
   "id": "842bad62-c94a-4fa2-b984-1df7d2ee970e",
   "metadata": {},
   "outputs": [],
   "source": []
  },
  {
   "cell_type": "code",
   "execution_count": null,
   "id": "d76d3669-7648-4f80-ba8f-b13abd1b7419",
   "metadata": {},
   "outputs": [],
   "source": []
  },
  {
   "cell_type": "code",
   "execution_count": null,
   "id": "5265f501-6ed0-4a93-a4b5-d511d9d143d9",
   "metadata": {},
   "outputs": [],
   "source": []
  },
  {
   "cell_type": "code",
   "execution_count": null,
   "id": "f06549f5-81bd-4064-b0a4-b7b099ac9415",
   "metadata": {},
   "outputs": [],
   "source": []
  },
  {
   "cell_type": "code",
   "execution_count": null,
   "id": "8af25a20-9ad9-47aa-b82f-bd5d2ec4169a",
   "metadata": {},
   "outputs": [],
   "source": []
  },
  {
   "cell_type": "code",
   "execution_count": null,
   "id": "3214b799-bccb-433e-8ad0-3b737f4f6ff4",
   "metadata": {},
   "outputs": [],
   "source": []
  },
  {
   "cell_type": "code",
   "execution_count": null,
   "id": "167f64a7-e11a-4817-8d86-6b19274d16e8",
   "metadata": {},
   "outputs": [],
   "source": []
  },
  {
   "cell_type": "code",
   "execution_count": null,
   "id": "29a5bc12-ef6d-47bd-904a-8020ba05dac6",
   "metadata": {},
   "outputs": [],
   "source": []
  },
  {
   "cell_type": "code",
   "execution_count": 42,
   "id": "53ee7d6f-053b-45b6-8e74-54acb93fb9a3",
   "metadata": {},
   "outputs": [
    {
     "data": {
      "text/plain": [
       "3"
      ]
     },
     "execution_count": 42,
     "metadata": {},
     "output_type": "execute_result"
    }
   ],
   "source": [
    "3"
   ]
  },
  {
   "cell_type": "code",
   "execution_count": null,
   "id": "72c10e3d-6791-41b2-bc01-c8c9d0f74c94",
   "metadata": {},
   "outputs": [],
   "source": []
  },
  {
   "cell_type": "code",
   "execution_count": null,
   "id": "f16c58de-2f4e-41f0-b62d-89b491648a57",
   "metadata": {},
   "outputs": [],
   "source": []
  },
  {
   "cell_type": "code",
   "execution_count": null,
   "id": "9493e250",
   "metadata": {},
   "outputs": [],
   "source": []
  },
  {
   "cell_type": "code",
   "execution_count": null,
   "id": "ca3445f8",
   "metadata": {},
   "outputs": [],
   "source": []
  }
 ],
 "metadata": {
  "kernelspec": {
   "display_name": "Python 3 (ipykernel)",
   "language": "python",
   "name": "python3"
  },
  "language_info": {
   "codemirror_mode": {
    "name": "ipython",
    "version": 3
   },
   "file_extension": ".py",
   "mimetype": "text/x-python",
   "name": "python",
   "nbconvert_exporter": "python",
   "pygments_lexer": "ipython3",
   "version": "3.10.8"
  }
 },
 "nbformat": 4,
 "nbformat_minor": 5
}
